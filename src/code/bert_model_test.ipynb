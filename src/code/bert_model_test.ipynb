{
 "cells": [
  {
   "cell_type": "markdown",
   "metadata": {
    "colab_type": "text",
    "id": "EKOTlwcmxmej"
   },
   "source": [
    "# BERT Fine-Tuning Tutorial with PyTorch\n",
    "\n",
    "By Chris McCormick and Nick Ryan"
   ]
  },
  {
   "cell_type": "markdown",
   "metadata": {
    "colab_type": "text",
    "id": "MPgpITmdwvX0"
   },
   "source": [
    "*Revised on March 20, 2020 - Switched to `tokenizer.encode_plus` and added validation loss. See [Revision History](https://colab.research.google.com/drive/1pTuQhug6Dhl9XalKB0zUGf4FIdYFlpcX#scrollTo=IKzLS9ohzGVu) at the end for details.*\n",
    "\n",
    "\n"
   ]
  },
  {
   "cell_type": "markdown",
   "metadata": {
    "colab_type": "text",
    "id": "BJR6t_gCQe_x"
   },
   "source": [
    "In this tutorial I'll show you how to use BERT with the huggingface PyTorch library to quickly and efficiently fine-tune a model to get near state of the art performance in sentence classification. More broadly, I describe the practical application of transfer learning in NLP to create high performance models with minimal effort on a range of NLP tasks.\n",
    "\n",
    "This post is presented in two forms--as a blog post [here](http://mccormickml.com/2019/07/22/BERT-fine-tuning/) and as a Colab Notebook [here](https://colab.research.google.com/drive/1pTuQhug6Dhl9XalKB0zUGf4FIdYFlpcX). \n",
    "\n",
    "The content is identical in both, but: \n",
    "* The blog post includes a comments section for discussion. \n",
    "* The Colab Notebook will allow you to run the code and inspect it as you read through.\n",
    "\n",
    "I've also published a video walkthrough of this post on my YouTube channel! [Part 1](https://youtu.be/x66kkDnbzi4) and [Part 2](https://youtu.be/Hnvb9b7a_Ps).\n",
    "\n"
   ]
  },
  {
   "cell_type": "markdown",
   "metadata": {
    "colab_type": "text",
    "id": "jrC9__lXxTJz"
   },
   "source": [
    "# Contents"
   ]
  },
  {
   "cell_type": "markdown",
   "metadata": {
    "colab_type": "text",
    "id": "p9MCBOq4xUpr"
   },
   "source": [
    "See \"Table of contents\" in the sidebar to the left."
   ]
  },
  {
   "cell_type": "markdown",
   "metadata": {
    "colab_type": "text",
    "id": "ADkUGTqixRWo"
   },
   "source": [
    "# Introduction"
   ]
  },
  {
   "cell_type": "markdown",
   "metadata": {
    "colab_type": "text",
    "id": "L9vxxTBsuL24"
   },
   "source": [
    "\n",
    "## History\n",
    "\n",
    "2018 was a breakthrough year in NLP. Transfer learning, particularly models like Allen AI's ELMO, OpenAI's Open-GPT, and Google's BERT allowed researchers to smash multiple benchmarks with minimal task-specific fine-tuning and provided the rest of the NLP community with pretrained models that could easily (with less data and less compute time) be fine-tuned and implemented to produce state of the art results. Unfortunately, for many starting out in NLP and even for some experienced practicioners, the theory and practical application of these powerful models is still not well understood.\n"
   ]
  },
  {
   "cell_type": "markdown",
   "metadata": {
    "colab_type": "text",
    "id": "qCgvR9INuP5q"
   },
   "source": [
    "\n",
    "## What is BERT?\n",
    "\n",
    "BERT (Bidirectional Encoder Representations from Transformers), released in late 2018, is the model we will use in this tutorial to provide readers with a better understanding of and practical guidance for using transfer learning models in NLP. BERT is a method of pretraining language representations that was used to create models that NLP practicioners can then download and use for free. You can either use these models to extract high quality language features from your text data, or you can fine-tune these models on a specific task (classification, entity recognition, question answering, etc.) with your own data to produce state of the art predictions.\n",
    "\n",
    "This post will explain how you can modify and fine-tune BERT to create a powerful NLP model that quickly gives you state of the art results. \n"
   ]
  },
  {
   "cell_type": "markdown",
   "metadata": {
    "colab_type": "text",
    "id": "DaVGdtOkuXUZ"
   },
   "source": [
    "\n",
    "## Advantages of Fine-Tuning\n"
   ]
  },
  {
   "cell_type": "markdown",
   "metadata": {
    "colab_type": "text",
    "id": "5llwu8GBuqMb"
   },
   "source": [
    "\n",
    "In this tutorial, we will use BERT to train a text classifier. Specifically, we will take the pre-trained BERT model, add an untrained layer of neurons on the end, and train the new model for our classification task. Why do this rather than train a train a specific deep learning model (a CNN, BiLSTM, etc.) that is well suited for the specific NLP task you need? \n",
    "\n",
    "1. **Quicker Development**\n",
    "\n",
    "    * First, the pre-trained BERT model weights already encode a lot of information about our language. As a result, it takes much less time to train our fine-tuned model - it is as if we have already trained the bottom layers of our network extensively and only need to gently tune them while using their output as features for our classification task. In fact, the authors recommend only 2-4 epochs of training for fine-tuning BERT on a specific NLP task (compared to the hundreds of GPU hours needed to train the original BERT model or a LSTM from scratch!). \n",
    "\n",
    "2. **Less Data**\n",
    "\n",
    "    * In addition and perhaps just as important, because of the pre-trained weights this method allows us to fine-tune our task on a much smaller dataset than would be required in a model that is built from scratch. A major drawback of NLP models built from scratch is that we often need a prohibitively large dataset in order to train our network to reasonable accuracy, meaning a lot of time and energy had to be put into dataset creation. By fine-tuning BERT, we are now able to get away with training a model to good performance on a much smaller amount of training data.\n",
    "\n",
    "3. **Better Results**\n",
    "\n",
    "    * Finally, this simple fine-tuning procedure (typically adding one fully-connected layer on top of BERT and training for a few epochs) was shown to achieve state of the art results with minimal task-specific adjustments for a wide variety of tasks: classification, language inference, semantic similarity, question answering, etc. Rather than implementing custom and sometimes-obscure architetures shown to work well on a specific task, simply fine-tuning BERT is shown to be a better (or at least equal) alternative.\n"
   ]
  },
  {
   "cell_type": "markdown",
   "metadata": {
    "colab_type": "text",
    "id": "ZEynC5F4u7Nb"
   },
   "source": [
    "\n",
    "### A Shift in NLP\n",
    "\n",
    "This shift to transfer learning parallels the same shift that took place in computer vision a few years ago. Creating a good deep learning network for computer vision tasks can take millions of parameters and be very expensive to train. Researchers discovered that deep networks learn hierarchical feature representations (simple features like edges at the lowest layers with gradually more complex features at higher layers). Rather than training a new network from scratch each time, the lower layers of a trained network with generalized image features could be copied and transfered for use in another network with a different task. It soon became common practice to download a pre-trained deep network and quickly retrain it for the new task or add additional layers on top - vastly preferable to the expensive process of training a network from scratch. For many, the introduction of deep pre-trained language models in 2018 (ELMO, BERT, ULMFIT, Open-GPT, etc.) signals the same shift to transfer learning in NLP that computer vision saw.\n",
    "\n",
    "Let's get started!"
   ]
  },
  {
   "cell_type": "markdown",
   "metadata": {
    "colab_type": "text",
    "id": "2-Th8bRio6A4"
   },
   "source": [
    "[![BERT eBook Display Ad](http://www.mccormickml.com/assets/BERT/BERT_eBook_Display_Ad.png)](https://bit.ly/30JzuBH)\n"
   ]
  },
  {
   "cell_type": "markdown",
   "metadata": {
    "colab_type": "text",
    "id": "RX_ZDhicpHkV"
   },
   "source": [
    "# 1. Setup"
   ]
  },
  {
   "cell_type": "markdown",
   "metadata": {
    "colab_type": "text",
    "id": "nSU7yERLP_66"
   },
   "source": [
    "## 1.1. Using Colab GPU for Training\n"
   ]
  },
  {
   "cell_type": "markdown",
   "metadata": {
    "colab_type": "text",
    "id": "GI0iOY8zvZzL"
   },
   "source": [
    "\n",
    "Google Colab offers free GPUs and TPUs! Since we'll be training a large neural network it's best to take advantage of this (in this case we'll attach a GPU), otherwise training will take a very long time.\n",
    "\n",
    "A GPU can be added by going to the menu and selecting:\n",
    "\n",
    "`Edit 🡒 Notebook Settings 🡒 Hardware accelerator 🡒 (GPU)`\n",
    "\n",
    "Then run the following cell to confirm that the GPU is detected."
   ]
  },
  {
   "cell_type": "code",
   "execution_count": 1,
   "metadata": {
    "colab": {
     "base_uri": "https://localhost:8080/",
     "height": 34
    },
    "colab_type": "code",
    "executionInfo": {
     "elapsed": 8070,
     "status": "ok",
     "timestamp": 1600859008955,
     "user": {
      "displayName": "Samuel Wallace",
      "photoUrl": "https://lh3.googleusercontent.com/a-/AOh14GieGc751pI1iFeZZkuR0v9y05mAb2oH3wokXOew=s64",
      "userId": "05300670275551486533"
     },
     "user_tz": 240
    },
    "id": "DEfSbAA4QHas",
    "outputId": "6865e260-f211-4ecb-a5b9-025aabfd6f5a"
   },
   "outputs": [
    {
     "name": "stderr",
     "output_type": "stream",
     "text": [
      "C:\\Users\\quynh\\anaconda3\\lib\\site-packages\\tensorflow\\python\\framework\\dtypes.py:516: FutureWarning: Passing (type, 1) or '1type' as a synonym of type is deprecated; in a future version of numpy, it will be understood as (type, (1,)) / '(1,)type'.\n",
      "  _np_qint8 = np.dtype([(\"qint8\", np.int8, 1)])\n",
      "C:\\Users\\quynh\\anaconda3\\lib\\site-packages\\tensorflow\\python\\framework\\dtypes.py:517: FutureWarning: Passing (type, 1) or '1type' as a synonym of type is deprecated; in a future version of numpy, it will be understood as (type, (1,)) / '(1,)type'.\n",
      "  _np_quint8 = np.dtype([(\"quint8\", np.uint8, 1)])\n",
      "C:\\Users\\quynh\\anaconda3\\lib\\site-packages\\tensorflow\\python\\framework\\dtypes.py:518: FutureWarning: Passing (type, 1) or '1type' as a synonym of type is deprecated; in a future version of numpy, it will be understood as (type, (1,)) / '(1,)type'.\n",
      "  _np_qint16 = np.dtype([(\"qint16\", np.int16, 1)])\n",
      "C:\\Users\\quynh\\anaconda3\\lib\\site-packages\\tensorflow\\python\\framework\\dtypes.py:519: FutureWarning: Passing (type, 1) or '1type' as a synonym of type is deprecated; in a future version of numpy, it will be understood as (type, (1,)) / '(1,)type'.\n",
      "  _np_quint16 = np.dtype([(\"quint16\", np.uint16, 1)])\n",
      "C:\\Users\\quynh\\anaconda3\\lib\\site-packages\\tensorflow\\python\\framework\\dtypes.py:520: FutureWarning: Passing (type, 1) or '1type' as a synonym of type is deprecated; in a future version of numpy, it will be understood as (type, (1,)) / '(1,)type'.\n",
      "  _np_qint32 = np.dtype([(\"qint32\", np.int32, 1)])\n",
      "C:\\Users\\quynh\\anaconda3\\lib\\site-packages\\tensorflow\\python\\framework\\dtypes.py:525: FutureWarning: Passing (type, 1) or '1type' as a synonym of type is deprecated; in a future version of numpy, it will be understood as (type, (1,)) / '(1,)type'.\n",
      "  np_resource = np.dtype([(\"resource\", np.ubyte, 1)])\n"
     ]
    },
    {
     "name": "stdout",
     "output_type": "stream",
     "text": [
      "Found GPU at: \n"
     ]
    },
    {
     "name": "stderr",
     "output_type": "stream",
     "text": [
      "C:\\Users\\quynh\\anaconda3\\lib\\site-packages\\tensorboard\\compat\\tensorflow_stub\\dtypes.py:541: FutureWarning: Passing (type, 1) or '1type' as a synonym of type is deprecated; in a future version of numpy, it will be understood as (type, (1,)) / '(1,)type'.\n",
      "  _np_qint8 = np.dtype([(\"qint8\", np.int8, 1)])\n",
      "C:\\Users\\quynh\\anaconda3\\lib\\site-packages\\tensorboard\\compat\\tensorflow_stub\\dtypes.py:542: FutureWarning: Passing (type, 1) or '1type' as a synonym of type is deprecated; in a future version of numpy, it will be understood as (type, (1,)) / '(1,)type'.\n",
      "  _np_quint8 = np.dtype([(\"quint8\", np.uint8, 1)])\n",
      "C:\\Users\\quynh\\anaconda3\\lib\\site-packages\\tensorboard\\compat\\tensorflow_stub\\dtypes.py:543: FutureWarning: Passing (type, 1) or '1type' as a synonym of type is deprecated; in a future version of numpy, it will be understood as (type, (1,)) / '(1,)type'.\n",
      "  _np_qint16 = np.dtype([(\"qint16\", np.int16, 1)])\n",
      "C:\\Users\\quynh\\anaconda3\\lib\\site-packages\\tensorboard\\compat\\tensorflow_stub\\dtypes.py:544: FutureWarning: Passing (type, 1) or '1type' as a synonym of type is deprecated; in a future version of numpy, it will be understood as (type, (1,)) / '(1,)type'.\n",
      "  _np_quint16 = np.dtype([(\"quint16\", np.uint16, 1)])\n",
      "C:\\Users\\quynh\\anaconda3\\lib\\site-packages\\tensorboard\\compat\\tensorflow_stub\\dtypes.py:545: FutureWarning: Passing (type, 1) or '1type' as a synonym of type is deprecated; in a future version of numpy, it will be understood as (type, (1,)) / '(1,)type'.\n",
      "  _np_qint32 = np.dtype([(\"qint32\", np.int32, 1)])\n",
      "C:\\Users\\quynh\\anaconda3\\lib\\site-packages\\tensorboard\\compat\\tensorflow_stub\\dtypes.py:550: FutureWarning: Passing (type, 1) or '1type' as a synonym of type is deprecated; in a future version of numpy, it will be understood as (type, (1,)) / '(1,)type'.\n",
      "  np_resource = np.dtype([(\"resource\", np.ubyte, 1)])\n"
     ]
    }
   ],
   "source": [
    "import tensorflow as tf\n",
    "\n",
    "# Get the GPU device name.\n",
    "device_name = tf.test.gpu_device_name()\n",
    "\n",
    "# The device name should look like the following:\n",
    "print('Found GPU at: {}'.format(device_name))"
   ]
  },
  {
   "cell_type": "markdown",
   "metadata": {
    "colab_type": "text",
    "id": "cqG7FzRVFEIv"
   },
   "source": [
    "In order for torch to use the GPU, we need to identify and specify the GPU as the device. Later, in our training loop, we will load data onto the device. "
   ]
  },
  {
   "cell_type": "code",
   "execution_count": 2,
   "metadata": {
    "colab": {
     "base_uri": "https://localhost:8080/",
     "height": 52
    },
    "colab_type": "code",
    "executionInfo": {
     "elapsed": 4477,
     "status": "ok",
     "timestamp": 1600859017891,
     "user": {
      "displayName": "Samuel Wallace",
      "photoUrl": "https://lh3.googleusercontent.com/a-/AOh14GieGc751pI1iFeZZkuR0v9y05mAb2oH3wokXOew=s64",
      "userId": "05300670275551486533"
     },
     "user_tz": 240
    },
    "id": "oYsV4H8fCpZ-",
    "outputId": "6a7358de-c1d8-41e9-9997-e7908594fcbc"
   },
   "outputs": [
    {
     "name": "stdout",
     "output_type": "stream",
     "text": [
      "There are 1 GPU(s) available.\n",
      "We will use the GPU: GeForce RTX 2070 with Max-Q Design\n"
     ]
    }
   ],
   "source": [
    "import torch\n",
    "\n",
    "# If there's a GPU available...\n",
    "if torch.cuda.is_available():    \n",
    "\n",
    "    # Tell PyTorch to use the GPU.    \n",
    "    device = torch.device(\"cuda\")\n",
    "\n",
    "    print('There are %d GPU(s) available.' % torch.cuda.device_count())\n",
    "\n",
    "    print('We will use the GPU:', torch.cuda.get_device_name(0))\n",
    "\n",
    "# If not...\n",
    "else:\n",
    "    print('No GPU available, using the CPU instead.')\n",
    "    device = torch.device(\"cpu\")"
   ]
  },
  {
   "cell_type": "markdown",
   "metadata": {
    "colab_type": "text",
    "id": "2ElsnSNUridI"
   },
   "source": [
    "## 1.2. Installing the Hugging Face Library\n"
   ]
  },
  {
   "cell_type": "markdown",
   "metadata": {
    "colab_type": "text",
    "id": "G_N2UDLevYWn"
   },
   "source": [
    "\n",
    "Next, let's install the [transformers](https://github.com/huggingface/transformers) package from Hugging Face which will give us a pytorch interface for working with BERT. (This library contains interfaces for other pretrained language models like OpenAI's GPT and GPT-2.) We've selected the pytorch interface because it strikes a nice balance between the high-level APIs (which are easy to use but don't provide insight into how things work) and tensorflow code (which contains lots of details but often sidetracks us into lessons about tensorflow, when the purpose here is BERT!).\n",
    "\n",
    "At the moment, the Hugging Face library seems to be the most widely accepted and powerful pytorch interface for working with BERT. In addition to supporting a variety of different pre-trained transformer models, the library also includes pre-built modifications of these models suited to your specific task. For example, in this tutorial we will use `BertForSequenceClassification`.\n",
    "\n",
    "The library also includes task-specific classes for token classification, question answering, next sentence prediciton, etc. Using these pre-built classes simplifies the process of modifying BERT for your purposes.\n"
   ]
  },
  {
   "cell_type": "code",
   "execution_count": 3,
   "metadata": {
    "colab": {
     "base_uri": "https://localhost:8080/",
     "height": 627
    },
    "colab_type": "code",
    "executionInfo": {
     "elapsed": 8559,
     "status": "ok",
     "timestamp": 1600859041390,
     "user": {
      "displayName": "Samuel Wallace",
      "photoUrl": "https://lh3.googleusercontent.com/a-/AOh14GieGc751pI1iFeZZkuR0v9y05mAb2oH3wokXOew=s64",
      "userId": "05300670275551486533"
     },
     "user_tz": 240
    },
    "id": "0NmMdkZO8R6q",
    "outputId": "09853428-147d-42d7-909f-4c291bf350a6"
   },
   "outputs": [
    {
     "name": "stdout",
     "output_type": "stream",
     "text": [
      "Collecting transformers\n",
      "  Downloading transformers-3.3.1-py3-none-any.whl (1.1 MB)\n",
      "Requirement already satisfied: numpy in c:\\python38\\lib\\site-packages (from transformers) (1.19.2)\n",
      "Collecting filelock\n",
      "  Using cached filelock-3.0.12-py3-none-any.whl (7.6 kB)\n",
      "Collecting sentencepiece!=0.1.92\n",
      "  Downloading sentencepiece-0.1.91-cp38-cp38-win_amd64.whl (1.2 MB)\n",
      "Collecting packaging\n",
      "  Downloading packaging-20.4-py2.py3-none-any.whl (37 kB)\n",
      "Collecting tqdm>=4.27\n",
      "  Downloading tqdm-4.50.0-py2.py3-none-any.whl (70 kB)\n",
      "Collecting sacremoses\n",
      "  Downloading sacremoses-0.0.43.tar.gz (883 kB)\n",
      "Collecting tokenizers==0.8.1.rc2\n",
      "  Downloading tokenizers-0.8.1rc2-cp38-cp38-win_amd64.whl (1.9 MB)\n",
      "Collecting requests\n",
      "  Using cached requests-2.24.0-py2.py3-none-any.whl (61 kB)\n",
      "Collecting regex!=2019.12.17\n",
      "  Downloading regex-2020.9.27-cp38-cp38-win_amd64.whl (264 kB)\n",
      "Collecting pyparsing>=2.0.2\n",
      "  Downloading pyparsing-2.4.7-py2.py3-none-any.whl (67 kB)\n",
      "Requirement already satisfied: six in c:\\python38\\lib\\site-packages (from packaging->transformers) (1.15.0)\n",
      "Collecting click\n",
      "  Using cached click-7.1.2-py2.py3-none-any.whl (82 kB)\n",
      "Collecting joblib\n",
      "  Using cached joblib-0.16.0-py3-none-any.whl (300 kB)\n",
      "Collecting idna<3,>=2.5\n",
      "  Using cached idna-2.10-py2.py3-none-any.whl (58 kB)\n",
      "Collecting urllib3!=1.25.0,!=1.25.1,<1.26,>=1.21.1\n",
      "  Using cached urllib3-1.25.10-py2.py3-none-any.whl (127 kB)\n",
      "Collecting certifi>=2017.4.17\n",
      "  Using cached certifi-2020.6.20-py2.py3-none-any.whl (156 kB)\n",
      "Collecting chardet<4,>=3.0.2\n",
      "  Using cached chardet-3.0.4-py2.py3-none-any.whl (133 kB)\n",
      "Using legacy setup.py install for sacremoses, since package 'wheel' is not installed.\n",
      "Installing collected packages: filelock, sentencepiece, pyparsing, packaging, tqdm, regex, click, joblib, sacremoses, tokenizers, idna, urllib3, certifi, chardet, requests, transformers\n"
     ]
    },
    {
     "name": "stderr",
     "output_type": "stream",
     "text": [
      "ERROR: Could not install packages due to an EnvironmentError: [Errno 13] Permission denied: 'c:\\\\python38\\\\Lib\\\\site-packages\\\\__pycache__\\\\filelock.cpython-38.pyc'\n",
      "Consider using the `--user` option or check the permissions.\n",
      "\n",
      "WARNING: You are using pip version 20.1.1; however, version 20.2.3 is available.\n",
      "You should consider upgrading via the 'c:\\python38\\python.exe -m pip install --upgrade pip' command.\n"
     ]
    }
   ],
   "source": [
    "!pip3 install transformers"
   ]
  },
  {
   "cell_type": "markdown",
   "metadata": {
    "colab_type": "text",
    "id": "lxddqmruamSj"
   },
   "source": [
    "The code in this notebook is actually a simplified version of the [run_glue.py](https://github.com/huggingface/transformers/blob/master/examples/run_glue.py) example script from huggingface.\n",
    "\n",
    "`run_glue.py` is a helpful utility which allows you to pick which GLUE benchmark task you want to run on, and which pre-trained model you want to use (you can see the list of possible models [here](https://github.com/huggingface/transformers/blob/e6cff60b4cbc1158fbd6e4a1c3afda8dc224f566/examples/run_glue.py#L69)). It also supports using either the CPU, a single GPU, or multiple GPUs. It even supports using 16-bit precision if you want further speed up.\n",
    "\n",
    "Unfortunately, all of this configurability comes at the cost of *readability*. In this Notebook, we've simplified the code greatly and added plenty of comments to make it clear what's going on. "
   ]
  },
  {
   "cell_type": "markdown",
   "metadata": {
    "colab_type": "text",
    "id": "guw6ZNtaswKc"
   },
   "source": [
    "# 2. Loading CoLA Dataset\n"
   ]
  },
  {
   "cell_type": "markdown",
   "metadata": {
    "colab_type": "text",
    "id": "_9ZKxKc04Btk"
   },
   "source": [
    "We'll use [The Corpus of Linguistic Acceptability (CoLA)](https://nyu-mll.github.io/CoLA/) dataset for single sentence classification. It's a set of sentences labeled as grammatically correct or incorrect. It was first published in May of 2018, and is one of the tests included in the \"GLUE Benchmark\" on which models like BERT are competing.\n"
   ]
  },
  {
   "cell_type": "markdown",
   "metadata": {
    "colab_type": "text",
    "id": "4JrUHXms16cn"
   },
   "source": [
    "## 2.1. Download & Extract"
   ]
  },
  {
   "cell_type": "markdown",
   "metadata": {
    "colab_type": "text",
    "id": "3ZNVW6xd0T0X"
   },
   "source": [
    "We'll use the `wget` package to download the dataset to the Colab instance's file system. "
   ]
  },
  {
   "cell_type": "code",
   "execution_count": 4,
   "metadata": {
    "colab": {
     "base_uri": "https://localhost:8080/",
     "height": 34
    },
    "colab_type": "code",
    "executionInfo": {
     "elapsed": 7214,
     "status": "ok",
     "timestamp": 1584545928385,
     "user": {
      "displayName": "Chris McCormick",
      "photoUrl": "https://lh3.googleusercontent.com/a-/AOh14GjxR2-AAxzOaDHrQaxAtXJQMyx43dPUv51hlUf7=s64",
      "userId": "09546877251175560539"
     },
     "user_tz": 420
    },
    "id": "5m6AnuFv0QXQ",
    "outputId": "dad7440c-0ec0-4d80-b80d-a6f96efa7787"
   },
   "outputs": [
    {
     "name": "stdout",
     "output_type": "stream",
     "text": [
      "Collecting wget\n",
      "  Downloading wget-3.2.zip (10 kB)\n",
      "Building wheels for collected packages: wget\n",
      "  Building wheel for wget (setup.py): started\n",
      "  Building wheel for wget (setup.py): finished with status 'done'\n",
      "  Created wheel for wget: filename=wget-3.2-py3-none-any.whl size=9686 sha256=7db53aef453a62b38e8f343fff040bc1198a9e610d85b11fdddae99bcd0123bf\n",
      "  Stored in directory: c:\\users\\quynh\\appdata\\local\\pip\\cache\\wheels\\a1\\b6\\7c\\0e63e34eb06634181c63adacca38b79ff8f35c37e3c13e3c02\n",
      "Successfully built wget\n",
      "Installing collected packages: wget\n",
      "Successfully installed wget-3.2\n"
     ]
    }
   ],
   "source": [
    "!pip install wget"
   ]
  },
  {
   "cell_type": "markdown",
   "metadata": {
    "colab_type": "text",
    "id": "08pO03Ff1BjI"
   },
   "source": [
    "The dataset is hosted on GitHub in this repo: https://nyu-mll.github.io/CoLA/"
   ]
  },
  {
   "cell_type": "code",
   "execution_count": 5,
   "metadata": {
    "colab": {
     "base_uri": "https://localhost:8080/",
     "height": 34
    },
    "colab_type": "code",
    "executionInfo": {
     "elapsed": 7525,
     "status": "ok",
     "timestamp": 1584545928710,
     "user": {
      "displayName": "Chris McCormick",
      "photoUrl": "https://lh3.googleusercontent.com/a-/AOh14GjxR2-AAxzOaDHrQaxAtXJQMyx43dPUv51hlUf7=s64",
      "userId": "09546877251175560539"
     },
     "user_tz": 420
    },
    "id": "pMtmPMkBzrvs",
    "outputId": "8923f4fa-e40c-412d-a644-f65793c3cd9c"
   },
   "outputs": [
    {
     "name": "stdout",
     "output_type": "stream",
     "text": [
      "Downloading dataset...\n"
     ]
    }
   ],
   "source": [
    "import wget\n",
    "import os\n",
    "\n",
    "print('Downloading dataset...')\n",
    "\n",
    "# The URL for the dataset zip file.\n",
    "url = 'https://nyu-mll.github.io/CoLA/cola_public_1.1.zip'\n",
    "\n",
    "# Download the file (if we haven't already)\n",
    "if not os.path.exists('./cola_public_1.1.zip'):\n",
    "    wget.download(url, './cola_public_1.1.zip')"
   ]
  },
  {
   "cell_type": "markdown",
   "metadata": {
    "colab_type": "text",
    "id": "_mKctx-ll2FB"
   },
   "source": [
    "Unzip the dataset to the file system. You can browse the file system of the Colab instance in the sidebar on the left."
   ]
  },
  {
   "cell_type": "code",
   "execution_count": 6,
   "metadata": {
    "colab": {},
    "colab_type": "code",
    "id": "0Yv-tNv20dnH"
   },
   "outputs": [
    {
     "name": "stderr",
     "output_type": "stream",
     "text": [
      "'unzip' is not recognized as an internal or external command,\n",
      "operable program or batch file.\n"
     ]
    }
   ],
   "source": [
    "# Unzip the dataset (if we haven't already)\n",
    "if not os.path.exists('./cola_public/'):\n",
    "    !unzip cola_public_1.1.zip"
   ]
  },
  {
   "cell_type": "markdown",
   "metadata": {
    "colab_type": "text",
    "id": "oQUy9Tat2EF_"
   },
   "source": [
    "## 2.2. Parse"
   ]
  },
  {
   "cell_type": "markdown",
   "metadata": {
    "colab_type": "text",
    "id": "xeyVCXT31EZQ"
   },
   "source": [
    "We can see from the file names that both `tokenized` and `raw` versions of the data are available. \n",
    "\n",
    "We can't use the pre-tokenized version because, in order to apply the pre-trained BERT, we *must* use the tokenizer provided by the model. This is because (1) the model has a specific, fixed vocabulary and (2) the BERT tokenizer has a particular way of handling out-of-vocabulary words."
   ]
  },
  {
   "cell_type": "markdown",
   "metadata": {
    "colab_type": "text",
    "id": "MYWzeGSY2xh3"
   },
   "source": [
    "We'll use pandas to parse the \"in-domain\" training set and look at a few of its properties and data points."
   ]
  },
  {
   "cell_type": "code",
   "execution_count": 8,
   "metadata": {
    "colab": {
     "base_uri": "https://localhost:8080/",
     "height": 377
    },
    "colab_type": "code",
    "executionInfo": {
     "elapsed": 7497,
     "status": "ok",
     "timestamp": 1584545928712,
     "user": {
      "displayName": "Chris McCormick",
      "photoUrl": "https://lh3.googleusercontent.com/a-/AOh14GjxR2-AAxzOaDHrQaxAtXJQMyx43dPUv51hlUf7=s64",
      "userId": "09546877251175560539"
     },
     "user_tz": 420
    },
    "id": "_UkeC7SG2krJ",
    "outputId": "47ae0de6-4c95-4b82-ad0f-e3fb27b8ef76"
   },
   "outputs": [
    {
     "name": "stdout",
     "output_type": "stream",
     "text": [
      "Number of training sentences: 8,551\n",
      "\n"
     ]
    },
    {
     "data": {
      "text/html": [
       "<div>\n",
       "<style scoped>\n",
       "    .dataframe tbody tr th:only-of-type {\n",
       "        vertical-align: middle;\n",
       "    }\n",
       "\n",
       "    .dataframe tbody tr th {\n",
       "        vertical-align: top;\n",
       "    }\n",
       "\n",
       "    .dataframe thead th {\n",
       "        text-align: right;\n",
       "    }\n",
       "</style>\n",
       "<table border=\"1\" class=\"dataframe\">\n",
       "  <thead>\n",
       "    <tr style=\"text-align: right;\">\n",
       "      <th></th>\n",
       "      <th>sentence_source</th>\n",
       "      <th>label</th>\n",
       "      <th>label_notes</th>\n",
       "      <th>sentence</th>\n",
       "    </tr>\n",
       "  </thead>\n",
       "  <tbody>\n",
       "    <tr>\n",
       "      <th>4463</th>\n",
       "      <td>ks08</td>\n",
       "      <td>1</td>\n",
       "      <td>NaN</td>\n",
       "      <td>It may rain.</td>\n",
       "    </tr>\n",
       "    <tr>\n",
       "      <th>6242</th>\n",
       "      <td>c_13</td>\n",
       "      <td>1</td>\n",
       "      <td>NaN</td>\n",
       "      <td>Jean is likely to dance.</td>\n",
       "    </tr>\n",
       "    <tr>\n",
       "      <th>562</th>\n",
       "      <td>bc01</td>\n",
       "      <td>1</td>\n",
       "      <td>NaN</td>\n",
       "      <td>The fence straddles the sidewalk.</td>\n",
       "    </tr>\n",
       "    <tr>\n",
       "      <th>5376</th>\n",
       "      <td>b_73</td>\n",
       "      <td>1</td>\n",
       "      <td>NaN</td>\n",
       "      <td>He gave me more of his marbles than I wanted.</td>\n",
       "    </tr>\n",
       "    <tr>\n",
       "      <th>568</th>\n",
       "      <td>bc01</td>\n",
       "      <td>1</td>\n",
       "      <td>NaN</td>\n",
       "      <td>The rolling stone avoided the river.</td>\n",
       "    </tr>\n",
       "    <tr>\n",
       "      <th>6508</th>\n",
       "      <td>d_98</td>\n",
       "      <td>0</td>\n",
       "      <td>*</td>\n",
       "      <td>Every cat doesn't like mice, but Felix doesn't.</td>\n",
       "    </tr>\n",
       "    <tr>\n",
       "      <th>6789</th>\n",
       "      <td>m_02</td>\n",
       "      <td>1</td>\n",
       "      <td>NaN</td>\n",
       "      <td>Fanny regretted having talked to Mary.</td>\n",
       "    </tr>\n",
       "    <tr>\n",
       "      <th>4626</th>\n",
       "      <td>ks08</td>\n",
       "      <td>1</td>\n",
       "      <td>NaN</td>\n",
       "      <td>They believe there to be a dragon in the wood.</td>\n",
       "    </tr>\n",
       "    <tr>\n",
       "      <th>1333</th>\n",
       "      <td>r-67</td>\n",
       "      <td>0</td>\n",
       "      <td>??</td>\n",
       "      <td>The dumplings which Sasha is gobbling down fas...</td>\n",
       "    </tr>\n",
       "    <tr>\n",
       "      <th>6989</th>\n",
       "      <td>sgww85</td>\n",
       "      <td>1</td>\n",
       "      <td>NaN</td>\n",
       "      <td>Pat is healthy and of sound mind.</td>\n",
       "    </tr>\n",
       "  </tbody>\n",
       "</table>\n",
       "</div>"
      ],
      "text/plain": [
       "     sentence_source  label label_notes  \\\n",
       "4463            ks08      1         NaN   \n",
       "6242            c_13      1         NaN   \n",
       "562             bc01      1         NaN   \n",
       "5376            b_73      1         NaN   \n",
       "568             bc01      1         NaN   \n",
       "6508            d_98      0           *   \n",
       "6789            m_02      1         NaN   \n",
       "4626            ks08      1         NaN   \n",
       "1333            r-67      0          ??   \n",
       "6989          sgww85      1         NaN   \n",
       "\n",
       "                                               sentence  \n",
       "4463                                       It may rain.  \n",
       "6242                           Jean is likely to dance.  \n",
       "562                   The fence straddles the sidewalk.  \n",
       "5376      He gave me more of his marbles than I wanted.  \n",
       "568                The rolling stone avoided the river.  \n",
       "6508    Every cat doesn't like mice, but Felix doesn't.  \n",
       "6789             Fanny regretted having talked to Mary.  \n",
       "4626     They believe there to be a dragon in the wood.  \n",
       "1333  The dumplings which Sasha is gobbling down fas...  \n",
       "6989                  Pat is healthy and of sound mind.  "
      ]
     },
     "execution_count": 8,
     "metadata": {},
     "output_type": "execute_result"
    }
   ],
   "source": [
    "import pandas as pd\n",
    "\n",
    "# Load the dataset into a pandas dataframe.\n",
    "df = pd.read_csv(\"./cola_public/raw/in_domain_train.tsv\", delimiter='\\t', header=None, names=['sentence_source', 'label', 'label_notes', 'sentence'])\n",
    "\n",
    "# Report the number of sentences.\n",
    "print('Number of training sentences: {:,}\\n'.format(df.shape[0]))\n",
    "\n",
    "# Display 10 random rows from the data.\n",
    "df.sample(10)"
   ]
  },
  {
   "cell_type": "code",
   "execution_count": 9,
   "metadata": {
    "colab": {
     "base_uri": "https://localhost:8080/",
     "height": 81,
     "resources": {
      "http://localhost:8080/nbextensions/google.colab/files.js": {
       "data": "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",
       "headers": [
        [
         "content-type",
         "application/javascript"
        ]
       ],
       "ok": true,
       "status": 200,
       "status_text": "OK"
      }
     }
    },
    "colab_type": "code",
    "executionInfo": {
     "elapsed": 409133,
     "status": "ok",
     "timestamp": 1600859464258,
     "user": {
      "displayName": "Samuel Wallace",
      "photoUrl": "https://lh3.googleusercontent.com/a-/AOh14GieGc751pI1iFeZZkuR0v9y05mAb2oH3wokXOew=s64",
      "userId": "05300670275551486533"
     },
     "user_tz": 240
    },
    "id": "o6M_dkRsO6_h",
    "outputId": "471997e1-9de3-4796-ed83-e7f433514e3b"
   },
   "outputs": [
    {
     "ename": "ModuleNotFoundError",
     "evalue": "No module named 'google.colab'",
     "output_type": "error",
     "traceback": [
      "\u001b[1;31m---------------------------------------------------------------------------\u001b[0m",
      "\u001b[1;31mModuleNotFoundError\u001b[0m                       Traceback (most recent call last)",
      "\u001b[1;32m<ipython-input-9-c3e11b6caaac>\u001b[0m in \u001b[0;36m<module>\u001b[1;34m\u001b[0m\n\u001b[0;32m      1\u001b[0m \u001b[1;32mimport\u001b[0m \u001b[0mpandas\u001b[0m \u001b[1;32mas\u001b[0m \u001b[0mpd\u001b[0m\u001b[1;33m\u001b[0m\u001b[1;33m\u001b[0m\u001b[0m\n\u001b[1;32m----> 2\u001b[1;33m \u001b[1;32mfrom\u001b[0m \u001b[0mgoogle\u001b[0m\u001b[1;33m.\u001b[0m\u001b[0mcolab\u001b[0m \u001b[1;32mimport\u001b[0m \u001b[0mfiles\u001b[0m\u001b[1;33m\u001b[0m\u001b[1;33m\u001b[0m\u001b[0m\n\u001b[0m\u001b[0;32m      3\u001b[0m \u001b[0muploaded\u001b[0m \u001b[1;33m=\u001b[0m \u001b[0mfiles\u001b[0m\u001b[1;33m.\u001b[0m\u001b[0mupload\u001b[0m\u001b[1;33m(\u001b[0m\u001b[1;33m)\u001b[0m\u001b[1;33m\u001b[0m\u001b[1;33m\u001b[0m\u001b[0m\n",
      "\u001b[1;31mModuleNotFoundError\u001b[0m: No module named 'google.colab'"
     ]
    }
   ],
   "source": [
    "import pandas as pd\n",
    "from google.colab import files\n",
    "uploaded = files.upload()"
   ]
  },
  {
   "cell_type": "code",
   "execution_count": 11,
   "metadata": {
    "colab": {
     "base_uri": "https://localhost:8080/",
     "height": 206
    },
    "colab_type": "code",
    "executionInfo": {
     "elapsed": 1252,
     "status": "ok",
     "timestamp": 1600859664818,
     "user": {
      "displayName": "Samuel Wallace",
      "photoUrl": "https://lh3.googleusercontent.com/a-/AOh14GieGc751pI1iFeZZkuR0v9y05mAb2oH3wokXOew=s64",
      "userId": "05300670275551486533"
     },
     "user_tz": 240
    },
    "id": "oBZRgNqnP2_v",
    "outputId": "fd1ff40a-1587-4f34-f93e-64d736e7d920"
   },
   "outputs": [
    {
     "data": {
      "text/html": [
       "<div>\n",
       "<style scoped>\n",
       "    .dataframe tbody tr th:only-of-type {\n",
       "        vertical-align: middle;\n",
       "    }\n",
       "\n",
       "    .dataframe tbody tr th {\n",
       "        vertical-align: top;\n",
       "    }\n",
       "\n",
       "    .dataframe thead th {\n",
       "        text-align: right;\n",
       "    }\n",
       "</style>\n",
       "<table border=\"1\" class=\"dataframe\">\n",
       "  <thead>\n",
       "    <tr style=\"text-align: right;\">\n",
       "      <th></th>\n",
       "      <th>Unnamed: 0</th>\n",
       "      <th>name</th>\n",
       "      <th>twitter</th>\n",
       "      <th>party</th>\n",
       "      <th>tweet</th>\n",
       "      <th>tweet_published</th>\n",
       "    </tr>\n",
       "  </thead>\n",
       "  <tbody>\n",
       "    <tr>\n",
       "      <th>0</th>\n",
       "      <td>0</td>\n",
       "      <td>Sherrod Brown</td>\n",
       "      <td>SenSherrodBrown</td>\n",
       "      <td>Democrat</td>\n",
       "      <td>This year, #WorkersMemorialDay is particularly...</td>\n",
       "      <td>2020-04-28</td>\n",
       "    </tr>\n",
       "    <tr>\n",
       "      <th>1</th>\n",
       "      <td>1</td>\n",
       "      <td>Sherrod Brown</td>\n",
       "      <td>SenSherrodBrown</td>\n",
       "      <td>Democrat</td>\n",
       "      <td>Without the #ACA, health insurers could discri...</td>\n",
       "      <td>2020-03-23</td>\n",
       "    </tr>\n",
       "    <tr>\n",
       "      <th>2</th>\n",
       "      <td>2</td>\n",
       "      <td>Sherrod Brown</td>\n",
       "      <td>SenSherrodBrown</td>\n",
       "      <td>Democrat</td>\n",
       "      <td>Just voted to send more than 15 million in eme...</td>\n",
       "      <td>2020-03-05</td>\n",
       "    </tr>\n",
       "    <tr>\n",
       "      <th>3</th>\n",
       "      <td>3</td>\n",
       "      <td>Sherrod Brown</td>\n",
       "      <td>SenSherrodBrown</td>\n",
       "      <td>Democrat</td>\n",
       "      <td>Mitch McConnell has wasted four days in the mi...</td>\n",
       "      <td>2020-03-17</td>\n",
       "    </tr>\n",
       "    <tr>\n",
       "      <th>4</th>\n",
       "      <td>4</td>\n",
       "      <td>Sherrod Brown</td>\n",
       "      <td>SenSherrodBrown</td>\n",
       "      <td>Democrat</td>\n",
       "      <td>TUNE IN: At 12:25 PM, I'm going Live with my f...</td>\n",
       "      <td>2020-05-21</td>\n",
       "    </tr>\n",
       "  </tbody>\n",
       "</table>\n",
       "</div>"
      ],
      "text/plain": [
       "   Unnamed: 0           name          twitter     party  \\\n",
       "0           0  Sherrod Brown  SenSherrodBrown  Democrat   \n",
       "1           1  Sherrod Brown  SenSherrodBrown  Democrat   \n",
       "2           2  Sherrod Brown  SenSherrodBrown  Democrat   \n",
       "3           3  Sherrod Brown  SenSherrodBrown  Democrat   \n",
       "4           4  Sherrod Brown  SenSherrodBrown  Democrat   \n",
       "\n",
       "                                               tweet tweet_published  \n",
       "0  This year, #WorkersMemorialDay is particularly...      2020-04-28  \n",
       "1  Without the #ACA, health insurers could discri...      2020-03-23  \n",
       "2  Just voted to send more than 15 million in eme...      2020-03-05  \n",
       "3  Mitch McConnell has wasted four days in the mi...      2020-03-17  \n",
       "4  TUNE IN: At 12:25 PM, I'm going Live with my f...      2020-05-21  "
      ]
     },
     "execution_count": 11,
     "metadata": {},
     "output_type": "execute_result"
    }
   ],
   "source": [
    "import pandas as pd\n",
    "import io\n",
    "df = pd.read_csv(\"./tweets/tweets.csv\")\n",
    "df.head(5)"
   ]
  },
  {
   "cell_type": "code",
   "execution_count": 12,
   "metadata": {
    "colab": {
     "base_uri": "https://localhost:8080/",
     "height": 225
    },
    "colab_type": "code",
    "executionInfo": {
     "elapsed": 101148,
     "status": "ok",
     "timestamp": 1600859770133,
     "user": {
      "displayName": "Samuel Wallace",
      "photoUrl": "https://lh3.googleusercontent.com/a-/AOh14GieGc751pI1iFeZZkuR0v9y05mAb2oH3wokXOew=s64",
      "userId": "05300670275551486533"
     },
     "user_tz": 240
    },
    "id": "sprXALmcSEFO",
    "outputId": "dc52c12f-52e2-42c6-a1dc-0c2eb1d3ff01"
   },
   "outputs": [
    {
     "data": {
      "text/plain": [
       "0        1\n",
       "1        1\n",
       "2        1\n",
       "3        1\n",
       "4        1\n",
       "        ..\n",
       "64327    0\n",
       "64328    0\n",
       "64329    0\n",
       "64330    0\n",
       "64331    0\n",
       "Name: party, Length: 64332, dtype: object"
      ]
     },
     "execution_count": 12,
     "metadata": {},
     "output_type": "execute_result"
    }
   ],
   "source": [
    "for i in range(0, len(df)):\n",
    "    df.loc[i,\"party\"] = 1 if df.at[i,\"party\"] == \"Democrat\" else 0\n",
    "df.party"
   ]
  },
  {
   "cell_type": "markdown",
   "metadata": {
    "colab_type": "text",
    "id": "kfWzpPi92UAH"
   },
   "source": [
    "The two properties we actually care about are the the `sentence` and its `label`, which is referred to as the \"acceptibility judgment\" (0=unacceptable, 1=acceptable)."
   ]
  },
  {
   "cell_type": "markdown",
   "metadata": {
    "colab_type": "text",
    "id": "H_LpQfzCn9_o"
   },
   "source": [
    "Here are five sentences which are labeled as not grammatically acceptible. Note how much more difficult this task is than something like sentiment analysis!"
   ]
  },
  {
   "cell_type": "code",
   "execution_count": 13,
   "metadata": {
    "colab": {
     "base_uri": "https://localhost:8080/",
     "height": 206
    },
    "colab_type": "code",
    "executionInfo": {
     "elapsed": 739,
     "status": "ok",
     "timestamp": 1600859946652,
     "user": {
      "displayName": "Samuel Wallace",
      "photoUrl": "https://lh3.googleusercontent.com/a-/AOh14GieGc751pI1iFeZZkuR0v9y05mAb2oH3wokXOew=s64",
      "userId": "05300670275551486533"
     },
     "user_tz": 240
    },
    "id": "blqIvQaQncdJ",
    "outputId": "9560b26e-cf02-4a49-beb3-57d4f5468d33"
   },
   "outputs": [
    {
     "data": {
      "text/html": [
       "<div>\n",
       "<style scoped>\n",
       "    .dataframe tbody tr th:only-of-type {\n",
       "        vertical-align: middle;\n",
       "    }\n",
       "\n",
       "    .dataframe tbody tr th {\n",
       "        vertical-align: top;\n",
       "    }\n",
       "\n",
       "    .dataframe thead th {\n",
       "        text-align: right;\n",
       "    }\n",
       "</style>\n",
       "<table border=\"1\" class=\"dataframe\">\n",
       "  <thead>\n",
       "    <tr style=\"text-align: right;\">\n",
       "      <th></th>\n",
       "      <th>tweet</th>\n",
       "      <th>party</th>\n",
       "    </tr>\n",
       "  </thead>\n",
       "  <tbody>\n",
       "    <tr>\n",
       "      <th>3908</th>\n",
       "      <td>.@WBKOTV reports: Warren County to Receive Cor...</td>\n",
       "      <td>0</td>\n",
       "    </tr>\n",
       "    <tr>\n",
       "      <th>8261</th>\n",
       "      <td>Our states have to afford to pay their police,...</td>\n",
       "      <td>0</td>\n",
       "    </tr>\n",
       "    <tr>\n",
       "      <th>7003</th>\n",
       "      <td>#Telehealth provides a critical avenue for Ark...</td>\n",
       "      <td>0</td>\n",
       "    </tr>\n",
       "    <tr>\n",
       "      <th>2566</th>\n",
       "      <td>COVID-19 poses unique risks to people with dia...</td>\n",
       "      <td>0</td>\n",
       "    </tr>\n",
       "    <tr>\n",
       "      <th>15067</th>\n",
       "      <td>.@GovWhitmer Can this be true? Would you use a...</td>\n",
       "      <td>0</td>\n",
       "    </tr>\n",
       "  </tbody>\n",
       "</table>\n",
       "</div>"
      ],
      "text/plain": [
       "                                                   tweet party\n",
       "3908   .@WBKOTV reports: Warren County to Receive Cor...     0\n",
       "8261   Our states have to afford to pay their police,...     0\n",
       "7003   #Telehealth provides a critical avenue for Ark...     0\n",
       "2566   COVID-19 poses unique risks to people with dia...     0\n",
       "15067  .@GovWhitmer Can this be true? Would you use a...     0"
      ]
     },
     "execution_count": 13,
     "metadata": {},
     "output_type": "execute_result"
    }
   ],
   "source": [
    "df.loc[df.party == 0].sample(5)[['tweet','party']]"
   ]
  },
  {
   "cell_type": "markdown",
   "metadata": {
    "colab_type": "text",
    "id": "4SMZ5T5Imhlx"
   },
   "source": [
    "\n",
    "\n",
    "Let's extract the sentences and labels of our training set as numpy ndarrays."
   ]
  },
  {
   "cell_type": "code",
   "execution_count": 14,
   "metadata": {},
   "outputs": [],
   "source": [
    "sentences = df.tweet.values\n",
    "labels = df.party.values.astype('long')"
   ]
  },
  {
   "cell_type": "markdown",
   "metadata": {
    "colab_type": "text",
    "id": "ex5O1eV-Pfct"
   },
   "source": [
    "# 3. Tokenization & Input Formatting\n",
    "\n",
    "In this section, we'll transform our dataset into the format that BERT can be trained on."
   ]
  },
  {
   "cell_type": "markdown",
   "metadata": {
    "colab_type": "text",
    "id": "-8kEDRvShcU5"
   },
   "source": [
    "## 3.1. BERT Tokenizer"
   ]
  },
  {
   "cell_type": "markdown",
   "metadata": {
    "colab_type": "text",
    "id": "bWOPOyWghJp2"
   },
   "source": [
    "\n",
    "To feed our text to BERT, it must be split into tokens, and then these tokens must be mapped to their index in the tokenizer vocabulary.\n",
    "\n",
    "The tokenization must be performed by the tokenizer included with BERT--the below cell will download this for us. We'll be using the \"uncased\" version here.\n"
   ]
  },
  {
   "cell_type": "code",
   "execution_count": 18,
   "metadata": {},
   "outputs": [
    {
     "name": "stdout",
     "output_type": "stream",
     "text": [
      "Collecting transformers\n",
      "  Using cached transformers-3.3.1-py3-none-any.whl (1.1 MB)\n",
      "Requirement already satisfied: tqdm>=4.27 in c:\\users\\quynh\\anaconda3\\lib\\site-packages (from transformers) (4.42.1)\n",
      "Collecting tokenizers==0.8.1.rc2\n",
      "  Downloading tokenizers-0.8.1rc2-cp37-cp37m-win_amd64.whl (1.9 MB)\n",
      "Requirement already satisfied: requests in c:\\users\\quynh\\anaconda3\\lib\\site-packages (from transformers) (2.22.0)\n",
      "Requirement already satisfied: numpy in c:\\users\\quynh\\anaconda3\\lib\\site-packages (from transformers) (1.18.1)\n",
      "Collecting regex!=2019.12.17\n",
      "  Downloading regex-2020.9.27-cp37-cp37m-win_amd64.whl (268 kB)\n",
      "Collecting sentencepiece!=0.1.92\n",
      "  Downloading sentencepiece-0.1.91-cp37-cp37m-win_amd64.whl (1.2 MB)\n",
      "Requirement already satisfied: filelock in c:\\users\\quynh\\anaconda3\\lib\\site-packages (from transformers) (3.0.12)\n",
      "Collecting sacremoses\n",
      "  Using cached sacremoses-0.0.43.tar.gz (883 kB)\n",
      "Requirement already satisfied: packaging in c:\\users\\quynh\\anaconda3\\lib\\site-packages (from transformers) (20.1)\n",
      "Requirement already satisfied: certifi>=2017.4.17 in c:\\users\\quynh\\anaconda3\\lib\\site-packages (from requests->transformers) (2019.11.28)\n",
      "Requirement already satisfied: idna<2.9,>=2.5 in c:\\users\\quynh\\anaconda3\\lib\\site-packages (from requests->transformers) (2.8)\n",
      "Requirement already satisfied: chardet<3.1.0,>=3.0.2 in c:\\users\\quynh\\anaconda3\\lib\\site-packages (from requests->transformers) (3.0.4)\n",
      "Requirement already satisfied: urllib3!=1.25.0,!=1.25.1,<1.26,>=1.21.1 in c:\\users\\quynh\\anaconda3\\lib\\site-packages (from requests->transformers) (1.25.8)\n",
      "Requirement already satisfied: six in c:\\users\\quynh\\anaconda3\\lib\\site-packages (from sacremoses->transformers) (1.14.0)\n",
      "Requirement already satisfied: click in c:\\users\\quynh\\anaconda3\\lib\\site-packages (from sacremoses->transformers) (7.0)\n",
      "Requirement already satisfied: joblib in c:\\users\\quynh\\anaconda3\\lib\\site-packages (from sacremoses->transformers) (0.14.1)\n",
      "Requirement already satisfied: pyparsing>=2.0.2 in c:\\users\\quynh\\anaconda3\\lib\\site-packages (from packaging->transformers) (2.4.6)\n",
      "Building wheels for collected packages: sacremoses\n",
      "  Building wheel for sacremoses (setup.py): started\n",
      "  Building wheel for sacremoses (setup.py): finished with status 'done'\n",
      "  Created wheel for sacremoses: filename=sacremoses-0.0.43-py3-none-any.whl size=893262 sha256=102726b12453dacbc38c44e3ec380929da238ef5f507368d6223056666ce500d\n",
      "  Stored in directory: c:\\users\\quynh\\appdata\\local\\pip\\cache\\wheels\\69\\09\\d1\\bf058f7d6fa0ecba2ce7c66be3b8d012beb4bf61a6e0c101c0\n",
      "Successfully built sacremoses\n",
      "Installing collected packages: tokenizers, regex, sentencepiece, sacremoses, transformers\n",
      "Successfully installed regex-2020.9.27 sacremoses-0.0.43 sentencepiece-0.1.91 tokenizers-0.8.1rc2 transformers-3.3.1\n"
     ]
    }
   ],
   "source": [
    "!pip install transformers"
   ]
  },
  {
   "cell_type": "code",
   "execution_count": 19,
   "metadata": {
    "colab": {
     "base_uri": "https://localhost:8080/",
     "height": 84,
     "referenced_widgets": [
      "59347b3e1d6c4638bb6c92431d7b049f",
      "531f8dda29a24f5eb4b276a758187d13",
      "1e16b47ba73a499896bb489ab0d96238",
      "cae6a0ff01904701ac6662442971daf5",
      "01b6ae66e0124aa89e4a8bca774d1053",
      "efa06806861e455f9c869a737723d370",
      "bb754357d8e742b8b44c51c8d7a5d8fe",
      "b721e83322224bf59ca95861547b3334"
     ]
    },
    "colab_type": "code",
    "executionInfo": {
     "elapsed": 2409,
     "status": "ok",
     "timestamp": 1600859967936,
     "user": {
      "displayName": "Samuel Wallace",
      "photoUrl": "https://lh3.googleusercontent.com/a-/AOh14GieGc751pI1iFeZZkuR0v9y05mAb2oH3wokXOew=s64",
      "userId": "05300670275551486533"
     },
     "user_tz": 240
    },
    "id": "Z474sSC6oe7A",
    "outputId": "6353e87c-b444-41bc-cb52-2df5e824c117"
   },
   "outputs": [
    {
     "name": "stdout",
     "output_type": "stream",
     "text": [
      "Loading BERT tokenizer...\n"
     ]
    },
    {
     "data": {
      "application/vnd.jupyter.widget-view+json": {
       "model_id": "35ab3fb308094718ba599e8decb45a43",
       "version_major": 2,
       "version_minor": 0
      },
      "text/plain": [
       "HBox(children=(FloatProgress(value=0.0, description='Downloading', max=231508.0, style=ProgressStyle(descripti…"
      ]
     },
     "metadata": {},
     "output_type": "display_data"
    },
    {
     "name": "stdout",
     "output_type": "stream",
     "text": [
      "\n"
     ]
    }
   ],
   "source": [
    "from transformers import BertTokenizer\n",
    "\n",
    "# Load the BERT tokenizer.\n",
    "print('Loading BERT tokenizer...')\n",
    "tokenizer = BertTokenizer.from_pretrained('bert-base-uncased', do_lower_case=True)"
   ]
  },
  {
   "cell_type": "markdown",
   "metadata": {
    "colab_type": "text",
    "id": "dFzmtleW6KmJ"
   },
   "source": [
    "Let's apply the tokenizer to one sentence just to see the output.\n"
   ]
  },
  {
   "cell_type": "code",
   "execution_count": 20,
   "metadata": {
    "colab": {
     "base_uri": "https://localhost:8080/",
     "height": 89
    },
    "colab_type": "code",
    "executionInfo": {
     "elapsed": 474,
     "status": "ok",
     "timestamp": 1600859977519,
     "user": {
      "displayName": "Samuel Wallace",
      "photoUrl": "https://lh3.googleusercontent.com/a-/AOh14GieGc751pI1iFeZZkuR0v9y05mAb2oH3wokXOew=s64",
      "userId": "05300670275551486533"
     },
     "user_tz": 240
    },
    "id": "dLIbudgfh6F0",
    "outputId": "c70d8ff3-317d-4712-be42-017421748ecc"
   },
   "outputs": [
    {
     "name": "stdout",
     "output_type": "stream",
     "text": [
      " Original:  This year, #WorkersMemorialDay is particularly poignant as we remember the workers who have died after being exposed to COVID-19 on the job. It's a reminder that saying thank you isn't enough when people put their lives at risk. We need to protect ALL workers on the job. \n",
      "Tokenized:  ['this', 'year', ',', '#', 'workers', '##me', '##mori', '##ald', '##ay', 'is', 'particularly', 'po', '##ignant', 'as', 'we', 'remember', 'the', 'workers', 'who', 'have', 'died', 'after', 'being', 'exposed', 'to', 'co', '##vid', '-', '19', 'on', 'the', 'job', '.', 'it', \"'\", 's', 'a', 'reminder', 'that', 'saying', 'thank', 'you', 'isn', \"'\", 't', 'enough', 'when', 'people', 'put', 'their', 'lives', 'at', 'risk', '.', 'we', 'need', 'to', 'protect', 'all', 'workers', 'on', 'the', 'job', '.']\n",
      "Token IDs:  [2023, 2095, 1010, 1001, 3667, 4168, 24610, 19058, 4710, 2003, 3391, 13433, 25593, 2004, 2057, 3342, 1996, 3667, 2040, 2031, 2351, 2044, 2108, 6086, 2000, 2522, 17258, 1011, 2539, 2006, 1996, 3105, 1012, 2009, 1005, 1055, 1037, 14764, 2008, 3038, 4067, 2017, 3475, 1005, 1056, 2438, 2043, 2111, 2404, 2037, 3268, 2012, 3891, 1012, 2057, 2342, 2000, 4047, 2035, 3667, 2006, 1996, 3105, 1012]\n"
     ]
    }
   ],
   "source": [
    "# Print the original sentence.\n",
    "print(' Original: ', sentences[0])\n",
    "\n",
    "# Print the sentence split into tokens.\n",
    "print('Tokenized: ', tokenizer.tokenize(sentences[0]))\n",
    "\n",
    "# Print the sentence mapped to token ids.\n",
    "print('Token IDs: ', tokenizer.convert_tokens_to_ids(tokenizer.tokenize(sentences[0])))"
   ]
  },
  {
   "cell_type": "markdown",
   "metadata": {
    "colab_type": "text",
    "id": "WeNIc4auFUdF"
   },
   "source": [
    "When we actually convert all of our sentences, we'll use the `tokenize.encode` function to handle both steps, rather than calling `tokenize` and `convert_tokens_to_ids` separately. \n",
    "\n",
    "Before we can do that, though, we need to talk about some of BERT's formatting requirements."
   ]
  },
  {
   "cell_type": "markdown",
   "metadata": {
    "colab_type": "text",
    "id": "viKGCCh8izww"
   },
   "source": [
    "## 3.2. Required Formatting"
   ]
  },
  {
   "cell_type": "markdown",
   "metadata": {
    "colab_type": "text",
    "id": "yDcqNlvVhL5W"
   },
   "source": [
    "The above code left out a few required formatting steps that we'll look at here.\n",
    "\n",
    "*Side Note: The input format to BERT seems \"over-specified\" to me... We are required to give it a number of pieces of information which seem redundant, or like they could easily be inferred from the data without us explicity providing it. But it is what it is, and I suspect it will make more sense once I have a deeper understanding of the BERT internals.*\n",
    "\n",
    "We are required to:\n",
    "1. Add special tokens to the start and end of each sentence.\n",
    "2. Pad & truncate all sentences to a single constant length.\n",
    "3. Explicitly differentiate real tokens from padding tokens with the \"attention mask\".\n",
    "\n"
   ]
  },
  {
   "cell_type": "markdown",
   "metadata": {
    "colab_type": "text",
    "id": "V6mceWWOjZnw"
   },
   "source": [
    "### Special Tokens\n"
   ]
  },
  {
   "cell_type": "markdown",
   "metadata": {
    "colab_type": "text",
    "id": "Ykk0P9JiKtVe"
   },
   "source": [
    "\n",
    "**`[SEP]`**\n",
    "\n",
    "At the end of every sentence, we need to append the special `[SEP]` token. \n",
    "\n",
    "This token is an artifact of two-sentence tasks, where BERT is given two separate sentences and asked to determine something (e.g., can the answer to the question in sentence A be found in sentence B?). \n",
    "\n",
    "I am not certain yet why the token is still required when we have only single-sentence input, but it is!\n"
   ]
  },
  {
   "cell_type": "markdown",
   "metadata": {
    "colab_type": "text",
    "id": "86C9objaKu8f"
   },
   "source": [
    "**`[CLS]`**\n",
    "\n",
    "For classification tasks, we must prepend the special `[CLS]` token to the beginning of every sentence.\n",
    "\n",
    "This token has special significance. BERT consists of 12 Transformer layers. Each transformer takes in a list of token embeddings, and produces the same number of embeddings on the output (but with the feature values changed, of course!).\n",
    "\n",
    "![Illustration of CLS token purpose](http://www.mccormickml.com/assets/BERT/CLS_token_500x606.png)\n",
    "\n",
    "On the output of the final (12th) transformer, *only the first embedding (corresponding to the [CLS] token) is used by the classifier*.\n",
    "\n",
    ">  \"The first token of every sequence is always a special classification token (`[CLS]`). The final hidden state\n",
    "corresponding to this token is used as the aggregate sequence representation for classification\n",
    "tasks.\" (from the [BERT paper](https://arxiv.org/pdf/1810.04805.pdf))\n",
    "\n",
    "You might think to try some pooling strategy over the final embeddings, but this isn't necessary. Because BERT is trained to only use this [CLS] token for classification, we know that the model has been motivated to encode everything it needs for the classification step into that single 768-value embedding vector. It's already done the pooling for us!\n",
    "\n"
   ]
  },
  {
   "cell_type": "markdown",
   "metadata": {
    "colab_type": "text",
    "id": "u51v0kFxeteu"
   },
   "source": [
    "### Sentence Length & Attention Mask\n",
    "\n"
   ]
  },
  {
   "cell_type": "markdown",
   "metadata": {
    "colab_type": "text",
    "id": "qPNuwqZVK3T6"
   },
   "source": [
    "The sentences in our dataset obviously have varying lengths, so how does BERT handle this?\n",
    "\n",
    "BERT has two constraints:\n",
    "1. All sentences must be padded or truncated to a single, fixed length.\n",
    "2. The maximum sentence length is 512 tokens.\n",
    "\n",
    "Padding is done with a special `[PAD]` token, which is at index 0 in the BERT vocabulary. The below illustration demonstrates padding out to a \"MAX_LEN\" of 8 tokens.\n",
    "\n",
    "<img src=\"http://www.mccormickml.com/assets/BERT/padding_and_mask.png\" width=\"600\">\n",
    "\n",
    "The \"Attention Mask\" is simply an array of 1s and 0s indicating which tokens are padding and which aren't (seems kind of redundant, doesn't it?!). This mask tells the \"Self-Attention\" mechanism in BERT not to incorporate these PAD tokens into its interpretation of the sentence.\n",
    "\n",
    "The maximum length does impact training and evaluation speed, however. \n",
    "For example, with a Tesla K80:\n",
    "\n",
    "`MAX_LEN = 128  -->  Training epochs take ~5:28 each`\n",
    "\n",
    "`MAX_LEN = 64   -->  Training epochs take ~2:57 each`\n",
    "\n",
    "\n",
    "\n",
    "\n",
    "\n"
   ]
  },
  {
   "cell_type": "markdown",
   "metadata": {
    "colab_type": "text",
    "id": "l6w8elb-58GJ"
   },
   "source": [
    "## 3.3. Tokenize Dataset"
   ]
  },
  {
   "cell_type": "markdown",
   "metadata": {
    "colab_type": "text",
    "id": "U28qy4P-NwQ9"
   },
   "source": [
    "The transformers library provides a helpful `encode` function which will handle most of the parsing and data prep steps for us.\n",
    "\n",
    "Before we are ready to encode our text, though, we need to decide on a **maximum sentence length** for padding / truncating to.\n",
    "\n",
    "The below cell will perform one tokenization pass of the dataset in order to measure the maximum sentence length."
   ]
  },
  {
   "cell_type": "markdown",
   "metadata": {},
   "source": [
    "Deleting sparse number of entries with length over 256."
   ]
  },
  {
   "cell_type": "code",
   "execution_count": 21,
   "metadata": {
    "colab": {
     "base_uri": "https://localhost:8080/",
     "height": 34
    },
    "colab_type": "code",
    "executionInfo": {
     "elapsed": 57563,
     "status": "ok",
     "timestamp": 1600860062011,
     "user": {
      "displayName": "Samuel Wallace",
      "photoUrl": "https://lh3.googleusercontent.com/a-/AOh14GieGc751pI1iFeZZkuR0v9y05mAb2oH3wokXOew=s64",
      "userId": "05300670275551486533"
     },
     "user_tz": 240
    },
    "id": "cKsH2sU0OCQA",
    "outputId": "b4bd47c3-10c9-4658-ac86-b7d0f7575886"
   },
   "outputs": [
    {
     "name": "stdout",
     "output_type": "stream",
     "text": [
      "Num sentences longer than 96: 1473\n"
     ]
    }
   ],
   "source": [
    "num_over_96 = 0\n",
    "drop_indices = []\n",
    "# For every sentence...\n",
    "for i,sent in enumerate(sentences):\n",
    "\n",
    "    # Tokenize the text and add `[CLS]` and `[SEP]` tokens.\n",
    "    input_ids = tokenizer.encode(sent, add_special_tokens=True)\n",
    "    if(len(input_ids)) > 96:\n",
    "        num_over_96 += 1\n",
    "        drop_indices.append(i)\n",
    "\n",
    "df = df.drop(drop_indices)\n",
    "sentences = df.tweet.values\n",
    "labels = df.party.values.astype('long')\n",
    "print('Num sentences longer than 96: {}'.format(num_over_96))"
   ]
  },
  {
   "cell_type": "markdown",
   "metadata": {
    "colab_type": "text",
    "id": "1M296yz577fV"
   },
   "source": [
    "Ensuring these data points have been removed...\n"
   ]
  },
  {
   "cell_type": "code",
   "execution_count": 22,
   "metadata": {},
   "outputs": [
    {
     "name": "stdout",
     "output_type": "stream",
     "text": [
      "Num sentences longer than 96: 0\n"
     ]
    }
   ],
   "source": [
    "num_over_96 = 0\n",
    "# For every sentence...\n",
    "for i,sent in enumerate(sentences):\n",
    "\n",
    "    # Tokenize the text and add `[CLS]` and `[SEP]` tokens.\n",
    "    input_ids = tokenizer.encode(sent, add_special_tokens=True)\n",
    "    if(len(input_ids)) > 96:\n",
    "        num_over_96 += 1\n",
    "        \n",
    "print('Num sentences longer than 96: {}'.format(num_over_96))"
   ]
  },
  {
   "cell_type": "markdown",
   "metadata": {
    "colab_type": "text",
    "id": "tIWAoWL2RK1p"
   },
   "source": [
    "Now we're ready to perform the real tokenization.\n",
    "\n",
    "The `tokenizer.encode_plus` function combines multiple steps for us:\n",
    "\n",
    "1. Split the sentence into tokens.\n",
    "2. Add the special `[CLS]` and `[SEP]` tokens.\n",
    "3. Map the tokens to their IDs.\n",
    "4. Pad or truncate all sentences to the same length.\n",
    "5. Create the attention masks which explicitly differentiate real tokens from `[PAD]` tokens.\n",
    "\n",
    "The first four features are in `tokenizer.encode`, but I'm using `tokenizer.encode_plus` to get the fifth item (attention masks). Documentation is [here](https://huggingface.co/transformers/main_classes/tokenizer.html?highlight=encode_plus#transformers.PreTrainedTokenizer.encode_plus).\n"
   ]
  },
  {
   "cell_type": "code",
   "execution_count": 37,
   "metadata": {
    "colab": {
     "base_uri": "https://localhost:8080/",
     "height": 992
    },
    "colab_type": "code",
    "executionInfo": {
     "elapsed": 69704,
     "status": "ok",
     "timestamp": 1600861386956,
     "user": {
      "displayName": "Samuel Wallace",
      "photoUrl": "https://lh3.googleusercontent.com/a-/AOh14GieGc751pI1iFeZZkuR0v9y05mAb2oH3wokXOew=s64",
      "userId": "05300670275551486533"
     },
     "user_tz": 240
    },
    "id": "2bBdb3pt8LuQ",
    "outputId": "2283add4-a78b-45ad-86f5-5343afb0b3e5"
   },
   "outputs": [
    {
     "name": "stderr",
     "output_type": "stream",
     "text": [
      "/home/sam/.local/lib/python3.6/site-packages/transformers/tokenization_utils_base.py:1770: FutureWarning: The `pad_to_max_length` argument is deprecated and will be removed in a future version, use `padding=True` or `padding='longest'` to pad to the longest sequence in the batch, or use `padding='max_length'` to pad to a max length. In this case, you can give a specific length with `max_length` (e.g. `max_length=45`) or leave max_length to None to pad to the maximal input size of the model (e.g. 512 for Bert).\n",
      "  FutureWarning,\n"
     ]
    },
    {
     "name": "stdout",
     "output_type": "stream",
     "text": [
      "Original:  This year, #WorkersMemorialDay is particularly poignant as we remember the workers who have died after being exposed to COVID-19 on the job. It's a reminder that saying thank you isn't enough when people put their lives at risk. We need to protect ALL workers on the job. \n",
      "Token IDs: tensor([  101,  2023,  2095,  1010,  1001,  3667,  4168, 24610, 19058,  4710,\n",
      "         2003,  3391, 13433, 25593,  2004,  2057,  3342,  1996,  3667,  2040,\n",
      "         2031,  2351,  2044,  2108,  6086,  2000,  2522, 17258,  1011,  2539,\n",
      "         2006,  1996,  3105,  1012,  2009,  1005,  1055,  1037, 14764,  2008,\n",
      "         3038,  4067,  2017,  3475,  1005,  1056,  2438,  2043,  2111,  2404,\n",
      "         2037,  3268,  2012,  3891,  1012,  2057,  2342,  2000,  4047,  2035,\n",
      "         3667,  2006,  1996,  3105,  1012,   102,     0,     0,     0,     0,\n",
      "            0,     0,     0,     0,     0,     0,     0,     0,     0,     0,\n",
      "            0,     0,     0,     0,     0,     0,     0,     0,     0,     0,\n",
      "            0,     0,     0,     0,     0,     0])\n"
     ]
    }
   ],
   "source": [
    "torch.cuda.empty_cache()\n",
    "# Tokenize all of the sentences and map the tokens to thier word IDs.\n",
    "input_ids = []\n",
    "attention_masks = []\n",
    "\n",
    "# For every sentence...\n",
    "for sent in sentences:\n",
    "    # `encode_plus` will:\n",
    "    #   (1) Tokenize the sentence.\n",
    "    #   (2) Prepend the `[CLS]` token to the start.\n",
    "    #   (3) Append the `[SEP]` token to the end.\n",
    "    #   (4) Map tokens to their IDs.\n",
    "    #   (5) Pad or truncate the sentence to `max_length`\n",
    "    #   (6) Create attention masks for [PAD] tokens.\n",
    "    encoded_dict = tokenizer.encode_plus(\n",
    "                        sent,                      # Sentence to encode.\n",
    "                        add_special_tokens = True, # Add '[CLS]' and '[SEP]'\n",
    "                        max_length = 96,           # Pad & truncate all sentences.\n",
    "                        pad_to_max_length = True,\n",
    "                        return_attention_mask = True,   # Construct attn. masks.\n",
    "                        return_tensors = 'pt',     # Return pytorch tensors.\n",
    "                        truncation = True\n",
    "                   )\n",
    "    \n",
    "    # Add the encoded sentence to the list.    \n",
    "    input_ids.append(encoded_dict['input_ids'])\n",
    "    \n",
    "    # And its attention mask (simply differentiates padding from non-padding).\n",
    "    attention_masks.append(encoded_dict['attention_mask'])\n",
    "\n",
    "# Convert the lists into tensors.\n",
    "input_ids = torch.cat(input_ids, dim=0)\n",
    "attention_masks = torch.cat(attention_masks, dim=0)\n",
    "labels = torch.tensor(labels)\n",
    "\n",
    "# Print sentence 0, now as a list of IDs.\n",
    "print('Original: ', sentences[0])\n",
    "print('Token IDs:', input_ids[0])"
   ]
  },
  {
   "cell_type": "markdown",
   "metadata": {
    "colab_type": "text",
    "id": "aRp4O7D295d_"
   },
   "source": [
    "## 3.4. Training & Validation Split\n"
   ]
  },
  {
   "cell_type": "markdown",
   "metadata": {
    "colab_type": "text",
    "id": "qu0ao7p8rb06"
   },
   "source": [
    "Divide up our training set to use 90% for training and 10% for validation."
   ]
  },
  {
   "cell_type": "code",
   "execution_count": 38,
   "metadata": {
    "colab": {
     "base_uri": "https://localhost:8080/",
     "height": 52
    },
    "colab_type": "code",
    "executionInfo": {
     "elapsed": 815,
     "status": "ok",
     "timestamp": 1600861467030,
     "user": {
      "displayName": "Samuel Wallace",
      "photoUrl": "https://lh3.googleusercontent.com/a-/AOh14GieGc751pI1iFeZZkuR0v9y05mAb2oH3wokXOew=s64",
      "userId": "05300670275551486533"
     },
     "user_tz": 240
    },
    "id": "GEgLpFVlo1Z-",
    "outputId": "78a85f73-b109-41f2-fce2-ed36b042aa5b"
   },
   "outputs": [
    {
     "name": "stdout",
     "output_type": "stream",
     "text": [
      "56,573 training samples\n",
      "6,286 validation samples\n"
     ]
    }
   ],
   "source": [
    "from torch.utils.data import TensorDataset, random_split\n",
    "\n",
    "# Combine the training inputs into a TensorDataset.\n",
    "dataset = TensorDataset(input_ids, attention_masks, labels)\n",
    "\n",
    "# Create a 90-10 train-validation split.\n",
    "\n",
    "# Calculate the number of samples to include in each set.\n",
    "train_size = int(0.9 * len(dataset))\n",
    "val_size = len(dataset) - train_size\n",
    "\n",
    "# Divide the dataset by randomly selecting samples.\n",
    "train_dataset, val_dataset = random_split(dataset, [train_size, val_size])\n",
    "\n",
    "print('{:>5,} training samples'.format(train_size))\n",
    "print('{:>5,} validation samples'.format(val_size))"
   ]
  },
  {
   "cell_type": "markdown",
   "metadata": {
    "colab_type": "text",
    "id": "dD9i6Z2pG-sN"
   },
   "source": [
    "We'll also create an iterator for our dataset using the torch DataLoader class. This helps save on memory during training because, unlike a for loop, with an iterator the entire dataset does not need to be loaded into memory."
   ]
  },
  {
   "cell_type": "code",
   "execution_count": 39,
   "metadata": {
    "colab": {},
    "colab_type": "code",
    "executionInfo": {
     "elapsed": 828,
     "status": "ok",
     "timestamp": 1600861476458,
     "user": {
      "displayName": "Samuel Wallace",
      "photoUrl": "https://lh3.googleusercontent.com/a-/AOh14GieGc751pI1iFeZZkuR0v9y05mAb2oH3wokXOew=s64",
      "userId": "05300670275551486533"
     },
     "user_tz": 240
    },
    "id": "XGUqOCtgqGhP"
   },
   "outputs": [],
   "source": [
    "from torch.utils.data import DataLoader, RandomSampler, SequentialSampler\n",
    "\n",
    "# The DataLoader needs to know our batch size for training, so we specify it \n",
    "# here. For fine-tuning BERT on a specific task, the authors recommend a batch \n",
    "# size of 16 or 32.\n",
    "batch_size = 8\n",
    "\n",
    "# Create the DataLoaders for our training and validation sets.\n",
    "# We'll take training samples in random order. \n",
    "train_dataloader = DataLoader(\n",
    "            train_dataset,  # The training samples.\n",
    "            sampler = RandomSampler(train_dataset), # Select batches randomly\n",
    "            batch_size = batch_size # Trains with this batch size.\n",
    "        )\n",
    "\n",
    "# For validation the order doesn't matter, so we'll just read them sequentially.\n",
    "validation_dataloader = DataLoader(\n",
    "            val_dataset, # The validation samples.\n",
    "            sampler = SequentialSampler(val_dataset), # Pull out batches sequentially.\n",
    "            batch_size = batch_size # Evaluate with this batch size.\n",
    "        )"
   ]
  },
  {
   "cell_type": "markdown",
   "metadata": {
    "colab_type": "text",
    "id": "8bwa6Rts-02-"
   },
   "source": [
    "# 4. Train Our Classification Model"
   ]
  },
  {
   "cell_type": "markdown",
   "metadata": {
    "colab_type": "text",
    "id": "3xYQ3iLO08SX"
   },
   "source": [
    "Now that our input data is properly formatted, it's time to fine tune the BERT model. "
   ]
  },
  {
   "cell_type": "markdown",
   "metadata": {
    "colab_type": "text",
    "id": "D6TKgyUzPIQc"
   },
   "source": [
    "## 4.1. BertForSequenceClassification"
   ]
  },
  {
   "cell_type": "markdown",
   "metadata": {
    "colab_type": "text",
    "id": "1sjzRT1V0zwm"
   },
   "source": [
    "For this task, we first want to modify the pre-trained BERT model to give outputs for classification, and then we want to continue training the model on our dataset until that the entire model, end-to-end, is well-suited for our task. \n",
    "\n",
    "Thankfully, the huggingface pytorch implementation includes a set of interfaces designed for a variety of NLP tasks. Though these interfaces are all built on top of a trained BERT model, each has different top layers and output types designed to accomodate their specific NLP task.  \n",
    "\n",
    "Here is the current list of classes provided for fine-tuning:\n",
    "* BertModel\n",
    "* BertForPreTraining\n",
    "* BertForMaskedLM\n",
    "* BertForNextSentencePrediction\n",
    "* **BertForSequenceClassification** - The one we'll use.\n",
    "* BertForTokenClassification\n",
    "* BertForQuestionAnswering\n",
    "\n",
    "The documentation for these can be found under [here](https://huggingface.co/transformers/v2.2.0/model_doc/bert.html)."
   ]
  },
  {
   "cell_type": "markdown",
   "metadata": {
    "colab_type": "text",
    "id": "BXYitPoE-cjH"
   },
   "source": [
    "\n",
    "\n",
    "We'll be using [BertForSequenceClassification](https://huggingface.co/transformers/v2.2.0/model_doc/bert.html#bertforsequenceclassification). This is the normal BERT model with an added single linear layer on top for classification that we will use as a sentence classifier. As we feed input data, the entire pre-trained BERT model and the additional untrained classification layer is trained on our specific task. \n"
   ]
  },
  {
   "cell_type": "markdown",
   "metadata": {
    "colab_type": "text",
    "id": "WnQW9E-bBCRt"
   },
   "source": [
    "OK, let's load BERT! There are a few different pre-trained BERT models available. \"bert-base-uncased\" means the version that has only lowercase letters (\"uncased\") and is the smaller version of the two (\"base\" vs \"large\").\n",
    "\n",
    "The documentation for `from_pretrained` can be found [here](https://huggingface.co/transformers/v2.2.0/main_classes/model.html#transformers.PreTrainedModel.from_pretrained), with the additional parameters defined [here](https://huggingface.co/transformers/v2.2.0/main_classes/configuration.html#transformers.PretrainedConfig)."
   ]
  },
  {
   "cell_type": "code",
   "execution_count": 19,
   "metadata": {},
   "outputs": [],
   "source": [
    "torch.cuda.empty_cache()"
   ]
  },
  {
   "cell_type": "code",
   "execution_count": 40,
   "metadata": {
    "colab": {
     "base_uri": "https://localhost:8080/",
     "height": 1000,
     "referenced_widgets": [
      "56ab44a4c3d347b1a96bb591fb08e17e",
      "0eead78d14b142ddbb93a5165bd69f75",
      "dbb88fb53c7e44e686339f0421229a8b",
      "467ad53d8c73450d9f2fc03f378ed7ac",
      "d824780dac524f7e88f9ef1b371506b1",
      "6078e74b66cb4192a586b3952552a7ce",
      "8f9a21e4e1b94b0490c9bce5f6dc79c5",
      "6199fa3b6c314ce7bafe21658cb8b0e7",
      "c45f58bcd6ee40069381c671e3053c1a",
      "df7eb20297da4c6b92e8dccb3e7a7a16",
      "88c9e1d50ac5446c85e8711a49a2f858",
      "e9726b3ccb904059bb98f06f772dda5d",
      "74b9c11f84c241da8d2454556acd6d9a",
      "c966af3901e34893b5b1d049ad8321ce",
      "a91406780bc54d6cbb38fee04218bcd7",
      "7ef63a895ac54eb7afc79bfef52158b5"
     ]
    },
    "colab_type": "code",
    "executionInfo": {
     "elapsed": 25541,
     "status": "ok",
     "timestamp": 1600861554472,
     "user": {
      "displayName": "Samuel Wallace",
      "photoUrl": "https://lh3.googleusercontent.com/a-/AOh14GieGc751pI1iFeZZkuR0v9y05mAb2oH3wokXOew=s64",
      "userId": "05300670275551486533"
     },
     "user_tz": 240
    },
    "id": "gFsCTp_mporB",
    "outputId": "3f5ccf67-6944-4729-d4fd-befcb276f7a7"
   },
   "outputs": [
    {
     "name": "stderr",
     "output_type": "stream",
     "text": [
      "Some weights of the model checkpoint at bert-base-uncased were not used when initializing BertForSequenceClassification: ['cls.predictions.bias', 'cls.predictions.transform.dense.weight', 'cls.predictions.transform.dense.bias', 'cls.predictions.decoder.weight', 'cls.seq_relationship.weight', 'cls.seq_relationship.bias', 'cls.predictions.transform.LayerNorm.weight', 'cls.predictions.transform.LayerNorm.bias']\n",
      "- This IS expected if you are initializing BertForSequenceClassification from the checkpoint of a model trained on another task or with another architecture (e.g. initializing a BertForSequenceClassification model from a BertForPretraining model).\n",
      "- This IS NOT expected if you are initializing BertForSequenceClassification from the checkpoint of a model that you expect to be exactly identical (initializing a BertForSequenceClassification model from a BertForSequenceClassification model).\n",
      "Some weights of BertForSequenceClassification were not initialized from the model checkpoint at bert-base-uncased and are newly initialized: ['classifier.weight', 'classifier.bias']\n",
      "You should probably TRAIN this model on a down-stream task to be able to use it for predictions and inference.\n"
     ]
    },
    {
     "data": {
      "text/plain": [
       "BertForSequenceClassification(\n",
       "  (bert): BertModel(\n",
       "    (embeddings): BertEmbeddings(\n",
       "      (word_embeddings): Embedding(30522, 768, padding_idx=0)\n",
       "      (position_embeddings): Embedding(512, 768)\n",
       "      (token_type_embeddings): Embedding(2, 768)\n",
       "      (LayerNorm): LayerNorm((768,), eps=1e-12, elementwise_affine=True)\n",
       "      (dropout): Dropout(p=0.1, inplace=False)\n",
       "    )\n",
       "    (encoder): BertEncoder(\n",
       "      (layer): ModuleList(\n",
       "        (0): BertLayer(\n",
       "          (attention): BertAttention(\n",
       "            (self): BertSelfAttention(\n",
       "              (query): Linear(in_features=768, out_features=768, bias=True)\n",
       "              (key): Linear(in_features=768, out_features=768, bias=True)\n",
       "              (value): Linear(in_features=768, out_features=768, bias=True)\n",
       "              (dropout): Dropout(p=0.1, inplace=False)\n",
       "            )\n",
       "            (output): BertSelfOutput(\n",
       "              (dense): Linear(in_features=768, out_features=768, bias=True)\n",
       "              (LayerNorm): LayerNorm((768,), eps=1e-12, elementwise_affine=True)\n",
       "              (dropout): Dropout(p=0.1, inplace=False)\n",
       "            )\n",
       "          )\n",
       "          (intermediate): BertIntermediate(\n",
       "            (dense): Linear(in_features=768, out_features=3072, bias=True)\n",
       "          )\n",
       "          (output): BertOutput(\n",
       "            (dense): Linear(in_features=3072, out_features=768, bias=True)\n",
       "            (LayerNorm): LayerNorm((768,), eps=1e-12, elementwise_affine=True)\n",
       "            (dropout): Dropout(p=0.1, inplace=False)\n",
       "          )\n",
       "        )\n",
       "        (1): BertLayer(\n",
       "          (attention): BertAttention(\n",
       "            (self): BertSelfAttention(\n",
       "              (query): Linear(in_features=768, out_features=768, bias=True)\n",
       "              (key): Linear(in_features=768, out_features=768, bias=True)\n",
       "              (value): Linear(in_features=768, out_features=768, bias=True)\n",
       "              (dropout): Dropout(p=0.1, inplace=False)\n",
       "            )\n",
       "            (output): BertSelfOutput(\n",
       "              (dense): Linear(in_features=768, out_features=768, bias=True)\n",
       "              (LayerNorm): LayerNorm((768,), eps=1e-12, elementwise_affine=True)\n",
       "              (dropout): Dropout(p=0.1, inplace=False)\n",
       "            )\n",
       "          )\n",
       "          (intermediate): BertIntermediate(\n",
       "            (dense): Linear(in_features=768, out_features=3072, bias=True)\n",
       "          )\n",
       "          (output): BertOutput(\n",
       "            (dense): Linear(in_features=3072, out_features=768, bias=True)\n",
       "            (LayerNorm): LayerNorm((768,), eps=1e-12, elementwise_affine=True)\n",
       "            (dropout): Dropout(p=0.1, inplace=False)\n",
       "          )\n",
       "        )\n",
       "        (2): BertLayer(\n",
       "          (attention): BertAttention(\n",
       "            (self): BertSelfAttention(\n",
       "              (query): Linear(in_features=768, out_features=768, bias=True)\n",
       "              (key): Linear(in_features=768, out_features=768, bias=True)\n",
       "              (value): Linear(in_features=768, out_features=768, bias=True)\n",
       "              (dropout): Dropout(p=0.1, inplace=False)\n",
       "            )\n",
       "            (output): BertSelfOutput(\n",
       "              (dense): Linear(in_features=768, out_features=768, bias=True)\n",
       "              (LayerNorm): LayerNorm((768,), eps=1e-12, elementwise_affine=True)\n",
       "              (dropout): Dropout(p=0.1, inplace=False)\n",
       "            )\n",
       "          )\n",
       "          (intermediate): BertIntermediate(\n",
       "            (dense): Linear(in_features=768, out_features=3072, bias=True)\n",
       "          )\n",
       "          (output): BertOutput(\n",
       "            (dense): Linear(in_features=3072, out_features=768, bias=True)\n",
       "            (LayerNorm): LayerNorm((768,), eps=1e-12, elementwise_affine=True)\n",
       "            (dropout): Dropout(p=0.1, inplace=False)\n",
       "          )\n",
       "        )\n",
       "        (3): BertLayer(\n",
       "          (attention): BertAttention(\n",
       "            (self): BertSelfAttention(\n",
       "              (query): Linear(in_features=768, out_features=768, bias=True)\n",
       "              (key): Linear(in_features=768, out_features=768, bias=True)\n",
       "              (value): Linear(in_features=768, out_features=768, bias=True)\n",
       "              (dropout): Dropout(p=0.1, inplace=False)\n",
       "            )\n",
       "            (output): BertSelfOutput(\n",
       "              (dense): Linear(in_features=768, out_features=768, bias=True)\n",
       "              (LayerNorm): LayerNorm((768,), eps=1e-12, elementwise_affine=True)\n",
       "              (dropout): Dropout(p=0.1, inplace=False)\n",
       "            )\n",
       "          )\n",
       "          (intermediate): BertIntermediate(\n",
       "            (dense): Linear(in_features=768, out_features=3072, bias=True)\n",
       "          )\n",
       "          (output): BertOutput(\n",
       "            (dense): Linear(in_features=3072, out_features=768, bias=True)\n",
       "            (LayerNorm): LayerNorm((768,), eps=1e-12, elementwise_affine=True)\n",
       "            (dropout): Dropout(p=0.1, inplace=False)\n",
       "          )\n",
       "        )\n",
       "        (4): BertLayer(\n",
       "          (attention): BertAttention(\n",
       "            (self): BertSelfAttention(\n",
       "              (query): Linear(in_features=768, out_features=768, bias=True)\n",
       "              (key): Linear(in_features=768, out_features=768, bias=True)\n",
       "              (value): Linear(in_features=768, out_features=768, bias=True)\n",
       "              (dropout): Dropout(p=0.1, inplace=False)\n",
       "            )\n",
       "            (output): BertSelfOutput(\n",
       "              (dense): Linear(in_features=768, out_features=768, bias=True)\n",
       "              (LayerNorm): LayerNorm((768,), eps=1e-12, elementwise_affine=True)\n",
       "              (dropout): Dropout(p=0.1, inplace=False)\n",
       "            )\n",
       "          )\n",
       "          (intermediate): BertIntermediate(\n",
       "            (dense): Linear(in_features=768, out_features=3072, bias=True)\n",
       "          )\n",
       "          (output): BertOutput(\n",
       "            (dense): Linear(in_features=3072, out_features=768, bias=True)\n",
       "            (LayerNorm): LayerNorm((768,), eps=1e-12, elementwise_affine=True)\n",
       "            (dropout): Dropout(p=0.1, inplace=False)\n",
       "          )\n",
       "        )\n",
       "        (5): BertLayer(\n",
       "          (attention): BertAttention(\n",
       "            (self): BertSelfAttention(\n",
       "              (query): Linear(in_features=768, out_features=768, bias=True)\n",
       "              (key): Linear(in_features=768, out_features=768, bias=True)\n",
       "              (value): Linear(in_features=768, out_features=768, bias=True)\n",
       "              (dropout): Dropout(p=0.1, inplace=False)\n",
       "            )\n",
       "            (output): BertSelfOutput(\n",
       "              (dense): Linear(in_features=768, out_features=768, bias=True)\n",
       "              (LayerNorm): LayerNorm((768,), eps=1e-12, elementwise_affine=True)\n",
       "              (dropout): Dropout(p=0.1, inplace=False)\n",
       "            )\n",
       "          )\n",
       "          (intermediate): BertIntermediate(\n",
       "            (dense): Linear(in_features=768, out_features=3072, bias=True)\n",
       "          )\n",
       "          (output): BertOutput(\n",
       "            (dense): Linear(in_features=3072, out_features=768, bias=True)\n",
       "            (LayerNorm): LayerNorm((768,), eps=1e-12, elementwise_affine=True)\n",
       "            (dropout): Dropout(p=0.1, inplace=False)\n",
       "          )\n",
       "        )\n",
       "        (6): BertLayer(\n",
       "          (attention): BertAttention(\n",
       "            (self): BertSelfAttention(\n",
       "              (query): Linear(in_features=768, out_features=768, bias=True)\n",
       "              (key): Linear(in_features=768, out_features=768, bias=True)\n",
       "              (value): Linear(in_features=768, out_features=768, bias=True)\n",
       "              (dropout): Dropout(p=0.1, inplace=False)\n",
       "            )\n",
       "            (output): BertSelfOutput(\n",
       "              (dense): Linear(in_features=768, out_features=768, bias=True)\n",
       "              (LayerNorm): LayerNorm((768,), eps=1e-12, elementwise_affine=True)\n",
       "              (dropout): Dropout(p=0.1, inplace=False)\n",
       "            )\n",
       "          )\n",
       "          (intermediate): BertIntermediate(\n",
       "            (dense): Linear(in_features=768, out_features=3072, bias=True)\n",
       "          )\n",
       "          (output): BertOutput(\n",
       "            (dense): Linear(in_features=3072, out_features=768, bias=True)\n",
       "            (LayerNorm): LayerNorm((768,), eps=1e-12, elementwise_affine=True)\n",
       "            (dropout): Dropout(p=0.1, inplace=False)\n",
       "          )\n",
       "        )\n",
       "        (7): BertLayer(\n",
       "          (attention): BertAttention(\n",
       "            (self): BertSelfAttention(\n",
       "              (query): Linear(in_features=768, out_features=768, bias=True)\n",
       "              (key): Linear(in_features=768, out_features=768, bias=True)\n",
       "              (value): Linear(in_features=768, out_features=768, bias=True)\n",
       "              (dropout): Dropout(p=0.1, inplace=False)\n",
       "            )\n",
       "            (output): BertSelfOutput(\n",
       "              (dense): Linear(in_features=768, out_features=768, bias=True)\n",
       "              (LayerNorm): LayerNorm((768,), eps=1e-12, elementwise_affine=True)\n",
       "              (dropout): Dropout(p=0.1, inplace=False)\n",
       "            )\n",
       "          )\n",
       "          (intermediate): BertIntermediate(\n",
       "            (dense): Linear(in_features=768, out_features=3072, bias=True)\n",
       "          )\n",
       "          (output): BertOutput(\n",
       "            (dense): Linear(in_features=3072, out_features=768, bias=True)\n",
       "            (LayerNorm): LayerNorm((768,), eps=1e-12, elementwise_affine=True)\n",
       "            (dropout): Dropout(p=0.1, inplace=False)\n",
       "          )\n",
       "        )\n",
       "        (8): BertLayer(\n",
       "          (attention): BertAttention(\n",
       "            (self): BertSelfAttention(\n",
       "              (query): Linear(in_features=768, out_features=768, bias=True)\n",
       "              (key): Linear(in_features=768, out_features=768, bias=True)\n",
       "              (value): Linear(in_features=768, out_features=768, bias=True)\n",
       "              (dropout): Dropout(p=0.1, inplace=False)\n",
       "            )\n",
       "            (output): BertSelfOutput(\n",
       "              (dense): Linear(in_features=768, out_features=768, bias=True)\n",
       "              (LayerNorm): LayerNorm((768,), eps=1e-12, elementwise_affine=True)\n",
       "              (dropout): Dropout(p=0.1, inplace=False)\n",
       "            )\n",
       "          )\n",
       "          (intermediate): BertIntermediate(\n",
       "            (dense): Linear(in_features=768, out_features=3072, bias=True)\n",
       "          )\n",
       "          (output): BertOutput(\n",
       "            (dense): Linear(in_features=3072, out_features=768, bias=True)\n",
       "            (LayerNorm): LayerNorm((768,), eps=1e-12, elementwise_affine=True)\n",
       "            (dropout): Dropout(p=0.1, inplace=False)\n",
       "          )\n",
       "        )\n",
       "        (9): BertLayer(\n",
       "          (attention): BertAttention(\n",
       "            (self): BertSelfAttention(\n",
       "              (query): Linear(in_features=768, out_features=768, bias=True)\n",
       "              (key): Linear(in_features=768, out_features=768, bias=True)\n",
       "              (value): Linear(in_features=768, out_features=768, bias=True)\n",
       "              (dropout): Dropout(p=0.1, inplace=False)\n",
       "            )\n",
       "            (output): BertSelfOutput(\n",
       "              (dense): Linear(in_features=768, out_features=768, bias=True)\n",
       "              (LayerNorm): LayerNorm((768,), eps=1e-12, elementwise_affine=True)\n",
       "              (dropout): Dropout(p=0.1, inplace=False)\n",
       "            )\n",
       "          )\n",
       "          (intermediate): BertIntermediate(\n",
       "            (dense): Linear(in_features=768, out_features=3072, bias=True)\n",
       "          )\n",
       "          (output): BertOutput(\n",
       "            (dense): Linear(in_features=3072, out_features=768, bias=True)\n",
       "            (LayerNorm): LayerNorm((768,), eps=1e-12, elementwise_affine=True)\n",
       "            (dropout): Dropout(p=0.1, inplace=False)\n",
       "          )\n",
       "        )\n",
       "        (10): BertLayer(\n",
       "          (attention): BertAttention(\n",
       "            (self): BertSelfAttention(\n",
       "              (query): Linear(in_features=768, out_features=768, bias=True)\n",
       "              (key): Linear(in_features=768, out_features=768, bias=True)\n",
       "              (value): Linear(in_features=768, out_features=768, bias=True)\n",
       "              (dropout): Dropout(p=0.1, inplace=False)\n",
       "            )\n",
       "            (output): BertSelfOutput(\n",
       "              (dense): Linear(in_features=768, out_features=768, bias=True)\n",
       "              (LayerNorm): LayerNorm((768,), eps=1e-12, elementwise_affine=True)\n",
       "              (dropout): Dropout(p=0.1, inplace=False)\n",
       "            )\n",
       "          )\n",
       "          (intermediate): BertIntermediate(\n",
       "            (dense): Linear(in_features=768, out_features=3072, bias=True)\n",
       "          )\n",
       "          (output): BertOutput(\n",
       "            (dense): Linear(in_features=3072, out_features=768, bias=True)\n",
       "            (LayerNorm): LayerNorm((768,), eps=1e-12, elementwise_affine=True)\n",
       "            (dropout): Dropout(p=0.1, inplace=False)\n",
       "          )\n",
       "        )\n",
       "        (11): BertLayer(\n",
       "          (attention): BertAttention(\n",
       "            (self): BertSelfAttention(\n",
       "              (query): Linear(in_features=768, out_features=768, bias=True)\n",
       "              (key): Linear(in_features=768, out_features=768, bias=True)\n",
       "              (value): Linear(in_features=768, out_features=768, bias=True)\n",
       "              (dropout): Dropout(p=0.1, inplace=False)\n",
       "            )\n",
       "            (output): BertSelfOutput(\n",
       "              (dense): Linear(in_features=768, out_features=768, bias=True)\n",
       "              (LayerNorm): LayerNorm((768,), eps=1e-12, elementwise_affine=True)\n",
       "              (dropout): Dropout(p=0.1, inplace=False)\n",
       "            )\n",
       "          )\n",
       "          (intermediate): BertIntermediate(\n",
       "            (dense): Linear(in_features=768, out_features=3072, bias=True)\n",
       "          )\n",
       "          (output): BertOutput(\n",
       "            (dense): Linear(in_features=3072, out_features=768, bias=True)\n",
       "            (LayerNorm): LayerNorm((768,), eps=1e-12, elementwise_affine=True)\n",
       "            (dropout): Dropout(p=0.1, inplace=False)\n",
       "          )\n",
       "        )\n",
       "      )\n",
       "    )\n",
       "    (pooler): BertPooler(\n",
       "      (dense): Linear(in_features=768, out_features=768, bias=True)\n",
       "      (activation): Tanh()\n",
       "    )\n",
       "  )\n",
       "  (dropout): Dropout(p=0.1, inplace=False)\n",
       "  (classifier): Linear(in_features=768, out_features=2, bias=True)\n",
       ")"
      ]
     },
     "execution_count": 40,
     "metadata": {},
     "output_type": "execute_result"
    }
   ],
   "source": [
    "from transformers import BertForSequenceClassification, AdamW, BertConfig\n",
    "\n",
    "# Load BertForSequenceClassification, the pretrained BERT model with a single \n",
    "# linear classification layer on top. \n",
    "model = BertForSequenceClassification.from_pretrained(\n",
    "    \"bert-base-uncased\", # Use the 12-layer BERT model, with an uncased vocab.\n",
    "    num_labels = 2, # The number of output labels--2 for binary classification.\n",
    "                    # You can increase this for multi-class tasks.   \n",
    "    output_attentions = False, # Whether the model returns attentions weights.\n",
    "    output_hidden_states = False, # Whether the model returns all hidden-states.\n",
    ")\n",
    "\n",
    "# Tell pytorch to run this model on the GPU.\n",
    "model.cuda()"
   ]
  },
  {
   "cell_type": "markdown",
   "metadata": {
    "colab_type": "text",
    "id": "e0Jv6c7-HHDW"
   },
   "source": [
    "Just for curiosity's sake, we can browse all of the model's parameters by name here.\n",
    "\n",
    "In the below cell, I've printed out the names and dimensions of the weights for:\n",
    "\n",
    "1. The embedding layer.\n",
    "2. The first of the twelve transformers.\n",
    "3. The output layer.\n",
    "\n",
    "\n"
   ]
  },
  {
   "cell_type": "code",
   "execution_count": 41,
   "metadata": {
    "colab": {
     "base_uri": "https://localhost:8080/",
     "height": 625
    },
    "colab_type": "code",
    "executionInfo": {
     "elapsed": 800,
     "status": "ok",
     "timestamp": 1600861598901,
     "user": {
      "displayName": "Samuel Wallace",
      "photoUrl": "https://lh3.googleusercontent.com/a-/AOh14GieGc751pI1iFeZZkuR0v9y05mAb2oH3wokXOew=s64",
      "userId": "05300670275551486533"
     },
     "user_tz": 240
    },
    "id": "8PIiVlDYCtSq",
    "outputId": "b55c3269-04b1-4d54-af9b-f38ff37fff0b"
   },
   "outputs": [
    {
     "name": "stdout",
     "output_type": "stream",
     "text": [
      "The BERT model has 201 different named parameters.\n",
      "\n",
      "==== Embedding Layer ====\n",
      "\n",
      "bert.embeddings.word_embeddings.weight                  (30522, 768)\n",
      "bert.embeddings.position_embeddings.weight                (512, 768)\n",
      "bert.embeddings.token_type_embeddings.weight                (2, 768)\n",
      "bert.embeddings.LayerNorm.weight                              (768,)\n",
      "bert.embeddings.LayerNorm.bias                                (768,)\n",
      "\n",
      "==== First Transformer ====\n",
      "\n",
      "bert.encoder.layer.0.attention.self.query.weight          (768, 768)\n",
      "bert.encoder.layer.0.attention.self.query.bias                (768,)\n",
      "bert.encoder.layer.0.attention.self.key.weight            (768, 768)\n",
      "bert.encoder.layer.0.attention.self.key.bias                  (768,)\n",
      "bert.encoder.layer.0.attention.self.value.weight          (768, 768)\n",
      "bert.encoder.layer.0.attention.self.value.bias                (768,)\n",
      "bert.encoder.layer.0.attention.output.dense.weight        (768, 768)\n",
      "bert.encoder.layer.0.attention.output.dense.bias              (768,)\n",
      "bert.encoder.layer.0.attention.output.LayerNorm.weight        (768,)\n",
      "bert.encoder.layer.0.attention.output.LayerNorm.bias          (768,)\n",
      "bert.encoder.layer.0.intermediate.dense.weight           (3072, 768)\n",
      "bert.encoder.layer.0.intermediate.dense.bias                 (3072,)\n",
      "bert.encoder.layer.0.output.dense.weight                 (768, 3072)\n",
      "bert.encoder.layer.0.output.dense.bias                        (768,)\n",
      "bert.encoder.layer.0.output.LayerNorm.weight                  (768,)\n",
      "bert.encoder.layer.0.output.LayerNorm.bias                    (768,)\n",
      "\n",
      "==== Output Layer ====\n",
      "\n",
      "bert.pooler.dense.weight                                  (768, 768)\n",
      "bert.pooler.dense.bias                                        (768,)\n",
      "classifier.weight                                           (2, 768)\n",
      "classifier.bias                                                 (2,)\n"
     ]
    }
   ],
   "source": [
    "# Get all of the model's parameters as a list of tuples.\n",
    "params = list(model.named_parameters())\n",
    "\n",
    "print('The BERT model has {:} different named parameters.\\n'.format(len(params)))\n",
    "\n",
    "print('==== Embedding Layer ====\\n')\n",
    "\n",
    "for p in params[0:5]:\n",
    "    print(\"{:<55} {:>12}\".format(p[0], str(tuple(p[1].size()))))\n",
    "\n",
    "print('\\n==== First Transformer ====\\n')\n",
    "\n",
    "for p in params[5:21]:\n",
    "    print(\"{:<55} {:>12}\".format(p[0], str(tuple(p[1].size()))))\n",
    "\n",
    "print('\\n==== Output Layer ====\\n')\n",
    "\n",
    "for p in params[-4:]:\n",
    "    print(\"{:<55} {:>12}\".format(p[0], str(tuple(p[1].size()))))"
   ]
  },
  {
   "cell_type": "markdown",
   "metadata": {
    "colab_type": "text",
    "id": "qRWT-D4U_Pvx"
   },
   "source": [
    "## 4.2. Optimizer & Learning Rate Scheduler"
   ]
  },
  {
   "cell_type": "markdown",
   "metadata": {
    "colab_type": "text",
    "id": "8o-VEBobKwHk"
   },
   "source": [
    "Now that we have our model loaded we need to grab the training hyperparameters from within the stored model.\n",
    "\n",
    "For the purposes of fine-tuning, the authors recommend choosing from the following values (from Appendix A.3 of the [BERT paper](https://arxiv.org/pdf/1810.04805.pdf)):\n",
    "\n",
    ">- **Batch size:** 16, 32  \n",
    "- **Learning rate (Adam):** 5e-5, 3e-5, 2e-5  \n",
    "- **Number of epochs:** 2, 3, 4 \n",
    "\n",
    "We chose:\n",
    "* Batch size: 32 (set when creating our DataLoaders)\n",
    "* Learning rate: 2e-5\n",
    "* Epochs: 4 (we'll see that this is probably too many...)\n",
    "\n",
    "The epsilon parameter `eps = 1e-8` is \"a very small number to prevent any division by zero in the implementation\" (from [here](https://machinelearningmastery.com/adam-optimization-algorithm-for-deep-learning/)).\n",
    "\n",
    "You can find the creation of the AdamW optimizer in `run_glue.py` [here](https://github.com/huggingface/transformers/blob/5bfcd0485ece086ebcbed2d008813037968a9e58/examples/run_glue.py#L109)."
   ]
  },
  {
   "cell_type": "code",
   "execution_count": 42,
   "metadata": {
    "colab": {},
    "colab_type": "code",
    "executionInfo": {
     "elapsed": 872,
     "status": "ok",
     "timestamp": 1600861623883,
     "user": {
      "displayName": "Samuel Wallace",
      "photoUrl": "https://lh3.googleusercontent.com/a-/AOh14GieGc751pI1iFeZZkuR0v9y05mAb2oH3wokXOew=s64",
      "userId": "05300670275551486533"
     },
     "user_tz": 240
    },
    "id": "GLs72DuMODJO"
   },
   "outputs": [],
   "source": [
    "# Note: AdamW is a class from the huggingface library (as opposed to pytorch) \n",
    "# I believe the 'W' stands for 'Weight Decay fix\"\n",
    "optimizer = AdamW(model.parameters(),\n",
    "                  lr = 2e-5, # args.learning_rate - default is 5e-5, our notebook had 2e-5\n",
    "                  eps = 1e-8 # args.adam_epsilon  - default is 1e-8.\n",
    "                )\n"
   ]
  },
  {
   "cell_type": "code",
   "execution_count": 43,
   "metadata": {
    "colab": {},
    "colab_type": "code",
    "executionInfo": {
     "elapsed": 919,
     "status": "ok",
     "timestamp": 1600861630151,
     "user": {
      "displayName": "Samuel Wallace",
      "photoUrl": "https://lh3.googleusercontent.com/a-/AOh14GieGc751pI1iFeZZkuR0v9y05mAb2oH3wokXOew=s64",
      "userId": "05300670275551486533"
     },
     "user_tz": 240
    },
    "id": "-p0upAhhRiIx"
   },
   "outputs": [],
   "source": [
    "from transformers import get_linear_schedule_with_warmup\n",
    "\n",
    "# Number of training epochs. The BERT authors recommend between 2 and 4. \n",
    "# We chose to run for 4, but we'll see later that this may be over-fitting the\n",
    "# training data.\n",
    "epochs = 4\n",
    "\n",
    "# Total number of training steps is [number of batches] x [number of epochs]. \n",
    "# (Note that this is not the same as the number of training samples).\n",
    "total_steps = len(train_dataloader) * epochs\n",
    "\n",
    "# Create the learning rate scheduler.\n",
    "scheduler = get_linear_schedule_with_warmup(optimizer, \n",
    "                                            num_warmup_steps = 0, # Default value in run_glue.py\n",
    "                                            num_training_steps = total_steps)"
   ]
  },
  {
   "cell_type": "markdown",
   "metadata": {
    "colab_type": "text",
    "id": "RqfmWwUR_Sox"
   },
   "source": [
    "## 4.3. Training Loop"
   ]
  },
  {
   "cell_type": "markdown",
   "metadata": {
    "colab_type": "text",
    "id": "_QXZhFb4LnV5"
   },
   "source": [
    "Below is our training loop. There's a lot going on, but fundamentally for each pass in our loop we have a trianing phase and a validation phase. \n",
    "\n",
    "> *Thank you to [Stas Bekman](https://ca.linkedin.com/in/stasbekman) for contributing the insights and code for using validation loss to detect over-fitting!*\n",
    "\n",
    "**Training:**\n",
    "- Unpack our data inputs and labels\n",
    "- Load data onto the GPU for acceleration\n",
    "- Clear out the gradients calculated in the previous pass. \n",
    "    - In pytorch the gradients accumulate by default (useful for things like RNNs) unless you explicitly clear them out.\n",
    "- Forward pass (feed input data through the network)\n",
    "- Backward pass (backpropagation)\n",
    "- Tell the network to update parameters with optimizer.step()\n",
    "- Track variables for monitoring progress\n",
    "\n",
    "**Evalution:**\n",
    "- Unpack our data inputs and labels\n",
    "- Load data onto the GPU for acceleration\n",
    "- Forward pass (feed input data through the network)\n",
    "- Compute loss on our validation data and track variables for monitoring progress\n",
    "\n",
    "Pytorch hides all of the detailed calculations from us, but we've commented the code to point out which of the above steps are happening on each line. \n",
    "\n",
    "> *PyTorch also has some [beginner tutorials](https://pytorch.org/tutorials/beginner/blitz/cifar10_tutorial.html#sphx-glr-beginner-blitz-cifar10-tutorial-py) which you may also find helpful.*"
   ]
  },
  {
   "cell_type": "markdown",
   "metadata": {
    "colab_type": "text",
    "id": "pE5B99H5H2-W"
   },
   "source": [
    "Define a helper function for calculating accuracy."
   ]
  },
  {
   "cell_type": "code",
   "execution_count": 44,
   "metadata": {
    "colab": {},
    "colab_type": "code",
    "executionInfo": {
     "elapsed": 794,
     "status": "ok",
     "timestamp": 1600861674459,
     "user": {
      "displayName": "Samuel Wallace",
      "photoUrl": "https://lh3.googleusercontent.com/a-/AOh14GieGc751pI1iFeZZkuR0v9y05mAb2oH3wokXOew=s64",
      "userId": "05300670275551486533"
     },
     "user_tz": 240
    },
    "id": "9cQNvaZ9bnyy"
   },
   "outputs": [],
   "source": [
    "import numpy as np\n",
    "\n",
    "# Function to calculate the accuracy of our predictions vs labels\n",
    "def flat_accuracy(preds, labels):\n",
    "    pred_flat = np.argmax(preds, axis=1).flatten()\n",
    "    labels_flat = labels.flatten()\n",
    "    return np.sum(pred_flat == labels_flat) / len(labels_flat)"
   ]
  },
  {
   "cell_type": "markdown",
   "metadata": {
    "colab_type": "text",
    "id": "KNhRtWPXH9C3"
   },
   "source": [
    "Helper function for formatting elapsed times as `hh:mm:ss`\n"
   ]
  },
  {
   "cell_type": "code",
   "execution_count": 45,
   "metadata": {
    "colab": {},
    "colab_type": "code",
    "executionInfo": {
     "elapsed": 753,
     "status": "ok",
     "timestamp": 1600861684754,
     "user": {
      "displayName": "Samuel Wallace",
      "photoUrl": "https://lh3.googleusercontent.com/a-/AOh14GieGc751pI1iFeZZkuR0v9y05mAb2oH3wokXOew=s64",
      "userId": "05300670275551486533"
     },
     "user_tz": 240
    },
    "id": "gpt6tR83keZD"
   },
   "outputs": [],
   "source": [
    "import time\n",
    "import datetime\n",
    "\n",
    "def format_time(elapsed):\n",
    "    '''\n",
    "    Takes a time in seconds and returns a string hh:mm:ss\n",
    "    '''\n",
    "    # Round to the nearest second.\n",
    "    elapsed_rounded = int(round((elapsed)))\n",
    "    \n",
    "    # Format as hh:mm:ss\n",
    "    return str(datetime.timedelta(seconds=elapsed_rounded))\n"
   ]
  },
  {
   "cell_type": "markdown",
   "metadata": {
    "colab_type": "text",
    "id": "cfNIhN19te3N"
   },
   "source": [
    "We're ready to kick off the training!"
   ]
  },
  {
   "cell_type": "code",
   "execution_count": 46,
   "metadata": {
    "colab": {
     "base_uri": "https://localhost:8080/",
     "height": 469
    },
    "colab_type": "code",
    "executionInfo": {
     "elapsed": 805,
     "status": "error",
     "timestamp": 1600861761635,
     "user": {
      "displayName": "Samuel Wallace",
      "photoUrl": "https://lh3.googleusercontent.com/a-/AOh14GieGc751pI1iFeZZkuR0v9y05mAb2oH3wokXOew=s64",
      "userId": "05300670275551486533"
     },
     "user_tz": 240
    },
    "id": "6J-FYdx6nFE_",
    "outputId": "daf12b41-903b-4a0e-eb25-4d9ce4c8299e"
   },
   "outputs": [
    {
     "name": "stdout",
     "output_type": "stream",
     "text": [
      "\n",
      "======== Epoch 1 / 4 ========\n",
      "Training...\n",
      "  Batch    40  of  7,072.    Elapsed: 0:00:05.\n",
      "  Batch    80  of  7,072.    Elapsed: 0:00:11.\n",
      "  Batch   120  of  7,072.    Elapsed: 0:00:16.\n",
      "  Batch   160  of  7,072.    Elapsed: 0:00:21.\n",
      "  Batch   200  of  7,072.    Elapsed: 0:00:26.\n",
      "  Batch   240  of  7,072.    Elapsed: 0:00:32.\n",
      "  Batch   280  of  7,072.    Elapsed: 0:00:38.\n",
      "  Batch   320  of  7,072.    Elapsed: 0:00:43.\n",
      "  Batch   360  of  7,072.    Elapsed: 0:00:49.\n",
      "  Batch   400  of  7,072.    Elapsed: 0:00:54.\n",
      "  Batch   440  of  7,072.    Elapsed: 0:00:59.\n",
      "  Batch   480  of  7,072.    Elapsed: 0:01:05.\n",
      "  Batch   520  of  7,072.    Elapsed: 0:01:10.\n",
      "  Batch   560  of  7,072.    Elapsed: 0:01:15.\n",
      "  Batch   600  of  7,072.    Elapsed: 0:01:21.\n",
      "  Batch   640  of  7,072.    Elapsed: 0:01:26.\n",
      "  Batch   680  of  7,072.    Elapsed: 0:01:31.\n",
      "  Batch   720  of  7,072.    Elapsed: 0:01:37.\n",
      "  Batch   760  of  7,072.    Elapsed: 0:01:43.\n",
      "  Batch   800  of  7,072.    Elapsed: 0:01:48.\n",
      "  Batch   840  of  7,072.    Elapsed: 0:01:54.\n",
      "  Batch   880  of  7,072.    Elapsed: 0:01:59.\n",
      "  Batch   920  of  7,072.    Elapsed: 0:02:05.\n",
      "  Batch   960  of  7,072.    Elapsed: 0:02:10.\n",
      "  Batch 1,000  of  7,072.    Elapsed: 0:02:16.\n",
      "  Batch 1,040  of  7,072.    Elapsed: 0:02:21.\n",
      "  Batch 1,080  of  7,072.    Elapsed: 0:02:26.\n",
      "  Batch 1,120  of  7,072.    Elapsed: 0:02:32.\n",
      "  Batch 1,160  of  7,072.    Elapsed: 0:02:37.\n",
      "  Batch 1,200  of  7,072.    Elapsed: 0:02:42.\n",
      "  Batch 1,240  of  7,072.    Elapsed: 0:02:47.\n",
      "  Batch 1,280  of  7,072.    Elapsed: 0:02:52.\n",
      "  Batch 1,320  of  7,072.    Elapsed: 0:02:57.\n",
      "  Batch 1,360  of  7,072.    Elapsed: 0:03:03.\n",
      "  Batch 1,400  of  7,072.    Elapsed: 0:03:08.\n",
      "  Batch 1,440  of  7,072.    Elapsed: 0:03:13.\n",
      "  Batch 1,480  of  7,072.    Elapsed: 0:03:18.\n",
      "  Batch 1,520  of  7,072.    Elapsed: 0:03:24.\n",
      "  Batch 1,560  of  7,072.    Elapsed: 0:03:29.\n",
      "  Batch 1,600  of  7,072.    Elapsed: 0:03:34.\n",
      "  Batch 1,640  of  7,072.    Elapsed: 0:03:39.\n",
      "  Batch 1,680  of  7,072.    Elapsed: 0:03:45.\n",
      "  Batch 1,720  of  7,072.    Elapsed: 0:03:50.\n",
      "  Batch 1,760  of  7,072.    Elapsed: 0:03:55.\n",
      "  Batch 1,800  of  7,072.    Elapsed: 0:04:00.\n",
      "  Batch 1,840  of  7,072.    Elapsed: 0:04:05.\n",
      "  Batch 1,880  of  7,072.    Elapsed: 0:04:11.\n",
      "  Batch 1,920  of  7,072.    Elapsed: 0:04:16.\n",
      "  Batch 1,960  of  7,072.    Elapsed: 0:04:21.\n",
      "  Batch 2,000  of  7,072.    Elapsed: 0:04:26.\n",
      "  Batch 2,040  of  7,072.    Elapsed: 0:04:32.\n",
      "  Batch 2,080  of  7,072.    Elapsed: 0:04:37.\n",
      "  Batch 2,120  of  7,072.    Elapsed: 0:04:42.\n",
      "  Batch 2,160  of  7,072.    Elapsed: 0:04:47.\n",
      "  Batch 2,200  of  7,072.    Elapsed: 0:04:52.\n",
      "  Batch 2,240  of  7,072.    Elapsed: 0:04:58.\n",
      "  Batch 2,280  of  7,072.    Elapsed: 0:05:03.\n",
      "  Batch 2,320  of  7,072.    Elapsed: 0:05:08.\n",
      "  Batch 2,360  of  7,072.    Elapsed: 0:05:13.\n",
      "  Batch 2,400  of  7,072.    Elapsed: 0:05:18.\n",
      "  Batch 2,440  of  7,072.    Elapsed: 0:05:24.\n",
      "  Batch 2,480  of  7,072.    Elapsed: 0:05:29.\n",
      "  Batch 2,520  of  7,072.    Elapsed: 0:05:34.\n",
      "  Batch 2,560  of  7,072.    Elapsed: 0:05:40.\n",
      "  Batch 2,600  of  7,072.    Elapsed: 0:05:45.\n",
      "  Batch 2,640  of  7,072.    Elapsed: 0:05:51.\n",
      "  Batch 2,680  of  7,072.    Elapsed: 0:05:57.\n",
      "  Batch 2,720  of  7,072.    Elapsed: 0:06:03.\n",
      "  Batch 2,760  of  7,072.    Elapsed: 0:06:09.\n",
      "  Batch 2,800  of  7,072.    Elapsed: 0:06:15.\n",
      "  Batch 2,840  of  7,072.    Elapsed: 0:06:21.\n",
      "  Batch 2,880  of  7,072.    Elapsed: 0:06:27.\n",
      "  Batch 2,920  of  7,072.    Elapsed: 0:06:33.\n",
      "  Batch 2,960  of  7,072.    Elapsed: 0:06:39.\n",
      "  Batch 3,000  of  7,072.    Elapsed: 0:06:46.\n",
      "  Batch 3,040  of  7,072.    Elapsed: 0:06:52.\n",
      "  Batch 3,080  of  7,072.    Elapsed: 0:06:57.\n",
      "  Batch 3,120  of  7,072.    Elapsed: 0:07:03.\n",
      "  Batch 3,160  of  7,072.    Elapsed: 0:07:09.\n",
      "  Batch 3,200  of  7,072.    Elapsed: 0:07:15.\n",
      "  Batch 3,240  of  7,072.    Elapsed: 0:07:21.\n",
      "  Batch 3,280  of  7,072.    Elapsed: 0:07:28.\n",
      "  Batch 3,320  of  7,072.    Elapsed: 0:07:34.\n",
      "  Batch 3,360  of  7,072.    Elapsed: 0:07:40.\n",
      "  Batch 3,400  of  7,072.    Elapsed: 0:07:46.\n",
      "  Batch 3,440  of  7,072.    Elapsed: 0:07:52.\n",
      "  Batch 3,480  of  7,072.    Elapsed: 0:07:58.\n",
      "  Batch 3,520  of  7,072.    Elapsed: 0:08:03.\n",
      "  Batch 3,560  of  7,072.    Elapsed: 0:08:09.\n",
      "  Batch 3,600  of  7,072.    Elapsed: 0:08:15.\n",
      "  Batch 3,640  of  7,072.    Elapsed: 0:08:21.\n",
      "  Batch 3,680  of  7,072.    Elapsed: 0:08:27.\n",
      "  Batch 3,720  of  7,072.    Elapsed: 0:08:32.\n",
      "  Batch 3,760  of  7,072.    Elapsed: 0:08:37.\n",
      "  Batch 3,800  of  7,072.    Elapsed: 0:08:43.\n",
      "  Batch 3,840  of  7,072.    Elapsed: 0:08:48.\n",
      "  Batch 3,880  of  7,072.    Elapsed: 0:08:54.\n",
      "  Batch 3,920  of  7,072.    Elapsed: 0:08:59.\n",
      "  Batch 3,960  of  7,072.    Elapsed: 0:09:05.\n",
      "  Batch 4,000  of  7,072.    Elapsed: 0:09:10.\n",
      "  Batch 4,040  of  7,072.    Elapsed: 0:09:15.\n",
      "  Batch 4,080  of  7,072.    Elapsed: 0:09:21.\n",
      "  Batch 4,120  of  7,072.    Elapsed: 0:09:26.\n",
      "  Batch 4,160  of  7,072.    Elapsed: 0:09:31.\n",
      "  Batch 4,200  of  7,072.    Elapsed: 0:09:37.\n",
      "  Batch 4,240  of  7,072.    Elapsed: 0:09:42.\n",
      "  Batch 4,280  of  7,072.    Elapsed: 0:09:47.\n",
      "  Batch 4,320  of  7,072.    Elapsed: 0:09:53.\n",
      "  Batch 4,360  of  7,072.    Elapsed: 0:09:58.\n",
      "  Batch 4,400  of  7,072.    Elapsed: 0:10:03.\n",
      "  Batch 4,440  of  7,072.    Elapsed: 0:10:09.\n",
      "  Batch 4,480  of  7,072.    Elapsed: 0:10:14.\n",
      "  Batch 4,520  of  7,072.    Elapsed: 0:10:19.\n",
      "  Batch 4,560  of  7,072.    Elapsed: 0:10:25.\n",
      "  Batch 4,600  of  7,072.    Elapsed: 0:10:30.\n",
      "  Batch 4,640  of  7,072.    Elapsed: 0:10:35.\n",
      "  Batch 4,680  of  7,072.    Elapsed: 0:10:41.\n",
      "  Batch 4,720  of  7,072.    Elapsed: 0:10:46.\n",
      "  Batch 4,760  of  7,072.    Elapsed: 0:10:51.\n",
      "  Batch 4,800  of  7,072.    Elapsed: 0:10:57.\n",
      "  Batch 4,840  of  7,072.    Elapsed: 0:11:02.\n",
      "  Batch 4,880  of  7,072.    Elapsed: 0:11:07.\n",
      "  Batch 4,920  of  7,072.    Elapsed: 0:11:12.\n",
      "  Batch 4,960  of  7,072.    Elapsed: 0:11:18.\n",
      "  Batch 5,000  of  7,072.    Elapsed: 0:11:23.\n",
      "  Batch 5,040  of  7,072.    Elapsed: 0:11:29.\n",
      "  Batch 5,080  of  7,072.    Elapsed: 0:11:34.\n",
      "  Batch 5,120  of  7,072.    Elapsed: 0:11:40.\n",
      "  Batch 5,160  of  7,072.    Elapsed: 0:11:45.\n",
      "  Batch 5,200  of  7,072.    Elapsed: 0:11:51.\n",
      "  Batch 5,240  of  7,072.    Elapsed: 0:11:56.\n",
      "  Batch 5,280  of  7,072.    Elapsed: 0:12:01.\n",
      "  Batch 5,320  of  7,072.    Elapsed: 0:12:07.\n",
      "  Batch 5,360  of  7,072.    Elapsed: 0:12:12.\n",
      "  Batch 5,400  of  7,072.    Elapsed: 0:12:17.\n",
      "  Batch 5,440  of  7,072.    Elapsed: 0:12:23.\n",
      "  Batch 5,480  of  7,072.    Elapsed: 0:12:28.\n",
      "  Batch 5,520  of  7,072.    Elapsed: 0:12:33.\n",
      "  Batch 5,560  of  7,072.    Elapsed: 0:12:39.\n",
      "  Batch 5,600  of  7,072.    Elapsed: 0:12:44.\n",
      "  Batch 5,640  of  7,072.    Elapsed: 0:12:50.\n",
      "  Batch 5,680  of  7,072.    Elapsed: 0:12:55.\n",
      "  Batch 5,720  of  7,072.    Elapsed: 0:13:00.\n",
      "  Batch 5,760  of  7,072.    Elapsed: 0:13:06.\n",
      "  Batch 5,800  of  7,072.    Elapsed: 0:13:12.\n",
      "  Batch 5,840  of  7,072.    Elapsed: 0:13:17.\n",
      "  Batch 5,880  of  7,072.    Elapsed: 0:13:23.\n",
      "  Batch 5,920  of  7,072.    Elapsed: 0:13:29.\n",
      "  Batch 5,960  of  7,072.    Elapsed: 0:13:34.\n",
      "  Batch 6,000  of  7,072.    Elapsed: 0:13:40.\n",
      "  Batch 6,040  of  7,072.    Elapsed: 0:13:46.\n",
      "  Batch 6,080  of  7,072.    Elapsed: 0:13:51.\n",
      "  Batch 6,120  of  7,072.    Elapsed: 0:13:57.\n",
      "  Batch 6,160  of  7,072.    Elapsed: 0:14:03.\n",
      "  Batch 6,200  of  7,072.    Elapsed: 0:14:09.\n",
      "  Batch 6,240  of  7,072.    Elapsed: 0:14:14.\n",
      "  Batch 6,280  of  7,072.    Elapsed: 0:14:20.\n",
      "  Batch 6,320  of  7,072.    Elapsed: 0:14:25.\n",
      "  Batch 6,360  of  7,072.    Elapsed: 0:14:30.\n",
      "  Batch 6,400  of  7,072.    Elapsed: 0:14:35.\n",
      "  Batch 6,440  of  7,072.    Elapsed: 0:14:41.\n",
      "  Batch 6,480  of  7,072.    Elapsed: 0:14:46.\n",
      "  Batch 6,520  of  7,072.    Elapsed: 0:14:52.\n",
      "  Batch 6,560  of  7,072.    Elapsed: 0:14:58.\n",
      "  Batch 6,600  of  7,072.    Elapsed: 0:15:03.\n",
      "  Batch 6,640  of  7,072.    Elapsed: 0:15:09.\n",
      "  Batch 6,680  of  7,072.    Elapsed: 0:15:15.\n",
      "  Batch 6,720  of  7,072.    Elapsed: 0:15:20.\n",
      "  Batch 6,760  of  7,072.    Elapsed: 0:15:26.\n",
      "  Batch 6,800  of  7,072.    Elapsed: 0:15:31.\n",
      "  Batch 6,840  of  7,072.    Elapsed: 0:15:37.\n",
      "  Batch 6,880  of  7,072.    Elapsed: 0:15:43.\n",
      "  Batch 6,920  of  7,072.    Elapsed: 0:15:48.\n",
      "  Batch 6,960  of  7,072.    Elapsed: 0:15:54.\n",
      "  Batch 7,000  of  7,072.    Elapsed: 0:16:00.\n",
      "  Batch 7,040  of  7,072.    Elapsed: 0:16:05.\n",
      "\n",
      "  Average training loss: 0.41\n",
      "  Training epcoh took: 0:16:09\n",
      "\n",
      "Running Validation...\n",
      "  Accuracy: 0.87\n",
      "  Validation Loss: 0.32\n",
      "  Validation took: 0:00:26\n",
      "\n",
      "======== Epoch 2 / 4 ========\n",
      "Training...\n",
      "  Batch    40  of  7,072.    Elapsed: 0:00:05.\n",
      "  Batch    80  of  7,072.    Elapsed: 0:00:11.\n",
      "  Batch   120  of  7,072.    Elapsed: 0:00:16.\n",
      "  Batch   160  of  7,072.    Elapsed: 0:00:22.\n",
      "  Batch   200  of  7,072.    Elapsed: 0:00:27.\n",
      "  Batch   240  of  7,072.    Elapsed: 0:00:32.\n",
      "  Batch   280  of  7,072.    Elapsed: 0:00:37.\n",
      "  Batch   320  of  7,072.    Elapsed: 0:00:42.\n",
      "  Batch   360  of  7,072.    Elapsed: 0:00:48.\n",
      "  Batch   400  of  7,072.    Elapsed: 0:00:54.\n",
      "  Batch   440  of  7,072.    Elapsed: 0:00:59.\n",
      "  Batch   480  of  7,072.    Elapsed: 0:01:04.\n",
      "  Batch   520  of  7,072.    Elapsed: 0:01:10.\n",
      "  Batch   560  of  7,072.    Elapsed: 0:01:15.\n",
      "  Batch   600  of  7,072.    Elapsed: 0:01:20.\n",
      "  Batch   640  of  7,072.    Elapsed: 0:01:26.\n",
      "  Batch   680  of  7,072.    Elapsed: 0:01:31.\n",
      "  Batch   720  of  7,072.    Elapsed: 0:01:36.\n",
      "  Batch   760  of  7,072.    Elapsed: 0:01:41.\n",
      "  Batch   800  of  7,072.    Elapsed: 0:01:46.\n",
      "  Batch   840  of  7,072.    Elapsed: 0:01:52.\n",
      "  Batch   880  of  7,072.    Elapsed: 0:01:57.\n",
      "  Batch   920  of  7,072.    Elapsed: 0:02:02.\n",
      "  Batch   960  of  7,072.    Elapsed: 0:02:08.\n",
      "  Batch 1,000  of  7,072.    Elapsed: 0:02:13.\n",
      "  Batch 1,040  of  7,072.    Elapsed: 0:02:18.\n",
      "  Batch 1,080  of  7,072.    Elapsed: 0:02:23.\n",
      "  Batch 1,120  of  7,072.    Elapsed: 0:02:29.\n",
      "  Batch 1,160  of  7,072.    Elapsed: 0:02:34.\n",
      "  Batch 1,200  of  7,072.    Elapsed: 0:02:39.\n",
      "  Batch 1,240  of  7,072.    Elapsed: 0:02:44.\n",
      "  Batch 1,280  of  7,072.    Elapsed: 0:02:50.\n",
      "  Batch 1,320  of  7,072.    Elapsed: 0:02:55.\n",
      "  Batch 1,360  of  7,072.    Elapsed: 0:03:01.\n",
      "  Batch 1,400  of  7,072.    Elapsed: 0:03:06.\n",
      "  Batch 1,440  of  7,072.    Elapsed: 0:03:12.\n",
      "  Batch 1,480  of  7,072.    Elapsed: 0:03:18.\n",
      "  Batch 1,520  of  7,072.    Elapsed: 0:03:23.\n",
      "  Batch 1,560  of  7,072.    Elapsed: 0:03:29.\n",
      "  Batch 1,600  of  7,072.    Elapsed: 0:03:34.\n",
      "  Batch 1,640  of  7,072.    Elapsed: 0:03:40.\n",
      "  Batch 1,680  of  7,072.    Elapsed: 0:03:45.\n",
      "  Batch 1,720  of  7,072.    Elapsed: 0:03:51.\n",
      "  Batch 1,760  of  7,072.    Elapsed: 0:03:57.\n",
      "  Batch 1,800  of  7,072.    Elapsed: 0:04:02.\n",
      "  Batch 1,840  of  7,072.    Elapsed: 0:04:07.\n",
      "  Batch 1,880  of  7,072.    Elapsed: 0:04:13.\n",
      "  Batch 1,920  of  7,072.    Elapsed: 0:04:18.\n",
      "  Batch 1,960  of  7,072.    Elapsed: 0:04:23.\n",
      "  Batch 2,000  of  7,072.    Elapsed: 0:04:29.\n",
      "  Batch 2,040  of  7,072.    Elapsed: 0:04:34.\n",
      "  Batch 2,080  of  7,072.    Elapsed: 0:04:40.\n",
      "  Batch 2,120  of  7,072.    Elapsed: 0:04:45.\n",
      "  Batch 2,160  of  7,072.    Elapsed: 0:04:50.\n",
      "  Batch 2,200  of  7,072.    Elapsed: 0:04:56.\n",
      "  Batch 2,240  of  7,072.    Elapsed: 0:05:01.\n",
      "  Batch 2,280  of  7,072.    Elapsed: 0:05:06.\n",
      "  Batch 2,320  of  7,072.    Elapsed: 0:05:11.\n",
      "  Batch 2,360  of  7,072.    Elapsed: 0:05:17.\n",
      "  Batch 2,400  of  7,072.    Elapsed: 0:05:22.\n",
      "  Batch 2,440  of  7,072.    Elapsed: 0:05:27.\n",
      "  Batch 2,480  of  7,072.    Elapsed: 0:05:32.\n",
      "  Batch 2,520  of  7,072.    Elapsed: 0:05:38.\n",
      "  Batch 2,560  of  7,072.    Elapsed: 0:05:43.\n",
      "  Batch 2,600  of  7,072.    Elapsed: 0:05:49.\n",
      "  Batch 2,640  of  7,072.    Elapsed: 0:05:54.\n",
      "  Batch 2,680  of  7,072.    Elapsed: 0:05:59.\n",
      "  Batch 2,720  of  7,072.    Elapsed: 0:06:04.\n",
      "  Batch 2,760  of  7,072.    Elapsed: 0:06:10.\n",
      "  Batch 2,800  of  7,072.    Elapsed: 0:06:15.\n",
      "  Batch 2,840  of  7,072.    Elapsed: 0:06:20.\n",
      "  Batch 2,880  of  7,072.    Elapsed: 0:06:26.\n",
      "  Batch 2,920  of  7,072.    Elapsed: 0:06:31.\n",
      "  Batch 2,960  of  7,072.    Elapsed: 0:06:36.\n",
      "  Batch 3,000  of  7,072.    Elapsed: 0:06:41.\n",
      "  Batch 3,040  of  7,072.    Elapsed: 0:06:46.\n",
      "  Batch 3,080  of  7,072.    Elapsed: 0:06:52.\n",
      "  Batch 3,120  of  7,072.    Elapsed: 0:06:57.\n",
      "  Batch 3,160  of  7,072.    Elapsed: 0:07:02.\n",
      "  Batch 3,200  of  7,072.    Elapsed: 0:07:07.\n",
      "  Batch 3,240  of  7,072.    Elapsed: 0:07:12.\n",
      "  Batch 3,280  of  7,072.    Elapsed: 0:07:17.\n",
      "  Batch 3,320  of  7,072.    Elapsed: 0:07:23.\n",
      "  Batch 3,360  of  7,072.    Elapsed: 0:07:28.\n",
      "  Batch 3,400  of  7,072.    Elapsed: 0:07:34.\n",
      "  Batch 3,440  of  7,072.    Elapsed: 0:07:39.\n",
      "  Batch 3,480  of  7,072.    Elapsed: 0:07:44.\n",
      "  Batch 3,520  of  7,072.    Elapsed: 0:07:49.\n",
      "  Batch 3,560  of  7,072.    Elapsed: 0:07:54.\n",
      "  Batch 3,600  of  7,072.    Elapsed: 0:07:59.\n",
      "  Batch 3,640  of  7,072.    Elapsed: 0:08:04.\n",
      "  Batch 3,680  of  7,072.    Elapsed: 0:08:10.\n",
      "  Batch 3,720  of  7,072.    Elapsed: 0:08:15.\n",
      "  Batch 3,760  of  7,072.    Elapsed: 0:08:20.\n",
      "  Batch 3,800  of  7,072.    Elapsed: 0:08:25.\n",
      "  Batch 3,840  of  7,072.    Elapsed: 0:08:30.\n",
      "  Batch 3,880  of  7,072.    Elapsed: 0:08:35.\n",
      "  Batch 3,920  of  7,072.    Elapsed: 0:08:41.\n",
      "  Batch 3,960  of  7,072.    Elapsed: 0:08:46.\n",
      "  Batch 4,000  of  7,072.    Elapsed: 0:08:51.\n",
      "  Batch 4,040  of  7,072.    Elapsed: 0:08:56.\n",
      "  Batch 4,080  of  7,072.    Elapsed: 0:09:01.\n",
      "  Batch 4,120  of  7,072.    Elapsed: 0:09:06.\n",
      "  Batch 4,160  of  7,072.    Elapsed: 0:09:12.\n",
      "  Batch 4,200  of  7,072.    Elapsed: 0:09:17.\n",
      "  Batch 4,240  of  7,072.    Elapsed: 0:09:22.\n",
      "  Batch 4,280  of  7,072.    Elapsed: 0:09:27.\n",
      "  Batch 4,320  of  7,072.    Elapsed: 0:09:33.\n",
      "  Batch 4,360  of  7,072.    Elapsed: 0:09:38.\n",
      "  Batch 4,400  of  7,072.    Elapsed: 0:09:43.\n",
      "  Batch 4,440  of  7,072.    Elapsed: 0:09:48.\n",
      "  Batch 4,480  of  7,072.    Elapsed: 0:09:53.\n",
      "  Batch 4,520  of  7,072.    Elapsed: 0:09:59.\n",
      "  Batch 4,560  of  7,072.    Elapsed: 0:10:04.\n",
      "  Batch 4,600  of  7,072.    Elapsed: 0:10:09.\n",
      "  Batch 4,640  of  7,072.    Elapsed: 0:10:14.\n",
      "  Batch 4,680  of  7,072.    Elapsed: 0:10:19.\n",
      "  Batch 4,720  of  7,072.    Elapsed: 0:10:25.\n",
      "  Batch 4,760  of  7,072.    Elapsed: 0:10:30.\n",
      "  Batch 4,800  of  7,072.    Elapsed: 0:10:35.\n",
      "  Batch 4,840  of  7,072.    Elapsed: 0:10:40.\n",
      "  Batch 4,880  of  7,072.    Elapsed: 0:10:45.\n",
      "  Batch 4,920  of  7,072.    Elapsed: 0:10:51.\n",
      "  Batch 4,960  of  7,072.    Elapsed: 0:10:56.\n",
      "  Batch 5,000  of  7,072.    Elapsed: 0:11:01.\n",
      "  Batch 5,040  of  7,072.    Elapsed: 0:11:06.\n",
      "  Batch 5,080  of  7,072.    Elapsed: 0:11:11.\n",
      "  Batch 5,120  of  7,072.    Elapsed: 0:11:17.\n",
      "  Batch 5,160  of  7,072.    Elapsed: 0:11:22.\n",
      "  Batch 5,200  of  7,072.    Elapsed: 0:11:27.\n",
      "  Batch 5,240  of  7,072.    Elapsed: 0:11:32.\n",
      "  Batch 5,280  of  7,072.    Elapsed: 0:11:37.\n",
      "  Batch 5,320  of  7,072.    Elapsed: 0:11:42.\n",
      "  Batch 5,360  of  7,072.    Elapsed: 0:11:48.\n",
      "  Batch 5,400  of  7,072.    Elapsed: 0:11:53.\n",
      "  Batch 5,440  of  7,072.    Elapsed: 0:11:58.\n",
      "  Batch 5,480  of  7,072.    Elapsed: 0:12:03.\n",
      "  Batch 5,520  of  7,072.    Elapsed: 0:12:08.\n",
      "  Batch 5,560  of  7,072.    Elapsed: 0:12:14.\n",
      "  Batch 5,600  of  7,072.    Elapsed: 0:12:19.\n",
      "  Batch 5,640  of  7,072.    Elapsed: 0:12:24.\n",
      "  Batch 5,680  of  7,072.    Elapsed: 0:12:29.\n",
      "  Batch 5,720  of  7,072.    Elapsed: 0:12:34.\n",
      "  Batch 5,760  of  7,072.    Elapsed: 0:12:39.\n",
      "  Batch 5,800  of  7,072.    Elapsed: 0:12:45.\n",
      "  Batch 5,840  of  7,072.    Elapsed: 0:12:50.\n",
      "  Batch 5,880  of  7,072.    Elapsed: 0:12:55.\n",
      "  Batch 5,920  of  7,072.    Elapsed: 0:13:00.\n",
      "  Batch 5,960  of  7,072.    Elapsed: 0:13:05.\n",
      "  Batch 6,000  of  7,072.    Elapsed: 0:13:10.\n",
      "  Batch 6,040  of  7,072.    Elapsed: 0:13:16.\n",
      "  Batch 6,080  of  7,072.    Elapsed: 0:13:21.\n",
      "  Batch 6,120  of  7,072.    Elapsed: 0:13:26.\n",
      "  Batch 6,160  of  7,072.    Elapsed: 0:13:31.\n",
      "  Batch 6,200  of  7,072.    Elapsed: 0:13:36.\n",
      "  Batch 6,240  of  7,072.    Elapsed: 0:13:42.\n",
      "  Batch 6,280  of  7,072.    Elapsed: 0:13:47.\n",
      "  Batch 6,320  of  7,072.    Elapsed: 0:13:52.\n",
      "  Batch 6,360  of  7,072.    Elapsed: 0:13:57.\n",
      "  Batch 6,400  of  7,072.    Elapsed: 0:14:02.\n",
      "  Batch 6,440  of  7,072.    Elapsed: 0:14:07.\n",
      "  Batch 6,480  of  7,072.    Elapsed: 0:14:13.\n",
      "  Batch 6,520  of  7,072.    Elapsed: 0:14:18.\n",
      "  Batch 6,560  of  7,072.    Elapsed: 0:14:23.\n",
      "  Batch 6,600  of  7,072.    Elapsed: 0:14:28.\n",
      "  Batch 6,640  of  7,072.    Elapsed: 0:14:33.\n",
      "  Batch 6,680  of  7,072.    Elapsed: 0:14:39.\n",
      "  Batch 6,720  of  7,072.    Elapsed: 0:14:44.\n",
      "  Batch 6,760  of  7,072.    Elapsed: 0:14:49.\n",
      "  Batch 6,800  of  7,072.    Elapsed: 0:14:54.\n",
      "  Batch 6,840  of  7,072.    Elapsed: 0:14:59.\n",
      "  Batch 6,880  of  7,072.    Elapsed: 0:15:04.\n",
      "  Batch 6,920  of  7,072.    Elapsed: 0:15:10.\n",
      "  Batch 6,960  of  7,072.    Elapsed: 0:15:15.\n",
      "  Batch 7,000  of  7,072.    Elapsed: 0:15:20.\n",
      "  Batch 7,040  of  7,072.    Elapsed: 0:15:25.\n",
      "\n",
      "  Average training loss: 0.30\n",
      "  Training epcoh took: 0:15:29\n",
      "\n",
      "Running Validation...\n",
      "  Accuracy: 0.87\n",
      "  Validation Loss: 0.44\n",
      "  Validation took: 0:00:26\n",
      "\n",
      "======== Epoch 3 / 4 ========\n",
      "Training...\n",
      "  Batch    40  of  7,072.    Elapsed: 0:00:05.\n",
      "  Batch    80  of  7,072.    Elapsed: 0:00:10.\n",
      "  Batch   120  of  7,072.    Elapsed: 0:00:15.\n",
      "  Batch   160  of  7,072.    Elapsed: 0:00:21.\n",
      "  Batch   200  of  7,072.    Elapsed: 0:00:26.\n",
      "  Batch   240  of  7,072.    Elapsed: 0:00:31.\n",
      "  Batch   280  of  7,072.    Elapsed: 0:00:36.\n",
      "  Batch   320  of  7,072.    Elapsed: 0:00:41.\n",
      "  Batch   360  of  7,072.    Elapsed: 0:00:46.\n",
      "  Batch   400  of  7,072.    Elapsed: 0:00:52.\n",
      "  Batch   440  of  7,072.    Elapsed: 0:00:57.\n",
      "  Batch   480  of  7,072.    Elapsed: 0:01:02.\n",
      "  Batch   520  of  7,072.    Elapsed: 0:01:07.\n",
      "  Batch   560  of  7,072.    Elapsed: 0:01:12.\n",
      "  Batch   600  of  7,072.    Elapsed: 0:01:17.\n",
      "  Batch   640  of  7,072.    Elapsed: 0:01:22.\n",
      "  Batch   680  of  7,072.    Elapsed: 0:01:27.\n",
      "  Batch   720  of  7,072.    Elapsed: 0:01:32.\n",
      "  Batch   760  of  7,072.    Elapsed: 0:01:38.\n",
      "  Batch   800  of  7,072.    Elapsed: 0:01:43.\n",
      "  Batch   840  of  7,072.    Elapsed: 0:01:49.\n",
      "  Batch   880  of  7,072.    Elapsed: 0:01:54.\n",
      "  Batch   920  of  7,072.    Elapsed: 0:01:59.\n",
      "  Batch   960  of  7,072.    Elapsed: 0:02:04.\n",
      "  Batch 1,000  of  7,072.    Elapsed: 0:02:09.\n",
      "  Batch 1,040  of  7,072.    Elapsed: 0:02:15.\n",
      "  Batch 1,080  of  7,072.    Elapsed: 0:02:20.\n",
      "  Batch 1,120  of  7,072.    Elapsed: 0:02:25.\n",
      "  Batch 1,160  of  7,072.    Elapsed: 0:02:30.\n",
      "  Batch 1,200  of  7,072.    Elapsed: 0:02:35.\n",
      "  Batch 1,240  of  7,072.    Elapsed: 0:02:40.\n",
      "  Batch 1,280  of  7,072.    Elapsed: 0:02:45.\n",
      "  Batch 1,320  of  7,072.    Elapsed: 0:02:50.\n",
      "  Batch 1,360  of  7,072.    Elapsed: 0:02:55.\n",
      "  Batch 1,400  of  7,072.    Elapsed: 0:03:01.\n",
      "  Batch 1,440  of  7,072.    Elapsed: 0:03:06.\n",
      "  Batch 1,480  of  7,072.    Elapsed: 0:03:11.\n",
      "  Batch 1,520  of  7,072.    Elapsed: 0:03:16.\n",
      "  Batch 1,560  of  7,072.    Elapsed: 0:03:21.\n",
      "  Batch 1,600  of  7,072.    Elapsed: 0:03:26.\n",
      "  Batch 1,640  of  7,072.    Elapsed: 0:03:31.\n",
      "  Batch 1,680  of  7,072.    Elapsed: 0:03:36.\n",
      "  Batch 1,720  of  7,072.    Elapsed: 0:03:42.\n",
      "  Batch 1,760  of  7,072.    Elapsed: 0:03:47.\n",
      "  Batch 1,800  of  7,072.    Elapsed: 0:03:52.\n",
      "  Batch 1,840  of  7,072.    Elapsed: 0:03:57.\n",
      "  Batch 1,880  of  7,072.    Elapsed: 0:04:02.\n",
      "  Batch 1,920  of  7,072.    Elapsed: 0:04:07.\n",
      "  Batch 1,960  of  7,072.    Elapsed: 0:04:12.\n",
      "  Batch 2,000  of  7,072.    Elapsed: 0:04:17.\n",
      "  Batch 2,040  of  7,072.    Elapsed: 0:04:22.\n",
      "  Batch 2,080  of  7,072.    Elapsed: 0:04:27.\n",
      "  Batch 2,120  of  7,072.    Elapsed: 0:04:33.\n",
      "  Batch 2,160  of  7,072.    Elapsed: 0:04:38.\n",
      "  Batch 2,200  of  7,072.    Elapsed: 0:04:43.\n",
      "  Batch 2,240  of  7,072.    Elapsed: 0:04:48.\n",
      "  Batch 2,280  of  7,072.    Elapsed: 0:04:53.\n",
      "  Batch 2,320  of  7,072.    Elapsed: 0:04:58.\n",
      "  Batch 2,360  of  7,072.    Elapsed: 0:05:03.\n",
      "  Batch 2,400  of  7,072.    Elapsed: 0:05:08.\n",
      "  Batch 2,440  of  7,072.    Elapsed: 0:05:13.\n",
      "  Batch 2,480  of  7,072.    Elapsed: 0:05:19.\n",
      "  Batch 2,520  of  7,072.    Elapsed: 0:05:24.\n",
      "  Batch 2,560  of  7,072.    Elapsed: 0:05:29.\n",
      "  Batch 2,600  of  7,072.    Elapsed: 0:05:34.\n",
      "  Batch 2,640  of  7,072.    Elapsed: 0:05:39.\n",
      "  Batch 2,680  of  7,072.    Elapsed: 0:05:44.\n",
      "  Batch 2,720  of  7,072.    Elapsed: 0:05:49.\n",
      "  Batch 2,760  of  7,072.    Elapsed: 0:05:54.\n",
      "  Batch 2,800  of  7,072.    Elapsed: 0:05:59.\n",
      "  Batch 2,840  of  7,072.    Elapsed: 0:06:05.\n",
      "  Batch 2,880  of  7,072.    Elapsed: 0:06:10.\n",
      "  Batch 2,920  of  7,072.    Elapsed: 0:06:15.\n",
      "  Batch 2,960  of  7,072.    Elapsed: 0:06:20.\n",
      "  Batch 3,000  of  7,072.    Elapsed: 0:06:26.\n",
      "  Batch 3,040  of  7,072.    Elapsed: 0:06:31.\n",
      "  Batch 3,080  of  7,072.    Elapsed: 0:06:36.\n",
      "  Batch 3,120  of  7,072.    Elapsed: 0:06:41.\n",
      "  Batch 3,160  of  7,072.    Elapsed: 0:06:46.\n",
      "  Batch 3,200  of  7,072.    Elapsed: 0:06:51.\n",
      "  Batch 3,240  of  7,072.    Elapsed: 0:06:57.\n",
      "  Batch 3,280  of  7,072.    Elapsed: 0:07:02.\n",
      "  Batch 3,320  of  7,072.    Elapsed: 0:07:07.\n",
      "  Batch 3,360  of  7,072.    Elapsed: 0:07:12.\n",
      "  Batch 3,400  of  7,072.    Elapsed: 0:07:17.\n",
      "  Batch 3,440  of  7,072.    Elapsed: 0:07:22.\n",
      "  Batch 3,480  of  7,072.    Elapsed: 0:07:27.\n",
      "  Batch 3,520  of  7,072.    Elapsed: 0:07:33.\n",
      "  Batch 3,560  of  7,072.    Elapsed: 0:07:38.\n",
      "  Batch 3,600  of  7,072.    Elapsed: 0:07:43.\n",
      "  Batch 3,640  of  7,072.    Elapsed: 0:07:48.\n",
      "  Batch 3,680  of  7,072.    Elapsed: 0:07:53.\n",
      "  Batch 3,720  of  7,072.    Elapsed: 0:07:59.\n",
      "  Batch 3,760  of  7,072.    Elapsed: 0:08:04.\n",
      "  Batch 3,800  of  7,072.    Elapsed: 0:08:09.\n",
      "  Batch 3,840  of  7,072.    Elapsed: 0:08:14.\n",
      "  Batch 3,880  of  7,072.    Elapsed: 0:08:19.\n",
      "  Batch 3,920  of  7,072.    Elapsed: 0:08:24.\n",
      "  Batch 3,960  of  7,072.    Elapsed: 0:08:30.\n",
      "  Batch 4,000  of  7,072.    Elapsed: 0:08:35.\n",
      "  Batch 4,040  of  7,072.    Elapsed: 0:08:40.\n",
      "  Batch 4,080  of  7,072.    Elapsed: 0:08:45.\n",
      "  Batch 4,120  of  7,072.    Elapsed: 0:08:50.\n",
      "  Batch 4,160  of  7,072.    Elapsed: 0:08:55.\n",
      "  Batch 4,200  of  7,072.    Elapsed: 0:09:00.\n",
      "  Batch 4,240  of  7,072.    Elapsed: 0:09:05.\n",
      "  Batch 4,280  of  7,072.    Elapsed: 0:09:10.\n",
      "  Batch 4,320  of  7,072.    Elapsed: 0:09:16.\n",
      "  Batch 4,360  of  7,072.    Elapsed: 0:09:21.\n",
      "  Batch 4,400  of  7,072.    Elapsed: 0:09:26.\n",
      "  Batch 4,440  of  7,072.    Elapsed: 0:09:31.\n",
      "  Batch 4,480  of  7,072.    Elapsed: 0:09:36.\n",
      "  Batch 4,520  of  7,072.    Elapsed: 0:09:41.\n",
      "  Batch 4,560  of  7,072.    Elapsed: 0:09:46.\n",
      "  Batch 4,600  of  7,072.    Elapsed: 0:09:51.\n",
      "  Batch 4,640  of  7,072.    Elapsed: 0:09:57.\n",
      "  Batch 4,680  of  7,072.    Elapsed: 0:10:02.\n",
      "  Batch 4,720  of  7,072.    Elapsed: 0:10:08.\n",
      "  Batch 4,760  of  7,072.    Elapsed: 0:10:13.\n",
      "  Batch 4,800  of  7,072.    Elapsed: 0:10:18.\n",
      "  Batch 4,840  of  7,072.    Elapsed: 0:10:23.\n",
      "  Batch 4,880  of  7,072.    Elapsed: 0:10:28.\n",
      "  Batch 4,920  of  7,072.    Elapsed: 0:10:33.\n",
      "  Batch 4,960  of  7,072.    Elapsed: 0:10:38.\n",
      "  Batch 5,000  of  7,072.    Elapsed: 0:10:44.\n",
      "  Batch 5,040  of  7,072.    Elapsed: 0:10:49.\n",
      "  Batch 5,080  of  7,072.    Elapsed: 0:10:54.\n",
      "  Batch 5,120  of  7,072.    Elapsed: 0:10:59.\n",
      "  Batch 5,160  of  7,072.    Elapsed: 0:11:04.\n",
      "  Batch 5,200  of  7,072.    Elapsed: 0:11:09.\n",
      "  Batch 5,240  of  7,072.    Elapsed: 0:11:15.\n",
      "  Batch 5,280  of  7,072.    Elapsed: 0:11:21.\n",
      "  Batch 5,320  of  7,072.    Elapsed: 0:11:26.\n",
      "  Batch 5,360  of  7,072.    Elapsed: 0:11:32.\n",
      "  Batch 5,400  of  7,072.    Elapsed: 0:11:37.\n",
      "  Batch 5,440  of  7,072.    Elapsed: 0:11:43.\n",
      "  Batch 5,480  of  7,072.    Elapsed: 0:11:49.\n",
      "  Batch 5,520  of  7,072.    Elapsed: 0:11:54.\n",
      "  Batch 5,560  of  7,072.    Elapsed: 0:12:00.\n",
      "  Batch 5,600  of  7,072.    Elapsed: 0:12:06.\n",
      "  Batch 5,640  of  7,072.    Elapsed: 0:12:11.\n",
      "  Batch 5,680  of  7,072.    Elapsed: 0:12:17.\n",
      "  Batch 5,720  of  7,072.    Elapsed: 0:12:23.\n",
      "  Batch 5,760  of  7,072.    Elapsed: 0:12:28.\n",
      "  Batch 5,800  of  7,072.    Elapsed: 0:12:34.\n",
      "  Batch 5,840  of  7,072.    Elapsed: 0:12:40.\n",
      "  Batch 5,880  of  7,072.    Elapsed: 0:12:45.\n",
      "  Batch 5,920  of  7,072.    Elapsed: 0:12:51.\n",
      "  Batch 5,960  of  7,072.    Elapsed: 0:12:57.\n",
      "  Batch 6,000  of  7,072.    Elapsed: 0:13:02.\n",
      "  Batch 6,040  of  7,072.    Elapsed: 0:13:08.\n",
      "  Batch 6,080  of  7,072.    Elapsed: 0:13:14.\n",
      "  Batch 6,120  of  7,072.    Elapsed: 0:13:19.\n",
      "  Batch 6,160  of  7,072.    Elapsed: 0:13:25.\n",
      "  Batch 6,200  of  7,072.    Elapsed: 0:13:31.\n",
      "  Batch 6,240  of  7,072.    Elapsed: 0:13:36.\n",
      "  Batch 6,280  of  7,072.    Elapsed: 0:13:42.\n",
      "  Batch 6,320  of  7,072.    Elapsed: 0:13:48.\n",
      "  Batch 6,360  of  7,072.    Elapsed: 0:13:53.\n",
      "  Batch 6,400  of  7,072.    Elapsed: 0:13:59.\n",
      "  Batch 6,440  of  7,072.    Elapsed: 0:14:05.\n",
      "  Batch 6,480  of  7,072.    Elapsed: 0:14:10.\n",
      "  Batch 6,520  of  7,072.    Elapsed: 0:14:16.\n",
      "  Batch 6,560  of  7,072.    Elapsed: 0:14:22.\n",
      "  Batch 6,600  of  7,072.    Elapsed: 0:14:28.\n",
      "  Batch 6,640  of  7,072.    Elapsed: 0:14:34.\n",
      "  Batch 6,680  of  7,072.    Elapsed: 0:14:39.\n",
      "  Batch 6,720  of  7,072.    Elapsed: 0:14:45.\n",
      "  Batch 6,760  of  7,072.    Elapsed: 0:14:51.\n",
      "  Batch 6,800  of  7,072.    Elapsed: 0:14:57.\n",
      "  Batch 6,840  of  7,072.    Elapsed: 0:15:03.\n",
      "  Batch 6,880  of  7,072.    Elapsed: 0:15:08.\n",
      "  Batch 6,920  of  7,072.    Elapsed: 0:15:14.\n",
      "  Batch 6,960  of  7,072.    Elapsed: 0:15:20.\n",
      "  Batch 7,000  of  7,072.    Elapsed: 0:15:26.\n",
      "  Batch 7,040  of  7,072.    Elapsed: 0:15:32.\n",
      "\n",
      "  Average training loss: 0.20\n",
      "  Training epcoh took: 0:15:36\n",
      "\n",
      "Running Validation...\n",
      "  Accuracy: 0.88\n",
      "  Validation Loss: 0.54\n",
      "  Validation took: 0:00:29\n",
      "\n",
      "======== Epoch 4 / 4 ========\n",
      "Training...\n",
      "  Batch    40  of  7,072.    Elapsed: 0:00:06.\n",
      "  Batch    80  of  7,072.    Elapsed: 0:00:11.\n",
      "  Batch   120  of  7,072.    Elapsed: 0:00:17.\n",
      "  Batch   160  of  7,072.    Elapsed: 0:00:23.\n",
      "  Batch   200  of  7,072.    Elapsed: 0:00:29.\n",
      "  Batch   240  of  7,072.    Elapsed: 0:00:35.\n",
      "  Batch   280  of  7,072.    Elapsed: 0:00:41.\n",
      "  Batch   320  of  7,072.    Elapsed: 0:00:47.\n",
      "  Batch   360  of  7,072.    Elapsed: 0:00:53.\n",
      "  Batch   400  of  7,072.    Elapsed: 0:00:59.\n",
      "  Batch   440  of  7,072.    Elapsed: 0:01:04.\n",
      "  Batch   480  of  7,072.    Elapsed: 0:01:10.\n",
      "  Batch   520  of  7,072.    Elapsed: 0:01:16.\n",
      "  Batch   560  of  7,072.    Elapsed: 0:01:22.\n",
      "  Batch   600  of  7,072.    Elapsed: 0:01:27.\n",
      "  Batch   640  of  7,072.    Elapsed: 0:01:33.\n",
      "  Batch   680  of  7,072.    Elapsed: 0:01:39.\n",
      "  Batch   720  of  7,072.    Elapsed: 0:01:44.\n",
      "  Batch   760  of  7,072.    Elapsed: 0:01:50.\n",
      "  Batch   800  of  7,072.    Elapsed: 0:01:56.\n",
      "  Batch   840  of  7,072.    Elapsed: 0:02:02.\n",
      "  Batch   880  of  7,072.    Elapsed: 0:02:07.\n",
      "  Batch   920  of  7,072.    Elapsed: 0:02:13.\n",
      "  Batch   960  of  7,072.    Elapsed: 0:02:19.\n",
      "  Batch 1,000  of  7,072.    Elapsed: 0:02:25.\n",
      "  Batch 1,040  of  7,072.    Elapsed: 0:02:30.\n",
      "  Batch 1,080  of  7,072.    Elapsed: 0:02:36.\n",
      "  Batch 1,120  of  7,072.    Elapsed: 0:02:42.\n",
      "  Batch 1,160  of  7,072.    Elapsed: 0:02:48.\n",
      "  Batch 1,200  of  7,072.    Elapsed: 0:02:53.\n",
      "  Batch 1,240  of  7,072.    Elapsed: 0:02:59.\n",
      "  Batch 1,280  of  7,072.    Elapsed: 0:03:05.\n",
      "  Batch 1,320  of  7,072.    Elapsed: 0:03:10.\n",
      "  Batch 1,360  of  7,072.    Elapsed: 0:03:16.\n",
      "  Batch 1,400  of  7,072.    Elapsed: 0:03:22.\n",
      "  Batch 1,440  of  7,072.    Elapsed: 0:03:28.\n",
      "  Batch 1,480  of  7,072.    Elapsed: 0:03:33.\n",
      "  Batch 1,520  of  7,072.    Elapsed: 0:03:39.\n",
      "  Batch 1,560  of  7,072.    Elapsed: 0:03:45.\n",
      "  Batch 1,600  of  7,072.    Elapsed: 0:03:50.\n",
      "  Batch 1,640  of  7,072.    Elapsed: 0:03:56.\n",
      "  Batch 1,680  of  7,072.    Elapsed: 0:04:02.\n",
      "  Batch 1,720  of  7,072.    Elapsed: 0:04:07.\n",
      "  Batch 1,760  of  7,072.    Elapsed: 0:04:13.\n",
      "  Batch 1,800  of  7,072.    Elapsed: 0:04:19.\n",
      "  Batch 1,840  of  7,072.    Elapsed: 0:04:25.\n",
      "  Batch 1,880  of  7,072.    Elapsed: 0:04:31.\n",
      "  Batch 1,920  of  7,072.    Elapsed: 0:04:37.\n",
      "  Batch 1,960  of  7,072.    Elapsed: 0:04:43.\n",
      "  Batch 2,000  of  7,072.    Elapsed: 0:04:48.\n",
      "  Batch 2,040  of  7,072.    Elapsed: 0:04:54.\n",
      "  Batch 2,080  of  7,072.    Elapsed: 0:05:00.\n",
      "  Batch 2,120  of  7,072.    Elapsed: 0:05:06.\n",
      "  Batch 2,160  of  7,072.    Elapsed: 0:05:11.\n",
      "  Batch 2,200  of  7,072.    Elapsed: 0:05:17.\n",
      "  Batch 2,240  of  7,072.    Elapsed: 0:05:23.\n",
      "  Batch 2,280  of  7,072.    Elapsed: 0:05:29.\n",
      "  Batch 2,320  of  7,072.    Elapsed: 0:05:35.\n",
      "  Batch 2,360  of  7,072.    Elapsed: 0:05:40.\n",
      "  Batch 2,400  of  7,072.    Elapsed: 0:05:46.\n",
      "  Batch 2,440  of  7,072.    Elapsed: 0:05:52.\n",
      "  Batch 2,480  of  7,072.    Elapsed: 0:05:58.\n",
      "  Batch 2,520  of  7,072.    Elapsed: 0:06:04.\n",
      "  Batch 2,560  of  7,072.    Elapsed: 0:06:09.\n",
      "  Batch 2,600  of  7,072.    Elapsed: 0:06:15.\n",
      "  Batch 2,640  of  7,072.    Elapsed: 0:06:21.\n",
      "  Batch 2,680  of  7,072.    Elapsed: 0:06:27.\n",
      "  Batch 2,720  of  7,072.    Elapsed: 0:06:32.\n",
      "  Batch 2,760  of  7,072.    Elapsed: 0:06:38.\n",
      "  Batch 2,800  of  7,072.    Elapsed: 0:06:44.\n",
      "  Batch 2,840  of  7,072.    Elapsed: 0:06:49.\n",
      "  Batch 2,880  of  7,072.    Elapsed: 0:06:55.\n",
      "  Batch 2,920  of  7,072.    Elapsed: 0:07:01.\n",
      "  Batch 2,960  of  7,072.    Elapsed: 0:07:06.\n",
      "  Batch 3,000  of  7,072.    Elapsed: 0:07:12.\n",
      "  Batch 3,040  of  7,072.    Elapsed: 0:07:18.\n",
      "  Batch 3,080  of  7,072.    Elapsed: 0:07:23.\n",
      "  Batch 3,120  of  7,072.    Elapsed: 0:07:29.\n",
      "  Batch 3,160  of  7,072.    Elapsed: 0:07:35.\n",
      "  Batch 3,200  of  7,072.    Elapsed: 0:07:41.\n",
      "  Batch 3,240  of  7,072.    Elapsed: 0:07:46.\n",
      "  Batch 3,280  of  7,072.    Elapsed: 0:07:52.\n",
      "  Batch 3,320  of  7,072.    Elapsed: 0:07:58.\n",
      "  Batch 3,360  of  7,072.    Elapsed: 0:08:04.\n",
      "  Batch 3,400  of  7,072.    Elapsed: 0:08:10.\n",
      "  Batch 3,440  of  7,072.    Elapsed: 0:08:15.\n",
      "  Batch 3,480  of  7,072.    Elapsed: 0:08:21.\n",
      "  Batch 3,520  of  7,072.    Elapsed: 0:08:27.\n",
      "  Batch 3,560  of  7,072.    Elapsed: 0:08:32.\n",
      "  Batch 3,600  of  7,072.    Elapsed: 0:08:38.\n",
      "  Batch 3,640  of  7,072.    Elapsed: 0:08:44.\n",
      "  Batch 3,680  of  7,072.    Elapsed: 0:08:50.\n",
      "  Batch 3,720  of  7,072.    Elapsed: 0:08:55.\n",
      "  Batch 3,760  of  7,072.    Elapsed: 0:09:01.\n",
      "  Batch 3,800  of  7,072.    Elapsed: 0:09:07.\n",
      "  Batch 3,840  of  7,072.    Elapsed: 0:09:12.\n",
      "  Batch 3,880  of  7,072.    Elapsed: 0:09:18.\n",
      "  Batch 3,920  of  7,072.    Elapsed: 0:09:23.\n",
      "  Batch 3,960  of  7,072.    Elapsed: 0:09:29.\n",
      "  Batch 4,000  of  7,072.    Elapsed: 0:09:35.\n",
      "  Batch 4,040  of  7,072.    Elapsed: 0:09:40.\n",
      "  Batch 4,080  of  7,072.    Elapsed: 0:09:46.\n",
      "  Batch 4,120  of  7,072.    Elapsed: 0:09:52.\n",
      "  Batch 4,160  of  7,072.    Elapsed: 0:09:57.\n",
      "  Batch 4,200  of  7,072.    Elapsed: 0:10:03.\n",
      "  Batch 4,240  of  7,072.    Elapsed: 0:10:09.\n",
      "  Batch 4,280  of  7,072.    Elapsed: 0:10:14.\n",
      "  Batch 4,320  of  7,072.    Elapsed: 0:10:20.\n",
      "  Batch 4,360  of  7,072.    Elapsed: 0:10:26.\n",
      "  Batch 4,400  of  7,072.    Elapsed: 0:10:31.\n",
      "  Batch 4,440  of  7,072.    Elapsed: 0:10:37.\n",
      "  Batch 4,480  of  7,072.    Elapsed: 0:10:43.\n",
      "  Batch 4,520  of  7,072.    Elapsed: 0:10:48.\n",
      "  Batch 4,560  of  7,072.    Elapsed: 0:10:54.\n",
      "  Batch 4,600  of  7,072.    Elapsed: 0:11:00.\n",
      "  Batch 4,640  of  7,072.    Elapsed: 0:11:05.\n",
      "  Batch 4,680  of  7,072.    Elapsed: 0:11:11.\n",
      "  Batch 4,720  of  7,072.    Elapsed: 0:11:17.\n",
      "  Batch 4,760  of  7,072.    Elapsed: 0:11:23.\n",
      "  Batch 4,800  of  7,072.    Elapsed: 0:11:28.\n",
      "  Batch 4,840  of  7,072.    Elapsed: 0:11:34.\n",
      "  Batch 4,880  of  7,072.    Elapsed: 0:11:40.\n",
      "  Batch 4,920  of  7,072.    Elapsed: 0:11:46.\n",
      "  Batch 4,960  of  7,072.    Elapsed: 0:11:51.\n",
      "  Batch 5,000  of  7,072.    Elapsed: 0:11:57.\n",
      "  Batch 5,040  of  7,072.    Elapsed: 0:12:03.\n",
      "  Batch 5,080  of  7,072.    Elapsed: 0:12:09.\n",
      "  Batch 5,120  of  7,072.    Elapsed: 0:12:14.\n",
      "  Batch 5,160  of  7,072.    Elapsed: 0:12:20.\n",
      "  Batch 5,200  of  7,072.    Elapsed: 0:12:26.\n",
      "  Batch 5,240  of  7,072.    Elapsed: 0:12:32.\n",
      "  Batch 5,280  of  7,072.    Elapsed: 0:12:38.\n",
      "  Batch 5,320  of  7,072.    Elapsed: 0:12:44.\n",
      "  Batch 5,360  of  7,072.    Elapsed: 0:12:49.\n",
      "  Batch 5,400  of  7,072.    Elapsed: 0:12:55.\n",
      "  Batch 5,440  of  7,072.    Elapsed: 0:13:01.\n",
      "  Batch 5,480  of  7,072.    Elapsed: 0:13:07.\n",
      "  Batch 5,520  of  7,072.    Elapsed: 0:13:13.\n",
      "  Batch 5,560  of  7,072.    Elapsed: 0:13:19.\n",
      "  Batch 5,600  of  7,072.    Elapsed: 0:13:24.\n",
      "  Batch 5,640  of  7,072.    Elapsed: 0:13:30.\n",
      "  Batch 5,680  of  7,072.    Elapsed: 0:13:36.\n",
      "  Batch 5,720  of  7,072.    Elapsed: 0:13:42.\n",
      "  Batch 5,760  of  7,072.    Elapsed: 0:13:48.\n",
      "  Batch 5,800  of  7,072.    Elapsed: 0:13:53.\n",
      "  Batch 5,840  of  7,072.    Elapsed: 0:13:59.\n",
      "  Batch 5,880  of  7,072.    Elapsed: 0:14:05.\n",
      "  Batch 5,920  of  7,072.    Elapsed: 0:14:11.\n",
      "  Batch 5,960  of  7,072.    Elapsed: 0:14:16.\n",
      "  Batch 6,000  of  7,072.    Elapsed: 0:14:22.\n",
      "  Batch 6,040  of  7,072.    Elapsed: 0:14:28.\n",
      "  Batch 6,080  of  7,072.    Elapsed: 0:14:33.\n",
      "  Batch 6,120  of  7,072.    Elapsed: 0:14:39.\n",
      "  Batch 6,160  of  7,072.    Elapsed: 0:14:44.\n",
      "  Batch 6,200  of  7,072.    Elapsed: 0:14:50.\n",
      "  Batch 6,240  of  7,072.    Elapsed: 0:14:56.\n",
      "  Batch 6,280  of  7,072.    Elapsed: 0:15:01.\n",
      "  Batch 6,320  of  7,072.    Elapsed: 0:15:07.\n",
      "  Batch 6,360  of  7,072.    Elapsed: 0:15:13.\n",
      "  Batch 6,400  of  7,072.    Elapsed: 0:15:19.\n",
      "  Batch 6,440  of  7,072.    Elapsed: 0:15:24.\n",
      "  Batch 6,480  of  7,072.    Elapsed: 0:15:30.\n",
      "  Batch 6,520  of  7,072.    Elapsed: 0:15:35.\n",
      "  Batch 6,560  of  7,072.    Elapsed: 0:15:41.\n",
      "  Batch 6,600  of  7,072.    Elapsed: 0:15:47.\n",
      "  Batch 6,640  of  7,072.    Elapsed: 0:15:53.\n",
      "  Batch 6,680  of  7,072.    Elapsed: 0:15:58.\n",
      "  Batch 6,720  of  7,072.    Elapsed: 0:16:04.\n",
      "  Batch 6,760  of  7,072.    Elapsed: 0:16:10.\n",
      "  Batch 6,800  of  7,072.    Elapsed: 0:16:16.\n",
      "  Batch 6,840  of  7,072.    Elapsed: 0:16:22.\n",
      "  Batch 6,880  of  7,072.    Elapsed: 0:16:27.\n",
      "  Batch 6,920  of  7,072.    Elapsed: 0:16:33.\n",
      "  Batch 6,960  of  7,072.    Elapsed: 0:16:39.\n",
      "  Batch 7,000  of  7,072.    Elapsed: 0:16:44.\n",
      "  Batch 7,040  of  7,072.    Elapsed: 0:16:50.\n",
      "\n",
      "  Average training loss: 0.10\n",
      "  Training epcoh took: 0:16:54\n",
      "\n",
      "Running Validation...\n",
      "  Accuracy: 0.89\n",
      "  Validation Loss: 0.67\n",
      "  Validation took: 0:00:29\n",
      "\n",
      "Training complete!\n",
      "Total training took 1:05:58 (h:mm:ss)\n"
     ]
    }
   ],
   "source": [
    "import random\n",
    "import numpy as np\n",
    "\n",
    "# This training code is based on the `run_glue.py` script here:\n",
    "# https://github.com/huggingface/transformers/blob/5bfcd0485ece086ebcbed2d008813037968a9e58/examples/run_glue.py#L128\n",
    "\n",
    "# Set the seed value all over the place to make this reproducible.\n",
    "seed_val = 42\n",
    "\n",
    "random.seed(seed_val)\n",
    "np.random.seed(seed_val)\n",
    "torch.manual_seed(seed_val)\n",
    "torch.cuda.manual_seed_all(seed_val)\n",
    "\n",
    "# We'll store a number of quantities such as training and validation loss, \n",
    "# validation accuracy, and timings.\n",
    "training_stats = []\n",
    "\n",
    "# Measure the total training time for the whole run.\n",
    "total_t0 = time.time()\n",
    "\n",
    "# For each epoch...\n",
    "for epoch_i in range(0, epochs):\n",
    "    \n",
    "    # ========================================\n",
    "    #               Training\n",
    "    # ========================================\n",
    "    \n",
    "    # Perform one full pass over the training set.\n",
    "\n",
    "    print(\"\")\n",
    "    print('======== Epoch {:} / {:} ========'.format(epoch_i + 1, epochs))\n",
    "    print('Training...')\n",
    "\n",
    "    # Measure how long the training epoch takes.\n",
    "    t0 = time.time()\n",
    "\n",
    "    # Reset the total loss for this epoch.\n",
    "    total_train_loss = 0\n",
    "\n",
    "    # Put the model into training mode. Don't be mislead--the call to \n",
    "    # `train` just changes the *mode*, it doesn't *perform* the training.\n",
    "    # `dropout` and `batchnorm` layers behave differently during training\n",
    "    # vs. test (source: https://stackoverflow.com/questions/51433378/what-does-model-train-do-in-pytorch)\n",
    "    model.train()\n",
    "\n",
    "    # For each batch of training data...\n",
    "    for step, batch in enumerate(train_dataloader):\n",
    "\n",
    "        # Progress update every 40 batches.\n",
    "        if step % 40 == 0 and not step == 0:\n",
    "            # Calculate elapsed time in minutes.\n",
    "            elapsed = format_time(time.time() - t0)\n",
    "            \n",
    "            # Report progress.\n",
    "            print('  Batch {:>5,}  of  {:>5,}.    Elapsed: {:}.'.format(step, len(train_dataloader), elapsed))\n",
    "\n",
    "        # Unpack this training batch from our dataloader. \n",
    "        #\n",
    "        # As we unpack the batch, we'll also copy each tensor to the GPU using the \n",
    "        # `to` method.\n",
    "        #\n",
    "        # `batch` contains three pytorch tensors:\n",
    "        #   [0]: input ids \n",
    "        #   [1]: attention masks\n",
    "        #   [2]: labels \n",
    "        b_input_ids = batch[0].to(device)\n",
    "        b_input_mask = batch[1].to(device)\n",
    "        b_labels = batch[2].to(device)\n",
    "\n",
    "        # Always clear any previously calculated gradients before performing a\n",
    "        # backward pass. PyTorch doesn't do this automatically because \n",
    "        # accumulating the gradients is \"convenient while training RNNs\". \n",
    "        # (source: https://stackoverflow.com/questions/48001598/why-do-we-need-to-call-zero-grad-in-pytorch)\n",
    "        model.zero_grad()        \n",
    "\n",
    "        # Perform a forward pass (evaluate the model on this training batch).\n",
    "        # The documentation for this `model` function is here: \n",
    "        # https://huggingface.co/transformers/v2.2.0/model_doc/bert.html#transformers.BertForSequenceClassification\n",
    "        # It returns different numbers of parameters depending on what arguments\n",
    "        # arge given and what flags are set. For our useage here, it returns\n",
    "        # the loss (because we provided labels) and the \"logits\"--the model\n",
    "        # outputs prior to activation.\n",
    "        loss, logits = model(b_input_ids, \n",
    "                             token_type_ids=None, \n",
    "                             attention_mask=b_input_mask, \n",
    "                             labels=b_labels)\n",
    "\n",
    "        # Accumulate the training loss over all of the batches so that we can\n",
    "        # calculate the average loss at the end. `loss` is a Tensor containing a\n",
    "        # single value; the `.item()` function just returns the Python value \n",
    "        # from the tensor.\n",
    "        total_train_loss += loss.item()\n",
    "\n",
    "        # Perform a backward pass to calculate the gradients.\n",
    "        loss.backward()\n",
    "\n",
    "        # Clip the norm of the gradients to 1.0.\n",
    "        # This is to help prevent the \"exploding gradients\" problem.\n",
    "        torch.nn.utils.clip_grad_norm_(model.parameters(), 1.0)\n",
    "\n",
    "        # Update parameters and take a step using the computed gradient.\n",
    "        # The optimizer dictates the \"update rule\"--how the parameters are\n",
    "        # modified based on their gradients, the learning rate, etc.\n",
    "        optimizer.step()\n",
    "\n",
    "        # Update the learning rate.\n",
    "        scheduler.step()\n",
    "\n",
    "    # Calculate the average loss over all of the batches.\n",
    "    avg_train_loss = total_train_loss / len(train_dataloader)            \n",
    "    \n",
    "    # Measure how long this epoch took.\n",
    "    training_time = format_time(time.time() - t0)\n",
    "\n",
    "    print(\"\")\n",
    "    print(\"  Average training loss: {0:.2f}\".format(avg_train_loss))\n",
    "    print(\"  Training epcoh took: {:}\".format(training_time))\n",
    "        \n",
    "    # ========================================\n",
    "    #               Validation\n",
    "    # ========================================\n",
    "    # After the completion of each training epoch, measure our performance on\n",
    "    # our validation set.\n",
    "\n",
    "    print(\"\")\n",
    "    print(\"Running Validation...\")\n",
    "\n",
    "    t0 = time.time()\n",
    "\n",
    "    # Put the model in evaluation mode--the dropout layers behave differently\n",
    "    # during evaluation.\n",
    "    model.eval()\n",
    "\n",
    "    # Tracking variables \n",
    "    total_eval_accuracy = 0\n",
    "    total_eval_loss = 0\n",
    "    nb_eval_steps = 0\n",
    "\n",
    "    # Evaluate data for one epoch\n",
    "    for batch in validation_dataloader:\n",
    "        \n",
    "        # Unpack this training batch from our dataloader. \n",
    "        #\n",
    "        # As we unpack the batch, we'll also copy each tensor to the GPU using \n",
    "        # the `to` method.\n",
    "        #\n",
    "        # `batch` contains three pytorch tensors:\n",
    "        #   [0]: input ids \n",
    "        #   [1]: attention masks\n",
    "        #   [2]: labels \n",
    "        b_input_ids = batch[0].to(device)\n",
    "        b_input_mask = batch[1].to(device)\n",
    "        b_labels = batch[2].to(device)\n",
    "        \n",
    "        # Tell pytorch not to bother with constructing the compute graph during\n",
    "        # the forward pass, since this is only needed for backprop (training).\n",
    "        with torch.no_grad():        \n",
    "\n",
    "            # Forward pass, calculate logit predictions.\n",
    "            # token_type_ids is the same as the \"segment ids\", which \n",
    "            # differentiates sentence 1 and 2 in 2-sentence tasks.\n",
    "            # The documentation for this `model` function is here: \n",
    "            # https://huggingface.co/transformers/v2.2.0/model_doc/bert.html#transformers.BertForSequenceClassification\n",
    "            # Get the \"logits\" output by the model. The \"logits\" are the output\n",
    "            # values prior to applying an activation function like the softmax.\n",
    "            (loss, logits) = model(b_input_ids, \n",
    "                                   token_type_ids=None, \n",
    "                                   attention_mask=b_input_mask,\n",
    "                                   labels=b_labels)\n",
    "            \n",
    "        # Accumulate the validation loss.\n",
    "        total_eval_loss += loss.item()\n",
    "\n",
    "        # Move logits and labels to CPU\n",
    "        logits = logits.detach().cpu().numpy()\n",
    "        label_ids = b_labels.to('cpu').numpy()\n",
    "\n",
    "        # Calculate the accuracy for this batch of test sentences, and\n",
    "        # accumulate it over all batches.\n",
    "        total_eval_accuracy += flat_accuracy(logits, label_ids)\n",
    "        \n",
    "\n",
    "    # Report the final accuracy for this validation run.\n",
    "    avg_val_accuracy = total_eval_accuracy / len(validation_dataloader)\n",
    "    print(\"  Accuracy: {0:.2f}\".format(avg_val_accuracy))\n",
    "\n",
    "    # Calculate the average loss over all of the batches.\n",
    "    avg_val_loss = total_eval_loss / len(validation_dataloader)\n",
    "    \n",
    "    # Measure how long the validation run took.\n",
    "    validation_time = format_time(time.time() - t0)\n",
    "    \n",
    "    print(\"  Validation Loss: {0:.2f}\".format(avg_val_loss))\n",
    "    print(\"  Validation took: {:}\".format(validation_time))\n",
    "\n",
    "    # Record all statistics from this epoch.\n",
    "    training_stats.append(\n",
    "        {\n",
    "            'epoch': epoch_i + 1,\n",
    "            'Training Loss': avg_train_loss,\n",
    "            'Valid. Loss': avg_val_loss,\n",
    "            'Valid. Accur.': avg_val_accuracy,\n",
    "            'Training Time': training_time,\n",
    "            'Validation Time': validation_time\n",
    "        }\n",
    "    )\n",
    "\n",
    "print(\"\")\n",
    "print(\"Training complete!\")\n",
    "\n",
    "print(\"Total training took {:} (h:mm:ss)\".format(format_time(time.time()-total_t0)))"
   ]
  },
  {
   "cell_type": "code",
   "execution_count": 18,
   "metadata": {},
   "outputs": [
    {
     "data": {
      "text/plain": [
       "'|===========================================================================|\\n|                  PyTorch CUDA memory summary, device ID 0                 |\\n|---------------------------------------------------------------------------|\\n|            CUDA OOMs: 1            |        cudaMalloc retries: 1         |\\n|===========================================================================|\\n|        Metric         | Cur Usage  | Peak Usage | Tot Alloc  | Tot Freed  |\\n|---------------------------------------------------------------------------|\\n| Allocated memory      |    3698 MB |    3698 MB |   12008 MB |    8310 MB |\\n|       from large pool |    3695 MB |    3695 MB |   12001 MB |    8305 MB |\\n|       from small pool |       2 MB |       2 MB |       7 MB |       5 MB |\\n|---------------------------------------------------------------------------|\\n| Active memory         |    3698 MB |    3698 MB |   12008 MB |    8310 MB |\\n|       from large pool |    3695 MB |    3695 MB |   12001 MB |    8305 MB |\\n|       from small pool |       2 MB |       2 MB |       7 MB |       5 MB |\\n|---------------------------------------------------------------------------|\\n| GPU reserved memory   |    3822 MB |    3822 MB |    3822 MB |       0 B  |\\n|       from large pool |    3818 MB |    3818 MB |    3818 MB |       0 B  |\\n|       from small pool |       4 MB |       4 MB |       4 MB |       0 B  |\\n|---------------------------------------------------------------------------|\\n| Non-releasable memory |  126892 KB |  183884 KB |    5431 MB |    5307 MB |\\n|       from large pool |  125184 KB |  182016 KB |    5421 MB |    5299 MB |\\n|       from small pool |    1708 KB |    2076 KB |       9 MB |       8 MB |\\n|---------------------------------------------------------------------------|\\n| Allocations           |    1043    |    1043    |    2560    |    1517    |\\n|       from large pool |     485    |     485    |    1322    |     837    |\\n|       from small pool |     558    |     558    |    1238    |     680    |\\n|---------------------------------------------------------------------------|\\n| Active allocs         |    1043    |    1043    |    2560    |    1517    |\\n|       from large pool |     485    |     485    |    1322    |     837    |\\n|       from small pool |     558    |     558    |    1238    |     680    |\\n|---------------------------------------------------------------------------|\\n| GPU reserved segments |     159    |     159    |     159    |       0    |\\n|       from large pool |     157    |     157    |     157    |       0    |\\n|       from small pool |       2    |       2    |       2    |       0    |\\n|---------------------------------------------------------------------------|\\n| Non-releasable allocs |      87    |     100    |     605    |     518    |\\n|       from large pool |      59    |      72    |     458    |     399    |\\n|       from small pool |      28    |      29    |     147    |     119    |\\n|===========================================================================|\\n'"
      ]
     },
     "execution_count": 18,
     "metadata": {},
     "output_type": "execute_result"
    }
   ],
   "source": [
    "torch.cuda.memory_summary()"
   ]
  },
  {
   "cell_type": "markdown",
   "metadata": {
    "colab_type": "text",
    "id": "VQTvJ1vRP7u4"
   },
   "source": [
    "Let's view the summary of the training process."
   ]
  },
  {
   "cell_type": "code",
   "execution_count": 47,
   "metadata": {
    "colab": {
     "base_uri": "https://localhost:8080/",
     "height": 195
    },
    "colab_type": "code",
    "executionInfo": {
     "elapsed": 974,
     "status": "ok",
     "timestamp": 1584546207434,
     "user": {
      "displayName": "Chris McCormick",
      "photoUrl": "https://lh3.googleusercontent.com/a-/AOh14GjxR2-AAxzOaDHrQaxAtXJQMyx43dPUv51hlUf7=s64",
      "userId": "09546877251175560539"
     },
     "user_tz": 420
    },
    "id": "6O_NbXFGMukX",
    "outputId": "6686e966-46a5-4445-f899-d1f4f79a2927"
   },
   "outputs": [
    {
     "data": {
      "text/html": [
       "<div>\n",
       "<style scoped>\n",
       "    .dataframe tbody tr th:only-of-type {\n",
       "        vertical-align: middle;\n",
       "    }\n",
       "\n",
       "    .dataframe tbody tr th {\n",
       "        vertical-align: top;\n",
       "    }\n",
       "\n",
       "    .dataframe thead th {\n",
       "        text-align: right;\n",
       "    }\n",
       "</style>\n",
       "<table border=\"1\" class=\"dataframe\">\n",
       "  <thead>\n",
       "    <tr style=\"text-align: right;\">\n",
       "      <th></th>\n",
       "      <th>Training Loss</th>\n",
       "      <th>Valid. Loss</th>\n",
       "      <th>Valid. Accur.</th>\n",
       "      <th>Training Time</th>\n",
       "      <th>Validation Time</th>\n",
       "    </tr>\n",
       "    <tr>\n",
       "      <th>epoch</th>\n",
       "      <th></th>\n",
       "      <th></th>\n",
       "      <th></th>\n",
       "      <th></th>\n",
       "      <th></th>\n",
       "    </tr>\n",
       "  </thead>\n",
       "  <tbody>\n",
       "    <tr>\n",
       "      <th>1</th>\n",
       "      <td>0.41</td>\n",
       "      <td>0.32</td>\n",
       "      <td>0.87</td>\n",
       "      <td>0:16:09</td>\n",
       "      <td>0:00:26</td>\n",
       "    </tr>\n",
       "    <tr>\n",
       "      <th>2</th>\n",
       "      <td>0.30</td>\n",
       "      <td>0.44</td>\n",
       "      <td>0.87</td>\n",
       "      <td>0:15:29</td>\n",
       "      <td>0:00:26</td>\n",
       "    </tr>\n",
       "    <tr>\n",
       "      <th>3</th>\n",
       "      <td>0.20</td>\n",
       "      <td>0.54</td>\n",
       "      <td>0.88</td>\n",
       "      <td>0:15:36</td>\n",
       "      <td>0:00:29</td>\n",
       "    </tr>\n",
       "    <tr>\n",
       "      <th>4</th>\n",
       "      <td>0.10</td>\n",
       "      <td>0.67</td>\n",
       "      <td>0.89</td>\n",
       "      <td>0:16:54</td>\n",
       "      <td>0:00:29</td>\n",
       "    </tr>\n",
       "  </tbody>\n",
       "</table>\n",
       "</div>"
      ],
      "text/plain": [
       "       Training Loss  Valid. Loss  Valid. Accur. Training Time Validation Time\n",
       "epoch                                                                         \n",
       "1               0.41         0.32           0.87       0:16:09         0:00:26\n",
       "2               0.30         0.44           0.87       0:15:29         0:00:26\n",
       "3               0.20         0.54           0.88       0:15:36         0:00:29\n",
       "4               0.10         0.67           0.89       0:16:54         0:00:29"
      ]
     },
     "execution_count": 47,
     "metadata": {},
     "output_type": "execute_result"
    }
   ],
   "source": [
    "import pandas as pd\n",
    "\n",
    "# Display floats with two decimal places.\n",
    "pd.set_option('precision', 2)\n",
    "\n",
    "# Create a DataFrame from our training statistics.\n",
    "df_stats = pd.DataFrame(data=training_stats)\n",
    "\n",
    "# Use the 'epoch' as the row index.\n",
    "df_stats = df_stats.set_index('epoch')\n",
    "\n",
    "# A hack to force the column headers to wrap.\n",
    "#df = df.style.set_table_styles([dict(selector=\"th\",props=[('max-width', '70px')])])\n",
    "\n",
    "# Display the table.\n",
    "df_stats"
   ]
  },
  {
   "cell_type": "markdown",
   "metadata": {
    "colab_type": "text",
    "id": "1-G03mmwH3aI"
   },
   "source": [
    "Notice that, while the the training loss is going down with each epoch, the validation loss is increasing! This suggests that we are training our model too long, and it's over-fitting on the training data. \n",
    "\n",
    "(For reference, we are using 7,695 training samples and 856 validation samples).\n",
    "\n",
    "Validation Loss is a more precise measure than accuracy, because with accuracy we don't care about the exact output value, but just which side of a threshold it falls on. \n",
    "\n",
    "If we are predicting the correct answer, but with less confidence, then validation loss will catch this, while accuracy will not."
   ]
  },
  {
   "cell_type": "code",
   "execution_count": 48,
   "metadata": {
    "colab": {
     "base_uri": "https://localhost:8080/",
     "height": 427
    },
    "colab_type": "code",
    "executionInfo": {
     "elapsed": 888,
     "status": "ok",
     "timestamp": 1584546233850,
     "user": {
      "displayName": "Chris McCormick",
      "photoUrl": "https://lh3.googleusercontent.com/a-/AOh14GjxR2-AAxzOaDHrQaxAtXJQMyx43dPUv51hlUf7=s64",
      "userId": "09546877251175560539"
     },
     "user_tz": 420
    },
    "id": "68xreA9JAmG5",
    "outputId": "265c6738-9f28-4817-a350-a63a1ac01934"
   },
   "outputs": [
    {
     "data": {
      "image/png": "[encoded data removed]",
      "text/plain": [
       "<Figure size 864x432 with 1 Axes>"
      ]
     },
     "metadata": {
      "needs_background": "light"
     },
     "output_type": "display_data"
    }
   ],
   "source": [
    "import matplotlib.pyplot as plt\n",
    "\n",
    "\n",
    "# import seaborn as sns\n",
    "\n",
    "# # Use plot styling from seaborn.\n",
    "# sns.set(style='darkgrid')\n",
    "\n",
    "# # Increase the plot size and font size.\n",
    "# sns.set(font_scale=1.5)\n",
    "plt.rcParams[\"figure.figsize\"] = (12,6)\n",
    "\n",
    "# Plot the learning curve.\n",
    "plt.plot(df_stats['Training Loss'], 'b-o', label=\"Training\")\n",
    "plt.plot(df_stats['Valid. Loss'], 'g-o', label=\"Validation\")\n",
    "\n",
    "# Label the plot.\n",
    "plt.title(\"Training & Validation Loss\")\n",
    "plt.xlabel(\"Epoch\")\n",
    "plt.ylabel(\"Loss\")\n",
    "plt.legend()\n",
    "plt.xticks([1, 2, 3, 4])\n",
    "\n",
    "plt.show()"
   ]
  },
  {
   "cell_type": "markdown",
   "metadata": {
    "colab_type": "text",
    "id": "mkyubuJSOzg3"
   },
   "source": [
    "# 5. Performance On Test Set"
   ]
  },
  {
   "cell_type": "markdown",
   "metadata": {
    "colab_type": "text",
    "id": "DosV94BYIYxg"
   },
   "source": [
    "Now we'll load the holdout dataset and prepare inputs just as we did with the training set. Then we'll evaluate predictions using [Matthew's correlation coefficient](https://scikit-learn.org/stable/modules/generated/sklearn.metrics.matthews_corrcoef.html) because this is the metric used by the wider NLP community to evaluate performance on CoLA. With this metric, +1 is the best score, and -1 is the worst score. This way, we can see how well we perform against the state of the art models for this specific task."
   ]
  },
  {
   "cell_type": "markdown",
   "metadata": {
    "colab_type": "text",
    "id": "Tg42jJqqM68F"
   },
   "source": [
    "### 5.1. Data Preparation\n"
   ]
  },
  {
   "cell_type": "markdown",
   "metadata": {
    "colab_type": "text",
    "id": "xWe0_JW21MyV"
   },
   "source": [
    "\n",
    "We'll need to apply all of the same steps that we did for the training data to prepare our test data set."
   ]
  },
  {
   "cell_type": "code",
   "execution_count": null,
   "metadata": {
    "colab": {
     "base_uri": "https://localhost:8080/",
     "height": 50
    },
    "colab_type": "code",
    "executionInfo": {
     "elapsed": 668,
     "status": "ok",
     "timestamp": 1584546247860,
     "user": {
      "displayName": "Chris McCormick",
      "photoUrl": "https://lh3.googleusercontent.com/a-/AOh14GjxR2-AAxzOaDHrQaxAtXJQMyx43dPUv51hlUf7=s64",
      "userId": "09546877251175560539"
     },
     "user_tz": 420
    },
    "id": "mAN0LZBOOPVh",
    "outputId": "e97be795-f802-4c2e-8f2b-d2ac5cd2eead"
   },
   "outputs": [
    {
     "name": "stdout",
     "output_type": "stream",
     "text": [
      "Number of test sentences: 516\n",
      "\n"
     ]
    }
   ],
   "source": [
    "import pandas as pd\n",
    "\n",
    "# Load the dataset into a pandas dataframe.\n",
    "df = pd.read_csv(\"./cola_public/raw/out_of_domain_dev.tsv\", delimiter='\\t', header=None, names=['sentence_source', 'label', 'label_notes', 'sentence'])\n",
    "\n",
    "# Report the number of sentences.\n",
    "print('Number of test sentences: {:,}\\n'.format(df.shape[0]))\n",
    "\n",
    "# Create sentence and label lists\n",
    "sentences = df.sentence.values\n",
    "labels = df.label.values\n",
    "\n",
    "# Tokenize all of the sentences and map the tokens to thier word IDs.\n",
    "input_ids = []\n",
    "attention_masks = []\n",
    "\n",
    "# For every sentence...\n",
    "for sent in sentences:\n",
    "    # `encode_plus` will:\n",
    "    #   (1) Tokenize the sentence.\n",
    "    #   (2) Prepend the `[CLS]` token to the start.\n",
    "    #   (3) Append the `[SEP]` token to the end.\n",
    "    #   (4) Map tokens to their IDs.\n",
    "    #   (5) Pad or truncate the sentence to `max_length`\n",
    "    #   (6) Create attention masks for [PAD] tokens.\n",
    "    encoded_dict = tokenizer.encode_plus(\n",
    "                        sent,                      # Sentence to encode.\n",
    "                        add_special_tokens = True, # Add '[CLS]' and '[SEP]'\n",
    "                        max_length = 64,           # Pad & truncate all sentences.\n",
    "                        pad_to_max_length = True,\n",
    "                        return_attention_mask = True,   # Construct attn. masks.\n",
    "                        return_tensors = 'pt',     # Return pytorch tensors.\n",
    "                   )\n",
    "    \n",
    "    # Add the encoded sentence to the list.    \n",
    "    input_ids.append(encoded_dict['input_ids'])\n",
    "    \n",
    "    # And its attention mask (simply differentiates padding from non-padding).\n",
    "    attention_masks.append(encoded_dict['attention_mask'])\n",
    "\n",
    "# Convert the lists into tensors.\n",
    "input_ids = torch.cat(input_ids, dim=0)\n",
    "attention_masks = torch.cat(attention_masks, dim=0)\n",
    "labels = torch.tensor(labels)\n",
    "\n",
    "# Set the batch size.  \n",
    "batch_size = 32  \n",
    "\n",
    "# Create the DataLoader.\n",
    "prediction_data = TensorDataset(input_ids, attention_masks, labels)\n",
    "prediction_sampler = SequentialSampler(prediction_data)\n",
    "prediction_dataloader = DataLoader(prediction_data, sampler=prediction_sampler, batch_size=batch_size)"
   ]
  },
  {
   "cell_type": "markdown",
   "metadata": {
    "colab_type": "text",
    "id": "16lctEOyNFik"
   },
   "source": [
    "## 5.2. Evaluate on Test Set\n"
   ]
  },
  {
   "cell_type": "markdown",
   "metadata": {
    "colab_type": "text",
    "id": "rhR99IISNMg9"
   },
   "source": [
    "\n",
    "With the test set prepared, we can apply our fine-tuned model to generate predictions on the test set."
   ]
  },
  {
   "cell_type": "code",
   "execution_count": null,
   "metadata": {
    "colab": {
     "base_uri": "https://localhost:8080/",
     "height": 50
    },
    "colab_type": "code",
    "executionInfo": {
     "elapsed": 1580,
     "status": "ok",
     "timestamp": 1584546257163,
     "user": {
      "displayName": "Chris McCormick",
      "photoUrl": "https://lh3.googleusercontent.com/a-/AOh14GjxR2-AAxzOaDHrQaxAtXJQMyx43dPUv51hlUf7=s64",
      "userId": "09546877251175560539"
     },
     "user_tz": 420
    },
    "id": "Hba10sXR7Xi6",
    "outputId": "58f2e70a-e0e4-45e3-a4e8-7463bca4817a"
   },
   "outputs": [
    {
     "name": "stdout",
     "output_type": "stream",
     "text": [
      "Predicting labels for 516 test sentences...\n",
      "    DONE.\n"
     ]
    }
   ],
   "source": [
    "# Prediction on test set\n",
    "\n",
    "print('Predicting labels for {:,} test sentences...'.format(len(input_ids)))\n",
    "\n",
    "# Put model in evaluation mode\n",
    "model.eval()\n",
    "\n",
    "# Tracking variables \n",
    "predictions , true_labels = [], []\n",
    "\n",
    "# Predict \n",
    "for batch in prediction_dataloader:\n",
    "  # Add batch to GPU\n",
    "  batch = tuple(t.to(device) for t in batch)\n",
    "  \n",
    "  # Unpack the inputs from our dataloader\n",
    "  b_input_ids, b_input_mask, b_labels = batch\n",
    "  \n",
    "  # Telling the model not to compute or store gradients, saving memory and \n",
    "  # speeding up prediction\n",
    "  with torch.no_grad():\n",
    "      # Forward pass, calculate logit predictions\n",
    "      outputs = model(b_input_ids, token_type_ids=None, \n",
    "                      attention_mask=b_input_mask)\n",
    "\n",
    "  logits = outputs[0]\n",
    "\n",
    "  # Move logits and labels to CPU\n",
    "  logits = logits.detach().cpu().numpy()\n",
    "  label_ids = b_labels.to('cpu').numpy()\n",
    "  \n",
    "  # Store predictions and true labels\n",
    "  predictions.append(logits)\n",
    "  true_labels.append(label_ids)\n",
    "\n",
    "print('    DONE.')"
   ]
  },
  {
   "cell_type": "markdown",
   "metadata": {
    "colab_type": "text",
    "id": "-5jscIM8R4Gv"
   },
   "source": [
    "Accuracy on the CoLA benchmark is measured using the \"[Matthews correlation coefficient](https://scikit-learn.org/stable/modules/generated/sklearn.metrics.matthews_corrcoef.html)\" (MCC).\n",
    "\n",
    "We use MCC here because the classes are imbalanced:\n"
   ]
  },
  {
   "cell_type": "code",
   "execution_count": null,
   "metadata": {
    "colab": {
     "base_uri": "https://localhost:8080/",
     "height": 34
    },
    "colab_type": "code",
    "executionInfo": {
     "elapsed": 1251,
     "status": "ok",
     "timestamp": 1584546261497,
     "user": {
      "displayName": "Chris McCormick",
      "photoUrl": "https://lh3.googleusercontent.com/a-/AOh14GjxR2-AAxzOaDHrQaxAtXJQMyx43dPUv51hlUf7=s64",
      "userId": "09546877251175560539"
     },
     "user_tz": 420
    },
    "id": "hWcy0X1hirdx",
    "outputId": "d0f6bd08-2fb7-42e3-96c7-9aada8b9306c"
   },
   "outputs": [
    {
     "name": "stdout",
     "output_type": "stream",
     "text": [
      "Positive samples: 354 of 516 (68.60%)\n"
     ]
    }
   ],
   "source": [
    "print('Positive samples: %d of %d (%.2f%%)' % (df.label.sum(), len(df.label), (df.label.sum() / len(df.label) * 100.0)))"
   ]
  },
  {
   "cell_type": "code",
   "execution_count": null,
   "metadata": {
    "colab": {
     "base_uri": "https://localhost:8080/",
     "height": 67
    },
    "colab_type": "code",
    "executionInfo": {
     "elapsed": 790,
     "status": "ok",
     "timestamp": 1584546685778,
     "user": {
      "displayName": "Chris McCormick",
      "photoUrl": "https://lh3.googleusercontent.com/a-/AOh14GjxR2-AAxzOaDHrQaxAtXJQMyx43dPUv51hlUf7=s64",
      "userId": "09546877251175560539"
     },
     "user_tz": 420
    },
    "id": "cRaZQ4XC7kLs",
    "outputId": "916b99e8-d774-4db5-ae2a-dc543d79ecc0"
   },
   "outputs": [
    {
     "name": "stdout",
     "output_type": "stream",
     "text": [
      "Calculating Matthews Corr. Coef. for each batch...\n"
     ]
    },
    {
     "name": "stderr",
     "output_type": "stream",
     "text": [
      "/usr/local/lib/python3.6/dist-packages/sklearn/metrics/_classification.py:900: RuntimeWarning: invalid value encountered in double_scalars\n",
      "  mcc = cov_ytyp / np.sqrt(cov_ytyt * cov_ypyp)\n"
     ]
    }
   ],
   "source": [
    "from sklearn.metrics import matthews_corrcoef\n",
    "\n",
    "matthews_set = []\n",
    "\n",
    "# Evaluate each test batch using Matthew's correlation coefficient\n",
    "print('Calculating Matthews Corr. Coef. for each batch...')\n",
    "\n",
    "# For each input batch...\n",
    "for i in range(len(true_labels)):\n",
    "  \n",
    "  # The predictions for this batch are a 2-column ndarray (one column for \"0\" \n",
    "  # and one column for \"1\"). Pick the label with the highest value and turn this\n",
    "  # in to a list of 0s and 1s.\n",
    "  pred_labels_i = np.argmax(predictions[i], axis=1).flatten()\n",
    "  \n",
    "  # Calculate and store the coef for this batch.  \n",
    "  matthews = matthews_corrcoef(true_labels[i], pred_labels_i)                \n",
    "  matthews_set.append(matthews)"
   ]
  },
  {
   "cell_type": "markdown",
   "metadata": {
    "colab_type": "text",
    "id": "IUM0UA1qJaVB"
   },
   "source": [
    "The final score will be based on the entire test set, but let's take a look at the scores on the individual batches to get a sense of the variability in the metric between batches. \n",
    "\n",
    "Each batch has 32 sentences in it, except the last batch which has only (516 % 32) = 4 test sentences in it.\n"
   ]
  },
  {
   "cell_type": "code",
   "execution_count": null,
   "metadata": {
    "colab": {
     "base_uri": "https://localhost:8080/",
     "height": 427
    },
    "colab_type": "code",
    "executionInfo": {
     "elapsed": 684,
     "status": "ok",
     "timestamp": 1584546483182,
     "user": {
      "displayName": "Chris McCormick",
      "photoUrl": "https://lh3.googleusercontent.com/a-/AOh14GjxR2-AAxzOaDHrQaxAtXJQMyx43dPUv51hlUf7=s64",
      "userId": "09546877251175560539"
     },
     "user_tz": 420
    },
    "id": "pyfY1tqxU0t9",
    "outputId": "49fa3f57-58f3-4c84-f08e-54433750377b"
   },
   "outputs": [
    {
     "data": {
      "image/png": "[encoded data removed]",
      "text/plain": [
       "<Figure size 864x432 with 1 Axes>"
      ]
     },
     "metadata": {
      "tags": []
     },
     "output_type": "display_data"
    }
   ],
   "source": [
    "# Create a barplot showing the MCC score for each batch of test samples.\n",
    "ax = sns.barplot(x=list(range(len(matthews_set))), y=matthews_set, ci=None)\n",
    "\n",
    "plt.title('MCC Score per Batch')\n",
    "plt.ylabel('MCC Score (-1 to +1)')\n",
    "plt.xlabel('Batch #')\n",
    "\n",
    "plt.show()"
   ]
  },
  {
   "cell_type": "markdown",
   "metadata": {
    "colab_type": "text",
    "id": "1YrjAPX2V-l4"
   },
   "source": [
    "Now we'll combine the results for all of the batches and calculate our final MCC score."
   ]
  },
  {
   "cell_type": "code",
   "execution_count": null,
   "metadata": {
    "colab": {
     "base_uri": "https://localhost:8080/",
     "height": 34
    },
    "colab_type": "code",
    "executionInfo": {
     "elapsed": 729,
     "status": "ok",
     "timestamp": 1584546734452,
     "user": {
      "displayName": "Chris McCormick",
      "photoUrl": "https://lh3.googleusercontent.com/a-/AOh14GjxR2-AAxzOaDHrQaxAtXJQMyx43dPUv51hlUf7=s64",
      "userId": "09546877251175560539"
     },
     "user_tz": 420
    },
    "id": "oCYZa1lQ8Jn8",
    "outputId": "3676e9fd-716d-4a83-e627-59014386f6ac"
   },
   "outputs": [
    {
     "name": "stdout",
     "output_type": "stream",
     "text": [
      "Total MCC: 0.498\n"
     ]
    }
   ],
   "source": [
    "# Combine the results across all batches. \n",
    "flat_predictions = np.concatenate(predictions, axis=0)\n",
    "\n",
    "# For each sample, pick the label (0 or 1) with the higher score.\n",
    "flat_predictions = np.argmax(flat_predictions, axis=1).flatten()\n",
    "\n",
    "# Combine the correct labels for each batch into a single list.\n",
    "flat_true_labels = np.concatenate(true_labels, axis=0)\n",
    "\n",
    "# Calculate the MCC\n",
    "mcc = matthews_corrcoef(flat_true_labels, flat_predictions)\n",
    "\n",
    "print('Total MCC: %.3f' % mcc)"
   ]
  },
  {
   "cell_type": "markdown",
   "metadata": {
    "colab_type": "text",
    "id": "jXx0jPc4HUfZ"
   },
   "source": [
    "Cool! In about half an hour and without doing any hyperparameter tuning (adjusting the learning rate, epochs, batch size, ADAM properties, etc.) we are able to get a good score. \n",
    "\n",
    "> *Note: To maximize the score, we should remove the \"validation set\" (which we used to help determine how many epochs to train for) and train on the entire training set.*\n",
    "\n",
    "The library documents the expected accuracy for this benchmark [here](https://huggingface.co/transformers/examples.html#glue) as `49.23`.\n",
    "\n",
    "You can also look at the official leaderboard [here](https://gluebenchmark.com/leaderboard/submission/zlssuBTm5XRs0aSKbFYGVIVdvbj1/-LhijX9VVmvJcvzKymxy). \n",
    "\n",
    "Note that (due to the small dataset size?) the accuracy can vary significantly between runs.\n"
   ]
  },
  {
   "cell_type": "markdown",
   "metadata": {
    "colab_type": "text",
    "id": "GfjYoa6WmkN6"
   },
   "source": [
    "# Conclusion"
   ]
  },
  {
   "cell_type": "markdown",
   "metadata": {
    "colab_type": "text",
    "id": "xlQG7qgkmf4n"
   },
   "source": [
    "This post demonstrates that with a pre-trained BERT model you can quickly and effectively create a high quality model with minimal effort and training time using the pytorch interface, regardless of the specific NLP task you are interested in."
   ]
  },
  {
   "cell_type": "markdown",
   "metadata": {
    "colab_type": "text",
    "id": "YUmsUOIv8EUO"
   },
   "source": [
    "# Appendix\n"
   ]
  },
  {
   "cell_type": "markdown",
   "metadata": {
    "colab_type": "text",
    "id": "q2079Qyn8Mt8"
   },
   "source": [
    "## A1. Saving & Loading Fine-Tuned Model\n",
    "\n",
    "This first cell (taken from `run_glue.py` [here](https://github.com/huggingface/transformers/blob/35ff345fc9df9e777b27903f11fa213e4052595b/examples/run_glue.py#L495)) writes the model and tokenizer out to disk."
   ]
  },
  {
   "cell_type": "code",
   "execution_count": null,
   "metadata": {
    "colab": {
     "base_uri": "https://localhost:8080/",
     "height": 84
    },
    "colab_type": "code",
    "executionInfo": {
     "elapsed": 2346,
     "status": "ok",
     "timestamp": 1584546784696,
     "user": {
      "displayName": "Chris McCormick",
      "photoUrl": "https://lh3.googleusercontent.com/a-/AOh14GjxR2-AAxzOaDHrQaxAtXJQMyx43dPUv51hlUf7=s64",
      "userId": "09546877251175560539"
     },
     "user_tz": 420
    },
    "id": "6ulTWaOr8QNY",
    "outputId": "a5517081-2e05-4244-c8df-77a9558ff75a"
   },
   "outputs": [
    {
     "name": "stdout",
     "output_type": "stream",
     "text": [
      "Saving model to ./model_save/\n"
     ]
    },
    {
     "data": {
      "text/plain": [
       "('./model_save/vocab.txt',\n",
       " './model_save/special_tokens_map.json',\n",
       " './model_save/added_tokens.json')"
      ]
     },
     "execution_count": 75,
     "metadata": {
      "tags": []
     },
     "output_type": "execute_result"
    }
   ],
   "source": [
    "import os\n",
    "\n",
    "# Saving best-practices: if you use defaults names for the model, you can reload it using from_pretrained()\n",
    "\n",
    "output_dir = './model_save/'\n",
    "\n",
    "# Create output directory if needed\n",
    "if not os.path.exists(output_dir):\n",
    "    os.makedirs(output_dir)\n",
    "\n",
    "print(\"Saving model to %s\" % output_dir)\n",
    "\n",
    "# Save a trained model, configuration and tokenizer using `save_pretrained()`.\n",
    "# They can then be reloaded using `from_pretrained()`\n",
    "model_to_save = model.module if hasattr(model, 'module') else model  # Take care of distributed/parallel training\n",
    "model_to_save.save_pretrained(output_dir)\n",
    "tokenizer.save_pretrained(output_dir)\n",
    "\n",
    "# Good practice: save your training arguments together with the trained model\n",
    "# torch.save(args, os.path.join(output_dir, 'training_args.bin'))\n"
   ]
  },
  {
   "cell_type": "markdown",
   "metadata": {
    "colab_type": "text",
    "id": "Z-tjHkR7lc1I"
   },
   "source": [
    "Let's check out the file sizes, out of curiosity."
   ]
  },
  {
   "cell_type": "code",
   "execution_count": null,
   "metadata": {
    "colab": {
     "base_uri": "https://localhost:8080/",
     "height": 118
    },
    "colab_type": "code",
    "executionInfo": {
     "elapsed": 2591,
     "status": "ok",
     "timestamp": 1584546787634,
     "user": {
      "displayName": "Chris McCormick",
      "photoUrl": "https://lh3.googleusercontent.com/a-/AOh14GjxR2-AAxzOaDHrQaxAtXJQMyx43dPUv51hlUf7=s64",
      "userId": "09546877251175560539"
     },
     "user_tz": 420
    },
    "id": "mqMzI3VTCZo5",
    "outputId": "6df0b283-6458-4d95-8455-2e7537193d1b"
   },
   "outputs": [
    {
     "name": "stdout",
     "output_type": "stream",
     "text": [
      "total 427960K\n",
      "-rw-r--r-- 1 root root      2K Mar 18 15:53 config.json\n",
      "-rw-r--r-- 1 root root 427719K Mar 18 15:53 pytorch_model.bin\n",
      "-rw-r--r-- 1 root root      1K Mar 18 15:53 special_tokens_map.json\n",
      "-rw-r--r-- 1 root root      1K Mar 18 15:53 tokenizer_config.json\n",
      "-rw-r--r-- 1 root root    227K Mar 18 15:53 vocab.txt\n"
     ]
    }
   ],
   "source": [
    "!ls -l --block-size=K ./model_save/"
   ]
  },
  {
   "cell_type": "markdown",
   "metadata": {
    "colab_type": "text",
    "id": "fr_bt2rFlgDn"
   },
   "source": [
    "The largest file is the model weights, at around 418 megabytes."
   ]
  },
  {
   "cell_type": "code",
   "execution_count": null,
   "metadata": {
    "colab": {
     "base_uri": "https://localhost:8080/",
     "height": 34
    },
    "colab_type": "code",
    "executionInfo": {
     "elapsed": 2608,
     "status": "ok",
     "timestamp": 1584546790821,
     "user": {
      "displayName": "Chris McCormick",
      "photoUrl": "https://lh3.googleusercontent.com/a-/AOh14GjxR2-AAxzOaDHrQaxAtXJQMyx43dPUv51hlUf7=s64",
      "userId": "09546877251175560539"
     },
     "user_tz": 420
    },
    "id": "-WUFUIQ8Cu8D",
    "outputId": "70780762-7790-474f-e5c2-304a066945ae"
   },
   "outputs": [
    {
     "name": "stdout",
     "output_type": "stream",
     "text": [
      "-rw-r--r-- 1 root root 418M Mar 18 15:53 ./model_save/pytorch_model.bin\n"
     ]
    }
   ],
   "source": [
    "!ls -l --block-size=M ./model_save/pytorch_model.bin"
   ]
  },
  {
   "cell_type": "markdown",
   "metadata": {
    "colab_type": "text",
    "id": "dzGKvOFAll_e"
   },
   "source": [
    "To save your model across Colab Notebook sessions, download it to your local machine, or ideally copy it to your Google Drive."
   ]
  },
  {
   "cell_type": "code",
   "execution_count": null,
   "metadata": {
    "colab": {},
    "colab_type": "code",
    "id": "Trr-A-POC18_"
   },
   "outputs": [],
   "source": [
    "# Mount Google Drive to this Notebook instance.\n",
    "from google.colab import drive\n",
    "    drive.mount('/content/drive')"
   ]
  },
  {
   "cell_type": "code",
   "execution_count": null,
   "metadata": {
    "colab": {},
    "colab_type": "code",
    "id": "NxlZsafTC-V5"
   },
   "outputs": [],
   "source": [
    "# Copy the model files to a directory in your Google Drive.\n",
    "!cp -r ./model_save/ \"./drive/Shared drives/ChrisMcCormick.AI/Blog Posts/BERT Fine-Tuning/\""
   ]
  },
  {
   "cell_type": "markdown",
   "metadata": {
    "colab_type": "text",
    "id": "W0vstijw85SZ"
   },
   "source": [
    "The following functions will load the model back from disk."
   ]
  },
  {
   "cell_type": "code",
   "execution_count": null,
   "metadata": {
    "colab": {},
    "colab_type": "code",
    "id": "nskPzUM084zL"
   },
   "outputs": [],
   "source": [
    "# Load a trained model and vocabulary that you have fine-tuned\n",
    "model = model_class.from_pretrained(output_dir)\n",
    "tokenizer = tokenizer_class.from_pretrained(output_dir)\n",
    "\n",
    "# Copy the model to the GPU.\n",
    "model.to(device)"
   ]
  },
  {
   "cell_type": "markdown",
   "metadata": {
    "colab_type": "text",
    "id": "NIWouvDrGVAi"
   },
   "source": [
    "## A.2. Weight Decay\n",
    "\n"
   ]
  },
  {
   "cell_type": "markdown",
   "metadata": {
    "colab_type": "text",
    "id": "f123ZAlF1OyW"
   },
   "source": [
    "The huggingface example includes the following code block for enabling weight decay, but the default decay rate is \"0.0\", so I moved this to the appendix.\n",
    "\n",
    "This block essentially tells the optimizer to not apply weight decay to the bias terms (e.g., $ b $ in the equation $ y = Wx + b $ ). Weight decay is a form of regularization--after calculating the gradients, we multiply them by, e.g., 0.99."
   ]
  },
  {
   "cell_type": "code",
   "execution_count": null,
   "metadata": {
    "colab": {},
    "colab_type": "code",
    "id": "QxSMw0FrptiL"
   },
   "outputs": [],
   "source": [
    "# This code is taken from:\n",
    "# https://github.com/huggingface/transformers/blob/5bfcd0485ece086ebcbed2d008813037968a9e58/examples/run_glue.py#L102\n",
    "\n",
    "# Don't apply weight decay to any parameters whose names include these tokens.\n",
    "# (Here, the BERT doesn't have `gamma` or `beta` parameters, only `bias` terms)\n",
    "no_decay = ['bias', 'LayerNorm.weight']\n",
    "\n",
    "# Separate the `weight` parameters from the `bias` parameters. \n",
    "# - For the `weight` parameters, this specifies a 'weight_decay_rate' of 0.01. \n",
    "# - For the `bias` parameters, the 'weight_decay_rate' is 0.0. \n",
    "optimizer_grouped_parameters = [\n",
    "    # Filter for all parameters which *don't* include 'bias', 'gamma', 'beta'.\n",
    "    {'params': [p for n, p in param_optimizer if not any(nd in n for nd in no_decay)],\n",
    "     'weight_decay_rate': 0.1},\n",
    "    \n",
    "    # Filter for parameters which *do* include those.\n",
    "    {'params': [p for n, p in param_optimizer if any(nd in n for nd in no_decay)],\n",
    "     'weight_decay_rate': 0.0}\n",
    "]\n",
    "\n",
    "# Note - `optimizer_grouped_parameters` only includes the parameter values, not \n",
    "# the names."
   ]
  },
  {
   "cell_type": "markdown",
   "metadata": {
    "colab_type": "text",
    "id": "IKzLS9ohzGVu"
   },
   "source": [
    "# Revision History"
   ]
  },
  {
   "cell_type": "markdown",
   "metadata": {
    "colab_type": "text",
    "id": "SZqpiHEnGqYR"
   },
   "source": [
    "**Version 3** - *Mar 18th, 2020* - (current)\n",
    "* Simplified the tokenization and input formatting (for both training and test) by leveraging the `tokenizer.encode_plus` function. \n",
    "`encode_plus` handles padding *and* creates the attention masks for us.\n",
    "* Improved explanation of attention masks.\n",
    "* Switched to using `torch.utils.data.random_split` for creating the training-validation split.\n",
    "* Added a summary table of the training statistics (validation loss, time per epoch, etc.).\n",
    "* Added validation loss to the learning curve plot, so we can see if we're overfitting. \n",
    "    * Thank you to [Stas Bekman](https://ca.linkedin.com/in/stasbekman) for contributing this!\n",
    "* Displayed the per-batch MCC as a bar plot.\n",
    "\n",
    "**Version 2** - *Dec 20th, 2019* - [link](https://colab.research.google.com/drive/1Y4o3jh3ZH70tl6mCd76vz_IxX23biCPP)\n",
    "* huggingface renamed their library to `transformers`. \n",
    "* Updated the notebook to use the `transformers` library.\n",
    "\n",
    "**Version 1** - *July 22nd, 2019*\n",
    "* Initial version."
   ]
  },
  {
   "cell_type": "markdown",
   "metadata": {
    "colab_type": "text",
    "id": "FL_NnDGxRpEI"
   },
   "source": [
    "## Further Work\n",
    "\n",
    "* It might make more sense to use the MCC score for “validation accuracy”, but I’ve left it out so as not to have to explain it earlier in the Notebook.\n",
    "* Seeding -- I’m not convinced that setting the seed values at the beginning of the training loop is actually creating reproducible results…\n",
    "* The MCC score seems to vary substantially across different runs. It would be interesting to run this example a number of times and show the variance.\n"
   ]
  }
 ],
 "metadata": {
  "accelerator": "GPU",
  "colab": {
   "collapsed_sections": [],
   "name": "Copy of BERT Fine-Tuning Sentence Classification v3.ipynb",
   "provenance": [
    {
     "file_id": "1pTuQhug6Dhl9XalKB0zUGf4FIdYFlpcX",
     "timestamp": 1600785037278
    },
    {
     "file_id": "1dcucJvUOx6kdopjhVIwIdpby6VXhnvns",
     "timestamp": 1575478354980
    },
    {
     "file_id": "1ywsvwO6thOVOrfagjjfuxEf6xVRxbUNO",
     "timestamp": 1575307876986
    },
    {
     "file_id": "1f_snPs--PVYgZJwT3GwjxqVALFJ0T2-y",
     "timestamp": 1556493831452
    }
   ],
   "toc_visible": true
  },
  "kernelspec": {
   "display_name": "Python 3",
   "language": "python",
   "name": "python3"
  },
  "language_info": {
   "codemirror_mode": {
    "name": "ipython",
    "version": 3
   },
   "file_extension": ".py",
   "mimetype": "text/x-python",
   "name": "python",
   "nbconvert_exporter": "python",
   "pygments_lexer": "ipython3",
   "version": "3.7.6"
  },
  "widgets": {
   "application/vnd.jupyter.widget-state+json": {
    "01b6ae66e0124aa89e4a8bca774d1053": {
     "model_module": "@jupyter-widgets/controls",
     "model_name": "ProgressStyleModel",
     "state": {
      "_model_module": "@jupyter-widgets/controls",
      "_model_module_version": "1.5.0",
      "_model_name": "ProgressStyleModel",
      "_view_count": null,
      "_view_module": "@jupyter-widgets/base",
      "_view_module_version": "1.2.0",
      "_view_name": "StyleView",
      "bar_color": null,
      "description_width": "initial"
     }
    },
    "0eead78d14b142ddbb93a5165bd69f75": {
     "model_module": "@jupyter-widgets/base",
     "model_name": "LayoutModel",
     "state": {
      "_model_module": "@jupyter-widgets/base",
      "_model_module_version": "1.2.0",
      "_model_name": "LayoutModel",
      "_view_count": null,
      "_view_module": "@jupyter-widgets/base",
      "_view_module_version": "1.2.0",
      "_view_name": "LayoutView",
      "align_content": null,
      "align_items": null,
      "align_self": null,
      "border": null,
      "bottom": null,
      "display": null,
      "flex": null,
      "flex_flow": null,
      "grid_area": null,
      "grid_auto_columns": null,
      "grid_auto_flow": null,
      "grid_auto_rows": null,
      "grid_column": null,
      "grid_gap": null,
      "grid_row": null,
      "grid_template_areas": null,
      "grid_template_columns": null,
      "grid_template_rows": null,
      "height": null,
      "justify_content": null,
      "justify_items": null,
      "left": null,
      "margin": null,
      "max_height": null,
      "max_width": null,
      "min_height": null,
      "min_width": null,
      "object_fit": null,
      "object_position": null,
      "order": null,
      "overflow": null,
      "overflow_x": null,
      "overflow_y": null,
      "padding": null,
      "right": null,
      "top": null,
      "visibility": null,
      "width": null
     }
    },
    "1e16b47ba73a499896bb489ab0d96238": {
     "model_module": "@jupyter-widgets/controls",
     "model_name": "FloatProgressModel",
     "state": {
      "_dom_classes": [],
      "_model_module": "@jupyter-widgets/controls",
      "_model_module_version": "1.5.0",
      "_model_name": "FloatProgressModel",
      "_view_count": null,
      "_view_module": "@jupyter-widgets/controls",
      "_view_module_version": "1.5.0",
      "_view_name": "ProgressView",
      "bar_style": "success",
      "description": "Downloading: 100%",
      "description_tooltip": null,
      "layout": "IPY_MODEL_efa06806861e455f9c869a737723d370",
      "max": 231508,
      "min": 0,
      "orientation": "horizontal",
      "style": "IPY_MODEL_01b6ae66e0124aa89e4a8bca774d1053",
      "value": 231508
     }
    },
    "467ad53d8c73450d9f2fc03f378ed7ac": {
     "model_module": "@jupyter-widgets/controls",
     "model_name": "HTMLModel",
     "state": {
      "_dom_classes": [],
      "_model_module": "@jupyter-widgets/controls",
      "_model_module_version": "1.5.0",
      "_model_name": "HTMLModel",
      "_view_count": null,
      "_view_module": "@jupyter-widgets/controls",
      "_view_module_version": "1.5.0",
      "_view_name": "HTMLView",
      "description": "",
      "description_tooltip": null,
      "layout": "IPY_MODEL_6199fa3b6c314ce7bafe21658cb8b0e7",
      "placeholder": "​",
      "style": "IPY_MODEL_8f9a21e4e1b94b0490c9bce5f6dc79c5",
      "value": " 433/433 [00:00&lt;00:00, 619B/s]"
     }
    },
    "531f8dda29a24f5eb4b276a758187d13": {
     "model_module": "@jupyter-widgets/base",
     "model_name": "LayoutModel",
     "state": {
      "_model_module": "@jupyter-widgets/base",
      "_model_module_version": "1.2.0",
      "_model_name": "LayoutModel",
      "_view_count": null,
      "_view_module": "@jupyter-widgets/base",
      "_view_module_version": "1.2.0",
      "_view_name": "LayoutView",
      "align_content": null,
      "align_items": null,
      "align_self": null,
      "border": null,
      "bottom": null,
      "display": null,
      "flex": null,
      "flex_flow": null,
      "grid_area": null,
      "grid_auto_columns": null,
      "grid_auto_flow": null,
      "grid_auto_rows": null,
      "grid_column": null,
      "grid_gap": null,
      "grid_row": null,
      "grid_template_areas": null,
      "grid_template_columns": null,
      "grid_template_rows": null,
      "height": null,
      "justify_content": null,
      "justify_items": null,
      "left": null,
      "margin": null,
      "max_height": null,
      "max_width": null,
      "min_height": null,
      "min_width": null,
      "object_fit": null,
      "object_position": null,
      "order": null,
      "overflow": null,
      "overflow_x": null,
      "overflow_y": null,
      "padding": null,
      "right": null,
      "top": null,
      "visibility": null,
      "width": null
     }
    },
    "56ab44a4c3d347b1a96bb591fb08e17e": {
     "model_module": "@jupyter-widgets/controls",
     "model_name": "HBoxModel",
     "state": {
      "_dom_classes": [],
      "_model_module": "@jupyter-widgets/controls",
      "_model_module_version": "1.5.0",
      "_model_name": "HBoxModel",
      "_view_count": null,
      "_view_module": "@jupyter-widgets/controls",
      "_view_module_version": "1.5.0",
      "_view_name": "HBoxView",
      "box_style": "",
      "children": [
       "IPY_MODEL_dbb88fb53c7e44e686339f0421229a8b",
       "IPY_MODEL_467ad53d8c73450d9f2fc03f378ed7ac"
      ],
      "layout": "IPY_MODEL_0eead78d14b142ddbb93a5165bd69f75"
     }
    },
    "59347b3e1d6c4638bb6c92431d7b049f": {
     "model_module": "@jupyter-widgets/controls",
     "model_name": "HBoxModel",
     "state": {
      "_dom_classes": [],
      "_model_module": "@jupyter-widgets/controls",
      "_model_module_version": "1.5.0",
      "_model_name": "HBoxModel",
      "_view_count": null,
      "_view_module": "@jupyter-widgets/controls",
      "_view_module_version": "1.5.0",
      "_view_name": "HBoxView",
      "box_style": "",
      "children": [
       "IPY_MODEL_1e16b47ba73a499896bb489ab0d96238",
       "IPY_MODEL_cae6a0ff01904701ac6662442971daf5"
      ],
      "layout": "IPY_MODEL_531f8dda29a24f5eb4b276a758187d13"
     }
    },
    "6078e74b66cb4192a586b3952552a7ce": {
     "model_module": "@jupyter-widgets/base",
     "model_name": "LayoutModel",
     "state": {
      "_model_module": "@jupyter-widgets/base",
      "_model_module_version": "1.2.0",
      "_model_name": "LayoutModel",
      "_view_count": null,
      "_view_module": "@jupyter-widgets/base",
      "_view_module_version": "1.2.0",
      "_view_name": "LayoutView",
      "align_content": null,
      "align_items": null,
      "align_self": null,
      "border": null,
      "bottom": null,
      "display": null,
      "flex": null,
      "flex_flow": null,
      "grid_area": null,
      "grid_auto_columns": null,
      "grid_auto_flow": null,
      "grid_auto_rows": null,
      "grid_column": null,
      "grid_gap": null,
      "grid_row": null,
      "grid_template_areas": null,
      "grid_template_columns": null,
      "grid_template_rows": null,
      "height": null,
      "justify_content": null,
      "justify_items": null,
      "left": null,
      "margin": null,
      "max_height": null,
      "max_width": null,
      "min_height": null,
      "min_width": null,
      "object_fit": null,
      "object_position": null,
      "order": null,
      "overflow": null,
      "overflow_x": null,
      "overflow_y": null,
      "padding": null,
      "right": null,
      "top": null,
      "visibility": null,
      "width": null
     }
    },
    "6199fa3b6c314ce7bafe21658cb8b0e7": {
     "model_module": "@jupyter-widgets/base",
     "model_name": "LayoutModel",
     "state": {
      "_model_module": "@jupyter-widgets/base",
      "_model_module_version": "1.2.0",
      "_model_name": "LayoutModel",
      "_view_count": null,
      "_view_module": "@jupyter-widgets/base",
      "_view_module_version": "1.2.0",
      "_view_name": "LayoutView",
      "align_content": null,
      "align_items": null,
      "align_self": null,
      "border": null,
      "bottom": null,
      "display": null,
      "flex": null,
      "flex_flow": null,
      "grid_area": null,
      "grid_auto_columns": null,
      "grid_auto_flow": null,
      "grid_auto_rows": null,
      "grid_column": null,
      "grid_gap": null,
      "grid_row": null,
      "grid_template_areas": null,
      "grid_template_columns": null,
      "grid_template_rows": null,
      "height": null,
      "justify_content": null,
      "justify_items": null,
      "left": null,
      "margin": null,
      "max_height": null,
      "max_width": null,
      "min_height": null,
      "min_width": null,
      "object_fit": null,
      "object_position": null,
      "order": null,
      "overflow": null,
      "overflow_x": null,
      "overflow_y": null,
      "padding": null,
      "right": null,
      "top": null,
      "visibility": null,
      "width": null
     }
    },
    "74b9c11f84c241da8d2454556acd6d9a": {
     "model_module": "@jupyter-widgets/controls",
     "model_name": "ProgressStyleModel",
     "state": {
      "_model_module": "@jupyter-widgets/controls",
      "_model_module_version": "1.5.0",
      "_model_name": "ProgressStyleModel",
      "_view_count": null,
      "_view_module": "@jupyter-widgets/base",
      "_view_module_version": "1.2.0",
      "_view_name": "StyleView",
      "bar_color": null,
      "description_width": "initial"
     }
    },
    "7ef63a895ac54eb7afc79bfef52158b5": {
     "model_module": "@jupyter-widgets/base",
     "model_name": "LayoutModel",
     "state": {
      "_model_module": "@jupyter-widgets/base",
      "_model_module_version": "1.2.0",
      "_model_name": "LayoutModel",
      "_view_count": null,
      "_view_module": "@jupyter-widgets/base",
      "_view_module_version": "1.2.0",
      "_view_name": "LayoutView",
      "align_content": null,
      "align_items": null,
      "align_self": null,
      "border": null,
      "bottom": null,
      "display": null,
      "flex": null,
      "flex_flow": null,
      "grid_area": null,
      "grid_auto_columns": null,
      "grid_auto_flow": null,
      "grid_auto_rows": null,
      "grid_column": null,
      "grid_gap": null,
      "grid_row": null,
      "grid_template_areas": null,
      "grid_template_columns": null,
      "grid_template_rows": null,
      "height": null,
      "justify_content": null,
      "justify_items": null,
      "left": null,
      "margin": null,
      "max_height": null,
      "max_width": null,
      "min_height": null,
      "min_width": null,
      "object_fit": null,
      "object_position": null,
      "order": null,
      "overflow": null,
      "overflow_x": null,
      "overflow_y": null,
      "padding": null,
      "right": null,
      "top": null,
      "visibility": null,
      "width": null
     }
    },
    "88c9e1d50ac5446c85e8711a49a2f858": {
     "model_module": "@jupyter-widgets/controls",
     "model_name": "FloatProgressModel",
     "state": {
      "_dom_classes": [],
      "_model_module": "@jupyter-widgets/controls",
      "_model_module_version": "1.5.0",
      "_model_name": "FloatProgressModel",
      "_view_count": null,
      "_view_module": "@jupyter-widgets/controls",
      "_view_module_version": "1.5.0",
      "_view_name": "ProgressView",
      "bar_style": "success",
      "description": "Downloading: 100%",
      "description_tooltip": null,
      "layout": "IPY_MODEL_c966af3901e34893b5b1d049ad8321ce",
      "max": 440473133,
      "min": 0,
      "orientation": "horizontal",
      "style": "IPY_MODEL_74b9c11f84c241da8d2454556acd6d9a",
      "value": 440473133
     }
    },
    "8f9a21e4e1b94b0490c9bce5f6dc79c5": {
     "model_module": "@jupyter-widgets/controls",
     "model_name": "DescriptionStyleModel",
     "state": {
      "_model_module": "@jupyter-widgets/controls",
      "_model_module_version": "1.5.0",
      "_model_name": "DescriptionStyleModel",
      "_view_count": null,
      "_view_module": "@jupyter-widgets/base",
      "_view_module_version": "1.2.0",
      "_view_name": "StyleView",
      "description_width": ""
     }
    },
    "a91406780bc54d6cbb38fee04218bcd7": {
     "model_module": "@jupyter-widgets/controls",
     "model_name": "DescriptionStyleModel",
     "state": {
      "_model_module": "@jupyter-widgets/controls",
      "_model_module_version": "1.5.0",
      "_model_name": "DescriptionStyleModel",
      "_view_count": null,
      "_view_module": "@jupyter-widgets/base",
      "_view_module_version": "1.2.0",
      "_view_name": "StyleView",
      "description_width": ""
     }
    },
    "b721e83322224bf59ca95861547b3334": {
     "model_module": "@jupyter-widgets/base",
     "model_name": "LayoutModel",
     "state": {
      "_model_module": "@jupyter-widgets/base",
      "_model_module_version": "1.2.0",
      "_model_name": "LayoutModel",
      "_view_count": null,
      "_view_module": "@jupyter-widgets/base",
      "_view_module_version": "1.2.0",
      "_view_name": "LayoutView",
      "align_content": null,
      "align_items": null,
      "align_self": null,
      "border": null,
      "bottom": null,
      "display": null,
      "flex": null,
      "flex_flow": null,
      "grid_area": null,
      "grid_auto_columns": null,
      "grid_auto_flow": null,
      "grid_auto_rows": null,
      "grid_column": null,
      "grid_gap": null,
      "grid_row": null,
      "grid_template_areas": null,
      "grid_template_columns": null,
      "grid_template_rows": null,
      "height": null,
      "justify_content": null,
      "justify_items": null,
      "left": null,
      "margin": null,
      "max_height": null,
      "max_width": null,
      "min_height": null,
      "min_width": null,
      "object_fit": null,
      "object_position": null,
      "order": null,
      "overflow": null,
      "overflow_x": null,
      "overflow_y": null,
      "padding": null,
      "right": null,
      "top": null,
      "visibility": null,
      "width": null
     }
    },
    "bb754357d8e742b8b44c51c8d7a5d8fe": {
     "model_module": "@jupyter-widgets/controls",
     "model_name": "DescriptionStyleModel",
     "state": {
      "_model_module": "@jupyter-widgets/controls",
      "_model_module_version": "1.5.0",
      "_model_name": "DescriptionStyleModel",
      "_view_count": null,
      "_view_module": "@jupyter-widgets/base",
      "_view_module_version": "1.2.0",
      "_view_name": "StyleView",
      "description_width": ""
     }
    },
    "c45f58bcd6ee40069381c671e3053c1a": {
     "model_module": "@jupyter-widgets/controls",
     "model_name": "HBoxModel",
     "state": {
      "_dom_classes": [],
      "_model_module": "@jupyter-widgets/controls",
      "_model_module_version": "1.5.0",
      "_model_name": "HBoxModel",
      "_view_count": null,
      "_view_module": "@jupyter-widgets/controls",
      "_view_module_version": "1.5.0",
      "_view_name": "HBoxView",
      "box_style": "",
      "children": [
       "IPY_MODEL_88c9e1d50ac5446c85e8711a49a2f858",
       "IPY_MODEL_e9726b3ccb904059bb98f06f772dda5d"
      ],
      "layout": "IPY_MODEL_df7eb20297da4c6b92e8dccb3e7a7a16"
     }
    },
    "c966af3901e34893b5b1d049ad8321ce": {
     "model_module": "@jupyter-widgets/base",
     "model_name": "LayoutModel",
     "state": {
      "_model_module": "@jupyter-widgets/base",
      "_model_module_version": "1.2.0",
      "_model_name": "LayoutModel",
      "_view_count": null,
      "_view_module": "@jupyter-widgets/base",
      "_view_module_version": "1.2.0",
      "_view_name": "LayoutView",
      "align_content": null,
      "align_items": null,
      "align_self": null,
      "border": null,
      "bottom": null,
      "display": null,
      "flex": null,
      "flex_flow": null,
      "grid_area": null,
      "grid_auto_columns": null,
      "grid_auto_flow": null,
      "grid_auto_rows": null,
      "grid_column": null,
      "grid_gap": null,
      "grid_row": null,
      "grid_template_areas": null,
      "grid_template_columns": null,
      "grid_template_rows": null,
      "height": null,
      "justify_content": null,
      "justify_items": null,
      "left": null,
      "margin": null,
      "max_height": null,
      "max_width": null,
      "min_height": null,
      "min_width": null,
      "object_fit": null,
      "object_position": null,
      "order": null,
      "overflow": null,
      "overflow_x": null,
      "overflow_y": null,
      "padding": null,
      "right": null,
      "top": null,
      "visibility": null,
      "width": null
     }
    },
    "cae6a0ff01904701ac6662442971daf5": {
     "model_module": "@jupyter-widgets/controls",
     "model_name": "HTMLModel",
     "state": {
      "_dom_classes": [],
      "_model_module": "@jupyter-widgets/controls",
      "_model_module_version": "1.5.0",
      "_model_name": "HTMLModel",
      "_view_count": null,
      "_view_module": "@jupyter-widgets/controls",
      "_view_module_version": "1.5.0",
      "_view_name": "HTMLView",
      "description": "",
      "description_tooltip": null,
      "layout": "IPY_MODEL_b721e83322224bf59ca95861547b3334",
      "placeholder": "​",
      "style": "IPY_MODEL_bb754357d8e742b8b44c51c8d7a5d8fe",
      "value": " 232k/232k [00:00&lt;00:00, 814kB/s]"
     }
    },
    "d824780dac524f7e88f9ef1b371506b1": {
     "model_module": "@jupyter-widgets/controls",
     "model_name": "ProgressStyleModel",
     "state": {
      "_model_module": "@jupyter-widgets/controls",
      "_model_module_version": "1.5.0",
      "_model_name": "ProgressStyleModel",
      "_view_count": null,
      "_view_module": "@jupyter-widgets/base",
      "_view_module_version": "1.2.0",
      "_view_name": "StyleView",
      "bar_color": null,
      "description_width": "initial"
     }
    },
    "dbb88fb53c7e44e686339f0421229a8b": {
     "model_module": "@jupyter-widgets/controls",
     "model_name": "FloatProgressModel",
     "state": {
      "_dom_classes": [],
      "_model_module": "@jupyter-widgets/controls",
      "_model_module_version": "1.5.0",
      "_model_name": "FloatProgressModel",
      "_view_count": null,
      "_view_module": "@jupyter-widgets/controls",
      "_view_module_version": "1.5.0",
      "_view_name": "ProgressView",
      "bar_style": "success",
      "description": "Downloading: 100%",
      "description_tooltip": null,
      "layout": "IPY_MODEL_6078e74b66cb4192a586b3952552a7ce",
      "max": 433,
      "min": 0,
      "orientation": "horizontal",
      "style": "IPY_MODEL_d824780dac524f7e88f9ef1b371506b1",
      "value": 433
     }
    },
    "df7eb20297da4c6b92e8dccb3e7a7a16": {
     "model_module": "@jupyter-widgets/base",
     "model_name": "LayoutModel",
     "state": {
      "_model_module": "@jupyter-widgets/base",
      "_model_module_version": "1.2.0",
      "_model_name": "LayoutModel",
      "_view_count": null,
      "_view_module": "@jupyter-widgets/base",
      "_view_module_version": "1.2.0",
      "_view_name": "LayoutView",
      "align_content": null,
      "align_items": null,
      "align_self": null,
      "border": null,
      "bottom": null,
      "display": null,
      "flex": null,
      "flex_flow": null,
      "grid_area": null,
      "grid_auto_columns": null,
      "grid_auto_flow": null,
      "grid_auto_rows": null,
      "grid_column": null,
      "grid_gap": null,
      "grid_row": null,
      "grid_template_areas": null,
      "grid_template_columns": null,
      "grid_template_rows": null,
      "height": null,
      "justify_content": null,
      "justify_items": null,
      "left": null,
      "margin": null,
      "max_height": null,
      "max_width": null,
      "min_height": null,
      "min_width": null,
      "object_fit": null,
      "object_position": null,
      "order": null,
      "overflow": null,
      "overflow_x": null,
      "overflow_y": null,
      "padding": null,
      "right": null,
      "top": null,
      "visibility": null,
      "width": null
     }
    },
    "e9726b3ccb904059bb98f06f772dda5d": {
     "model_module": "@jupyter-widgets/controls",
     "model_name": "HTMLModel",
     "state": {
      "_dom_classes": [],
      "_model_module": "@jupyter-widgets/controls",
      "_model_module_version": "1.5.0",
      "_model_name": "HTMLModel",
      "_view_count": null,
      "_view_module": "@jupyter-widgets/controls",
      "_view_module_version": "1.5.0",
      "_view_name": "HTMLView",
      "description": "",
      "description_tooltip": null,
      "layout": "IPY_MODEL_7ef63a895ac54eb7afc79bfef52158b5",
      "placeholder": "​",
      "style": "IPY_MODEL_a91406780bc54d6cbb38fee04218bcd7",
      "value": " 440M/440M [03:10&lt;00:00, 2.32MB/s]"
     }
    },
    "efa06806861e455f9c869a737723d370": {
     "model_module": "@jupyter-widgets/base",
     "model_name": "LayoutModel",
     "state": {
      "_model_module": "@jupyter-widgets/base",
      "_model_module_version": "1.2.0",
      "_model_name": "LayoutModel",
      "_view_count": null,
      "_view_module": "@jupyter-widgets/base",
      "_view_module_version": "1.2.0",
      "_view_name": "LayoutView",
      "align_content": null,
      "align_items": null,
      "align_self": null,
      "border": null,
      "bottom": null,
      "display": null,
      "flex": null,
      "flex_flow": null,
      "grid_area": null,
      "grid_auto_columns": null,
      "grid_auto_flow": null,
      "grid_auto_rows": null,
      "grid_column": null,
      "grid_gap": null,
      "grid_row": null,
      "grid_template_areas": null,
      "grid_template_columns": null,
      "grid_template_rows": null,
      "height": null,
      "justify_content": null,
      "justify_items": null,
      "left": null,
      "margin": null,
      "max_height": null,
      "max_width": null,
      "min_height": null,
      "min_width": null,
      "object_fit": null,
      "object_position": null,
      "order": null,
      "overflow": null,
      "overflow_x": null,
      "overflow_y": null,
      "padding": null,
      "right": null,
      "top": null,
      "visibility": null,
      "width": null
     }
    }
   }
  }
 },
 "nbformat": 4,
 "nbformat_minor": 4
}
