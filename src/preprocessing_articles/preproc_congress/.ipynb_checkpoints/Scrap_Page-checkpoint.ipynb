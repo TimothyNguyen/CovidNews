{
 "cells": [
  {
   "cell_type": "code",
   "execution_count": 3,
   "metadata": {},
   "outputs": [],
   "source": [
    "# Imports\n",
    "import requests\n",
    "from bs4 import BeautifulSoup\n",
    "from gensim.summarization import summarize"
   ]
  },
  {
   "cell_type": "code",
   "execution_count": 4,
   "metadata": {},
   "outputs": [],
   "source": [
    "# Retrieve page text\n",
    "url = 'https://timryan.house.gov/media/press-releases/congressman-tim-ryan-calls-senate-act-emergency-covid-19-funding-postal-service'\n",
    "page = requests.get(url).text"
   ]
  },
  {
   "cell_type": "code",
   "execution_count": 5,
   "metadata": {},
   "outputs": [],
   "source": [
    "# Turn page into BeautifulSoup object to access HTML tags\n",
    "soup = BeautifulSoup(page)"
   ]
  },
  {
   "cell_type": "code",
   "execution_count": 6,
   "metadata": {},
   "outputs": [
    {
     "name": "stdout",
     "output_type": "stream",
     "text": [
      "Congressman Tim Ryan Calls on Senate to Act on Emergency COVID-19 Funding for Postal Service\n"
     ]
    }
   ],
   "source": [
    "# Get headline\n",
    "headline = soup.find('h1').get_text()\n",
    "print(headline)"
   ]
  },
  {
   "cell_type": "code",
   "execution_count": 7,
   "metadata": {},
   "outputs": [
    {
     "data": {
      "text/plain": [
       "['Washington, DC – Congressman Tim Ryan (OH-13) joined 137 of his House colleagues in a bipartisan letter to Senate leadership urging them to pass legislation providing $25 billion in emergency grants to the United States Postal Service (USPS). The funding is needed to offset USPS revenue losses as a result of COVID-19, which are now expected to total $22 billion over the next 18 months and could force the postal service, an agency that serves all Americans, to close.',\n",
       " '“The US Postal Service (USPS) is an iconic institution in American history and continues to serve virtually every American with reliable and essential services,”\\xa0said Congressman Tim Ryan. “I urge the Senate and the President to do the right thing and help us pass legislation to ensure a stable financial future for the US Postal Service.”',\n",
       " '“The USPS represents what is best about America. It is one of the largest employers of veterans, boasts a diverse workforce, and handles 48 percent of the world’s mail. If Congress is unable to preserve this critical institution, it will severely impact our way of life, including putting the health and safety of older Americans at risk and disenfranchising millions of voters who are unable to vote in person,”\\xa0wrote the lawmakers\\xa0in their letter.',\n",
       " 'The Heroes Act, which passed the House on May 15, included $25 billion in emergency appropriations to help the USPS keep its doors open.',\n",
       " 'See the full text of their letter below:',\n",
       " 'Dear Leader McConnell and Leader Schumer,',\n",
       " 'Thank you for working with the House of Representative to address the novel coronavirus (COVID-19) crisis. While our work on the Families First Coronavirus Response Act and the CARES Act is providing relief to many working families and businesses, those legislative packages did not adequately address the financial hardship this crisis has caused for the United States Postal Service (USPS).',\n",
       " 'As COVID-19 relief discussions continue with the House of Representatives and the White House, we urge you to provide $25 billion in emergency grants to the USPS to offset COVID-19 revenue losses and allow improved access to borrowing authority from the Department of the Treasury. Support for the USPS is urgent and bipartisan. This request is consistent with the funding needs expressed by the bipartisan USPS Board of Governors.',\n",
       " 'According to the Postmaster General, the USPS is now expecting $22 billion in revenue losses over the next 18 months and could be forced to cease operations. This result would be devastating to all Americans who depend on the USPS to deliver everything from lifesaving medications, to stimulus checks, to the essential goods and services on which our small businesses rely. The Constitution empowers the federal government to provide a working postal system, and as Members of Congress, we take that responsibility seriously.',\n",
       " 'The USPS represents what is best about America. It is one of the largest employers of veterans, boasts a diverse workforce, and handles 48 percent of the world’s mail. If Congress is unable to preserve this critical institution, it will severely impact our way of life, including putting the health and safety of older Americans at risk and disenfranchising millions of voters who are unable to vote in person.',\n",
       " 'We look forward to working with you in a bipartisan manner to deliver relief to the USPS as soon as possible.',\n",
       " 'Sincerely,',\n",
       " '###',\n",
       " 'Phone: (202) 225-5261\\n\\tFax: (202) 225-3719',\n",
       " 'Phone: (330) 630-7311\\n\\tFax: (330) 630-7314',\n",
       " 'Phone: 800-856-4152 or 330-373-0074\\n\\tFax: 330-373-0098',\n",
       " 'Phone: (330) 740-0193\\n\\tFax: (330) 740-0182']"
      ]
     },
     "execution_count": 7,
     "metadata": {},
     "output_type": "execute_result"
    }
   ],
   "source": [
    "# Get text from all <p> tags.\n",
    "p_tags = soup.find_all('p')\n",
    "# Get the text from each of the \"p\" tags and strip surrounding whitespace.\n",
    "p_tags_text = [tag.get_text().strip() for tag in p_tags]\n",
    "p_tags_text"
   ]
  },
  {
   "cell_type": "code",
   "execution_count": 8,
   "metadata": {},
   "outputs": [
    {
     "data": {
      "text/plain": [
       "['Washington, DC – Congressman Tim Ryan (OH-13) joined 137 of his House colleagues in a bipartisan letter to Senate leadership urging them to pass legislation providing $25 billion in emergency grants to the United States Postal Service (USPS). The funding is needed to offset USPS revenue losses as a result of COVID-19, which are now expected to total $22 billion over the next 18 months and could force the postal service, an agency that serves all Americans, to close.',\n",
       " '“The US Postal Service (USPS) is an iconic institution in American history and continues to serve virtually every American with reliable and essential services,”\\xa0said Congressman Tim Ryan. “I urge the Senate and the President to do the right thing and help us pass legislation to ensure a stable financial future for the US Postal Service.”',\n",
       " '“The USPS represents what is best about America. It is one of the largest employers of veterans, boasts a diverse workforce, and handles 48 percent of the world’s mail. If Congress is unable to preserve this critical institution, it will severely impact our way of life, including putting the health and safety of older Americans at risk and disenfranchising millions of voters who are unable to vote in person,”\\xa0wrote the lawmakers\\xa0in their letter.',\n",
       " 'The Heroes Act, which passed the House on May 15, included $25 billion in emergency appropriations to help the USPS keep its doors open.',\n",
       " 'Thank you for working with the House of Representative to address the novel coronavirus (COVID-19) crisis. While our work on the Families First Coronavirus Response Act and the CARES Act is providing relief to many working families and businesses, those legislative packages did not adequately address the financial hardship this crisis has caused for the United States Postal Service (USPS).',\n",
       " 'As COVID-19 relief discussions continue with the House of Representatives and the White House, we urge you to provide $25 billion in emergency grants to the USPS to offset COVID-19 revenue losses and allow improved access to borrowing authority from the Department of the Treasury. Support for the USPS is urgent and bipartisan. This request is consistent with the funding needs expressed by the bipartisan USPS Board of Governors.',\n",
       " 'According to the Postmaster General, the USPS is now expecting $22 billion in revenue losses over the next 18 months and could be forced to cease operations. This result would be devastating to all Americans who depend on the USPS to deliver everything from lifesaving medications, to stimulus checks, to the essential goods and services on which our small businesses rely. The Constitution empowers the federal government to provide a working postal system, and as Members of Congress, we take that responsibility seriously.',\n",
       " 'The USPS represents what is best about America. It is one of the largest employers of veterans, boasts a diverse workforce, and handles 48 percent of the world’s mail. If Congress is unable to preserve this critical institution, it will severely impact our way of life, including putting the health and safety of older Americans at risk and disenfranchising millions of voters who are unable to vote in person.',\n",
       " 'We look forward to working with you in a bipartisan manner to deliver relief to the USPS as soon as possible.']"
      ]
     },
     "execution_count": 8,
     "metadata": {},
     "output_type": "execute_result"
    }
   ],
   "source": [
    "# Filter out sentences that contain newline characters '\\n' or don't contain periods.\n",
    "sentence_list = [sentence for sentence in p_tags_text if not '\\n' in sentence]\n",
    "sentence_list = [sentence for sentence in sentence_list if '.' in sentence]\n",
    "sentence_list"
   ]
  },
  {
   "cell_type": "code",
   "execution_count": 9,
   "metadata": {},
   "outputs": [],
   "source": [
    "# Combine list items into string.\n",
    "article = ' '.join(sentence_list)"
   ]
  },
  {
   "cell_type": "code",
   "execution_count": 10,
   "metadata": {},
   "outputs": [],
   "source": [
    "summary = summarize(article, ratio=0.3)"
   ]
  },
  {
   "cell_type": "code",
   "execution_count": 11,
   "metadata": {},
   "outputs": [
    {
     "name": "stdout",
     "output_type": "stream",
     "text": [
      "Length of original article: 3270\n",
      "Length of summary: 1238 \n",
      "\n",
      "Headline: Congressman Tim Ryan Calls on Senate to Act on Emergency COVID-19 Funding for Postal Service \n",
      "\n",
      "Article Summary:\n",
      "Washington, DC – Congressman Tim Ryan (OH-13) joined 137 of his House colleagues in a bipartisan letter to Senate leadership urging them to pass legislation providing $25 billion in emergency grants to the United States Postal Service (USPS).\n",
      "The funding is needed to offset USPS revenue losses as a result of COVID-19, which are now expected to total $22 billion over the next 18 months and could force the postal service, an agency that serves all Americans, to close.\n",
      "“I urge the Senate and the President to do the right thing and help us pass legislation to ensure a stable financial future for the US Postal Service.” “The USPS represents what is best about America.\n",
      "If Congress is unable to preserve this critical institution, it will severely impact our way of life, including putting the health and safety of older Americans at risk and disenfranchising millions of voters who are unable to vote in person,” wrote the lawmakers in their letter.\n",
      "While our work on the Families First Coronavirus Response Act and the CARES Act is providing relief to many working families and businesses, those legislative packages did not adequately address the financial hardship this crisis has caused for the United States Postal Service (USPS).\n"
     ]
    }
   ],
   "source": [
    "print(f'Length of original article: {len(article)}')\n",
    "print(f'Length of summary: {len(summary)} \\n')\n",
    "print(f'Headline: {headline} \\n')\n",
    "print(f'Article Summary:\\n{summary}')"
   ]
  },
  {
   "cell_type": "code",
   "execution_count": null,
   "metadata": {},
   "outputs": [],
   "source": []
  }
 ],
 "metadata": {
  "kernelspec": {
   "display_name": "Python 3",
   "language": "python",
   "name": "python3"
  },
  "language_info": {
   "codemirror_mode": {
    "name": "ipython",
    "version": 3
   },
   "file_extension": ".py",
   "mimetype": "text/x-python",
   "name": "python",
   "nbconvert_exporter": "python",
   "pygments_lexer": "ipython3",
   "version": "3.7.6"
  }
 },
 "nbformat": 4,
 "nbformat_minor": 4
}
