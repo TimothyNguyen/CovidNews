{
 "cells": [
  {
   "cell_type": "code",
   "execution_count": 115,
   "metadata": {},
   "outputs": [
    {
     "name": "stdout",
     "output_type": "stream",
     "text": [
      "Requirement already satisfied: GetOldTweets3 in c:\\users\\quynh\\anaconda3\\lib\\site-packages (0.0.11)\n",
      "Requirement already satisfied: pyquery>=1.2.10 in c:\\users\\quynh\\anaconda3\\lib\\site-packages (from GetOldTweets3) (1.4.1)\n",
      "Requirement already satisfied: lxml>=3.5.0 in c:\\users\\quynh\\anaconda3\\lib\\site-packages (from GetOldTweets3) (4.5.0)\n",
      "Requirement already satisfied: cssselect>0.7.9 in c:\\users\\quynh\\anaconda3\\lib\\site-packages (from pyquery>=1.2.10->GetOldTweets3) (1.1.0)\n"
     ]
    }
   ],
   "source": [
    "!pip install GetOldTweets3"
   ]
  },
  {
   "cell_type": "code",
   "execution_count": 116,
   "metadata": {},
   "outputs": [
    {
     "data": {
      "text/html": [
       "<div>\n",
       "<style scoped>\n",
       "    .dataframe tbody tr th:only-of-type {\n",
       "        vertical-align: middle;\n",
       "    }\n",
       "\n",
       "    .dataframe tbody tr th {\n",
       "        vertical-align: top;\n",
       "    }\n",
       "\n",
       "    .dataframe thead th {\n",
       "        text-align: right;\n",
       "    }\n",
       "</style>\n",
       "<table border=\"1\" class=\"dataframe\">\n",
       "  <thead>\n",
       "    <tr style=\"text-align: right;\">\n",
       "      <th></th>\n",
       "      <th>name</th>\n",
       "      <th>twitter</th>\n",
       "      <th>party</th>\n",
       "    </tr>\n",
       "  </thead>\n",
       "  <tbody>\n",
       "    <tr>\n",
       "      <th>0</th>\n",
       "      <td>Sherrod Brown</td>\n",
       "      <td>SenSherrodBrown</td>\n",
       "      <td>Democrat</td>\n",
       "    </tr>\n",
       "    <tr>\n",
       "      <th>1</th>\n",
       "      <td>Maria Cantwell</td>\n",
       "      <td>SenatorCantwell</td>\n",
       "      <td>Democrat</td>\n",
       "    </tr>\n",
       "    <tr>\n",
       "      <th>2</th>\n",
       "      <td>Benjamin L. Cardin</td>\n",
       "      <td>SenatorCardin</td>\n",
       "      <td>Democrat</td>\n",
       "    </tr>\n",
       "    <tr>\n",
       "      <th>3</th>\n",
       "      <td>Thomas R. Carper</td>\n",
       "      <td>SenatorCarper</td>\n",
       "      <td>Democrat</td>\n",
       "    </tr>\n",
       "    <tr>\n",
       "      <th>4</th>\n",
       "      <td>Robert P. Casey, Jr.</td>\n",
       "      <td>SenBobCasey</td>\n",
       "      <td>Democrat</td>\n",
       "    </tr>\n",
       "  </tbody>\n",
       "</table>\n",
       "</div>"
      ],
      "text/plain": [
       "                   name          twitter     party\n",
       "0         Sherrod Brown  SenSherrodBrown  Democrat\n",
       "1        Maria Cantwell  SenatorCantwell  Democrat\n",
       "2    Benjamin L. Cardin    SenatorCardin  Democrat\n",
       "3      Thomas R. Carper    SenatorCarper  Democrat\n",
       "4  Robert P. Casey, Jr.      SenBobCasey  Democrat"
      ]
     },
     "execution_count": 116,
     "metadata": {},
     "output_type": "execute_result"
    }
   ],
   "source": [
    "from pandas import DataFrame, read_csv\n",
    "import pandas as pd \n",
    "twitter_url_reps = r'reps.csv'\n",
    "pd.set_option('mode.chained_assignment', None)\n",
    "acc_df = pd.read_csv(twitter_url_reps)\n",
    "df2 = acc_df[['name', 'twitter', 'party']]\n",
    "df2.head()"
   ]
  },
  {
   "cell_type": "code",
   "execution_count": 117,
   "metadata": {},
   "outputs": [],
   "source": [
    "import pandas as pd\n",
    "df = pd.read_csv(\"./tweets/tweets.csv\")"
   ]
  },
  {
   "cell_type": "code",
   "execution_count": 118,
   "metadata": {},
   "outputs": [
    {
     "data": {
      "text/html": [
       "<div>\n",
       "<style scoped>\n",
       "    .dataframe tbody tr th:only-of-type {\n",
       "        vertical-align: middle;\n",
       "    }\n",
       "\n",
       "    .dataframe tbody tr th {\n",
       "        vertical-align: top;\n",
       "    }\n",
       "\n",
       "    .dataframe thead th {\n",
       "        text-align: right;\n",
       "    }\n",
       "</style>\n",
       "<table border=\"1\" class=\"dataframe\">\n",
       "  <thead>\n",
       "    <tr style=\"text-align: right;\">\n",
       "      <th></th>\n",
       "      <th>Unnamed: 0</th>\n",
       "      <th>name</th>\n",
       "      <th>twitter</th>\n",
       "      <th>party</th>\n",
       "      <th>tweet</th>\n",
       "      <th>tweet_published</th>\n",
       "    </tr>\n",
       "  </thead>\n",
       "  <tbody>\n",
       "    <tr>\n",
       "      <th>0</th>\n",
       "      <td>0</td>\n",
       "      <td>Sherrod Brown</td>\n",
       "      <td>SenSherrodBrown</td>\n",
       "      <td>Democrat</td>\n",
       "      <td>This year, #WorkersMemorialDay is particularly...</td>\n",
       "      <td>2020-04-28</td>\n",
       "    </tr>\n",
       "    <tr>\n",
       "      <th>1</th>\n",
       "      <td>1</td>\n",
       "      <td>Sherrod Brown</td>\n",
       "      <td>SenSherrodBrown</td>\n",
       "      <td>Democrat</td>\n",
       "      <td>Without the #ACA, health insurers could discri...</td>\n",
       "      <td>2020-03-23</td>\n",
       "    </tr>\n",
       "    <tr>\n",
       "      <th>2</th>\n",
       "      <td>2</td>\n",
       "      <td>Sherrod Brown</td>\n",
       "      <td>SenSherrodBrown</td>\n",
       "      <td>Democrat</td>\n",
       "      <td>Just voted to send more than 15 million in eme...</td>\n",
       "      <td>2020-03-05</td>\n",
       "    </tr>\n",
       "    <tr>\n",
       "      <th>3</th>\n",
       "      <td>3</td>\n",
       "      <td>Sherrod Brown</td>\n",
       "      <td>SenSherrodBrown</td>\n",
       "      <td>Democrat</td>\n",
       "      <td>Mitch McConnell has wasted four days in the mi...</td>\n",
       "      <td>2020-03-17</td>\n",
       "    </tr>\n",
       "    <tr>\n",
       "      <th>4</th>\n",
       "      <td>4</td>\n",
       "      <td>Sherrod Brown</td>\n",
       "      <td>SenSherrodBrown</td>\n",
       "      <td>Democrat</td>\n",
       "      <td>TUNE IN: At 12:25 PM, I'm going Live with my f...</td>\n",
       "      <td>2020-05-21</td>\n",
       "    </tr>\n",
       "  </tbody>\n",
       "</table>\n",
       "</div>"
      ],
      "text/plain": [
       "   Unnamed: 0           name          twitter     party  \\\n",
       "0           0  Sherrod Brown  SenSherrodBrown  Democrat   \n",
       "1           1  Sherrod Brown  SenSherrodBrown  Democrat   \n",
       "2           2  Sherrod Brown  SenSherrodBrown  Democrat   \n",
       "3           3  Sherrod Brown  SenSherrodBrown  Democrat   \n",
       "4           4  Sherrod Brown  SenSherrodBrown  Democrat   \n",
       "\n",
       "                                               tweet tweet_published  \n",
       "0  This year, #WorkersMemorialDay is particularly...      2020-04-28  \n",
       "1  Without the #ACA, health insurers could discri...      2020-03-23  \n",
       "2  Just voted to send more than 15 million in eme...      2020-03-05  \n",
       "3  Mitch McConnell has wasted four days in the mi...      2020-03-17  \n",
       "4  TUNE IN: At 12:25 PM, I'm going Live with my f...      2020-05-21  "
      ]
     },
     "execution_count": 118,
     "metadata": {},
     "output_type": "execute_result"
    }
   ],
   "source": [
    "df.head()"
   ]
  },
  {
   "cell_type": "code",
   "execution_count": 119,
   "metadata": {},
   "outputs": [
    {
     "name": "stdout",
     "output_type": "stream",
     "text": [
      "21234\n",
      "42820\n"
     ]
    }
   ],
   "source": [
    "dem_tweets = [x for i,x in df.iterrows() if x[\"party\"] == \"Democrat\"]\n",
    "rep_tweets = [x for i,x in df.iterrows() if x[\"party\"] == \"Republican\"]\n",
    "print(len(rep_tweets))\n",
    "print(len(dem_tweets))"
   ]
  },
  {
   "cell_type": "code",
   "execution_count": 120,
   "metadata": {},
   "outputs": [
    {
     "name": "stdout",
     "output_type": "stream",
     "text": [
      "Requirement already satisfied: num2words in c:\\users\\quynh\\anaconda3\\lib\\site-packages (0.5.10)\n",
      "Requirement already satisfied: docopt>=0.6.2 in c:\\users\\quynh\\anaconda3\\lib\\site-packages (from num2words) (0.6.2)\n"
     ]
    }
   ],
   "source": [
    "!pip install num2words"
   ]
  },
  {
   "cell_type": "code",
   "execution_count": 121,
   "metadata": {},
   "outputs": [
    {
     "name": "stderr",
     "output_type": "stream",
     "text": [
      "[nltk_data] Downloading package stopwords to\n",
      "[nltk_data]     C:\\Users\\quynh\\AppData\\Roaming\\nltk_data...\n",
      "[nltk_data]   Package stopwords is already up-to-date!\n",
      "[nltk_data] Downloading package punkt to\n",
      "[nltk_data]     C:\\Users\\quynh\\AppData\\Roaming\\nltk_data...\n",
      "[nltk_data]   Package punkt is already up-to-date!\n",
      "[nltk_data] Downloading package wordnet to\n",
      "[nltk_data]     C:\\Users\\quynh\\AppData\\Roaming\\nltk_data...\n",
      "[nltk_data]   Package wordnet is already up-to-date!\n"
     ]
    },
    {
     "data": {
      "text/plain": [
       "True"
      ]
     },
     "execution_count": 121,
     "metadata": {},
     "output_type": "execute_result"
    }
   ],
   "source": [
    "import pandas as pd\n",
    "import string\n",
    "import nltk\n",
    "from nltk.corpus import stopwords\n",
    "from nltk.stem import WordNetLemmatizer\n",
    "from collections import Counter\n",
    "import numpy as np\n",
    "import math\n",
    "from sklearn.metrics import confusion_matrix,accuracy_score,classification_report\n",
    "nltk.download('stopwords')\n",
    "nltk.download('punkt')\n",
    "nltk.download('wordnet')"
   ]
  },
  {
   "cell_type": "code",
   "execution_count": 122,
   "metadata": {},
   "outputs": [],
   "source": [
    "df = df[df.party != 'Independent']\n",
    "democrat_tweets_df = df[df.party == 'Democrat']\n",
    "republican_tweets_df = df[df.party == 'Republican']\n",
    "democrat_tweets_df = democrat_tweets_df.sample(frac = 0.5)\n",
    "# df = democrat_tweets_df + republican_tweets_df"
   ]
  },
  {
   "cell_type": "code",
   "execution_count": 123,
   "metadata": {},
   "outputs": [],
   "source": [
    "republican_tweets_df.drop(['Unnamed: 0'],  axis=1, inplace=True)\n",
    "democrat_tweets_df.drop(['Unnamed: 0'],  axis=1, inplace=True)"
   ]
  },
  {
   "cell_type": "code",
   "execution_count": 124,
   "metadata": {},
   "outputs": [],
   "source": [
    "frames = [democrat_tweets_df, republican_tweets_df]\n",
    "df = pd.concat(frames)"
   ]
  },
  {
   "cell_type": "code",
   "execution_count": 125,
   "metadata": {},
   "outputs": [
    {
     "name": "stdout",
     "output_type": "stream",
     "text": [
      "Counter({'Democrat': 21410, 'Republican': 21234})\n"
     ]
    },
    {
     "data": {
      "image/png": "[encoded data removed]",
      "text/plain": [
       "<Figure size 432x288 with 1 Axes>"
      ]
     },
     "metadata": {
      "needs_background": "light"
     },
     "output_type": "display_data"
    }
   ],
   "source": [
    "import seaborn as sns\n",
    "def plot_count(data):\n",
    "    y = Counter(data)\n",
    "    print(y)\n",
    "    sns.countplot(data)\n",
    "plot_count(df['party'])"
   ]
  },
  {
   "cell_type": "markdown",
   "metadata": {},
   "source": [
    "# Split the dataset "
   ]
  },
  {
   "cell_type": "code",
   "execution_count": 126,
   "metadata": {},
   "outputs": [],
   "source": [
    "from sklearn.model_selection import train_test_split\n",
    "from sklearn.metrics import f1_score,classification_report,accuracy_score"
   ]
  },
  {
   "cell_type": "code",
   "execution_count": 127,
   "metadata": {},
   "outputs": [],
   "source": [
    "X_train, X_test, Y_train, Y_test = train_test_split(df['tweet'], df['party'], test_size = 0.25, random_state = 42, stratify=df['party'])"
   ]
  },
  {
   "cell_type": "markdown",
   "metadata": {},
   "source": [
    "# Doing some work with feature selection"
   ]
  },
  {
   "cell_type": "code",
   "execution_count": 128,
   "metadata": {},
   "outputs": [],
   "source": [
    "class_label={'Democrat':0,'Republican':1}\n",
    "reverse_class_label={0:'Democrat',1:'Republican'} \n",
    "def table_creation(X_train,Y_train):\n",
    "  table={}             # will contain the article count of a term in a class\n",
    "  term_count_in_class={}         # will contain the term count in a class\n",
    "  class_doc_count=np.array([0,0])  # number of articles in a class\n",
    "  class_word_count=np.array([0,0]) # number of words in a class\n",
    "  class_count=np.array([0,0])\n",
    "\n",
    "  for article,label in zip(X_train,Y_train):\n",
    "    #print(article)\n",
    "    class_doc_count[class_label[label]]+=1\n",
    "    class_word_count[class_label[label]]+=len(article)\n",
    "    unique_tokens={-1}\n",
    "    for term in article.split():\n",
    "      #print(term)\n",
    "      #term count in of each term in each class\n",
    "      if term not in term_count_in_class:\n",
    "        term_count_in_class[term]=class_count.copy()\n",
    "      term_count_in_class[term][class_label[label]]+=1\n",
    "      unique_tokens.add(term)\n",
    "    \n",
    "    #print(\"unique tokens in article are\",unique_tokens)\n",
    "    unique_tokens.remove(-1) \n",
    "\n",
    "    for term in unique_tokens:\n",
    "      if term not in table:\n",
    "        table[term]=class_count.copy()\n",
    "      table[term][class_label[label]]+=1\n",
    "  \n",
    "  return table, class_word_count, class_doc_count, term_count_in_class\n",
    "table, class_word_count, class_doc_count, term_count_in_class=table_creation(X_train,Y_train)"
   ]
  },
  {
   "cell_type": "code",
   "execution_count": 129,
   "metadata": {},
   "outputs": [],
   "source": [
    "table, class_word_count, class_doc_count, term_count_in_class=create_info(X_train,Y_train)"
   ]
  },
  {
   "cell_type": "code",
   "execution_count": 130,
   "metadata": {},
   "outputs": [
    {
     "name": "stdout",
     "output_type": "stream",
     "text": [
      "total number of articles are 31983.0\n"
     ]
    }
   ],
   "source": [
    "#to calculate mutual information for each term in each class\n",
    "def cal_mutual_info(table,class_word_count,class_doc_count):\n",
    "  N=0\n",
    "  for i in class_doc_count:\n",
    "    N+=i\n",
    "  print(\"total number of articles are\",N)\n",
    "  mi_table=[[],[],[],[]]  # five list to contain the mutual information for each class \n",
    "  for term in table:\n",
    "      #print(\"calculating mi for \",term,\" \",table[term])\n",
    "      for class_ in range(0,2):\n",
    "          #print(\"for class \",class_)\n",
    "          n11=table[term][class_]         # term is present in class\n",
    "          n10=np.sum(table[term])-n11        # term is present but not in the class\n",
    "          n01=class_doc_count[class_]-n11   # number of docs in class not having term \n",
    "          n00=N-(n01+n10+n11)                  # number of docs neither term nor class\n",
    "          #print(\"n11,n10,n01,n00 \",n11,n10,n01,n00)\n",
    "          \n",
    "          if n11==0:\n",
    "              t1=0\n",
    "          else:\n",
    "              t1=(n11/N) * ((np.log(N)+np.log(n11)) - (np.log(n11+n01) + np.log(n11+n10)))\n",
    "          if n01==0:\n",
    "              t2=0\n",
    "          else:\n",
    "              t2=(n01/N) * ((np.log(N)+np.log(n01)) - (np.log(n01+n00) + np.log(n01+n11)))\n",
    "          if n10==0:\n",
    "              t3=0\n",
    "          else:\n",
    "              t3=(n10/N) * ((np.log(N)+np.log(n10)) - (np.log(n10+n11) + np.log(n10+n00)))\n",
    "          if n00==0:\n",
    "              t4=0\n",
    "          else:\n",
    "              t4=(n00/N) * ((np.log(N)+np.log(n00)) - (np.log(n00+n01) + np.log(n00+n10)))\n",
    "          m=t1+t2+t3+t4\n",
    "          mi_table[class_].append(m)\n",
    "  return mi_table\n",
    "mi_table=cal_mutual_info(table,class_word_count, class_doc_count)\n",
    "\n",
    "\n",
    "\n",
    "#creating word map, each word is assigned a uniuqe id like we did for each document\n",
    "def create_word_map(list_of_words):\n",
    "    word_forward_map={}\n",
    "    word_reverse_map={}\n",
    "    count=0\n",
    "    for word in list_of_words:\n",
    "        word_forward_map[word] = count\n",
    "        count = count + 1\n",
    "    word_reverse_map = {v: k for k, v in word_forward_map.items()}\n",
    "    return word_forward_map,word_reverse_map\n",
    "word_forward_map,word_reverse_map=create_word_map(table.keys())\n",
    "\n",
    "\n",
    "\n",
    "#this method will select feaures for each class and returns new vocabulary\n",
    "def feature_selection(mi_table,k,word_forward_map,word_reverse_map):\n",
    "    top_k_words=[]\n",
    "    for class_id in range(0,2):\n",
    "        temp = np.argsort(np.array(mi_table[class_id]))\n",
    "        temp = temp[::-1]\n",
    "        top_k_words.append(temp[:k].copy())\n",
    "    \n",
    "    new_vocab={-1}\n",
    "    count=0\n",
    "    for list_of_words in top_k_words:\n",
    "        #print(list_of_words)\n",
    "        #print(\"for class \",count,\" top \",k,\" words are\")\n",
    "        for wordid in list_of_words:\n",
    "            #print(word_reverse_map[wordid])\n",
    "            new_vocab.add(word_reverse_map[wordid])\n",
    "        count=count+1\n",
    "        \n",
    "    new_vocab.remove(-1)\n",
    "    #print(new_vocab)\n",
    "    return top_k_words,new_vocab\n",
    "\n",
    "top_k_words,new_vocab=feature_selection(mi_table,200,word_forward_map,word_reverse_map)\n",
    "\n",
    "\n",
    "\n",
    "\n",
    "\n",
    "\n",
    "\n",
    "#to calculate term and class probability \n",
    "def calculate_probability(new_vocab,term_count_in_class,class_word_count,class_doc_count):\n",
    "    term_probability={}\n",
    "    beta=len(new_vocab)\n",
    "    for word in new_vocab:\n",
    "      #print(word)\n",
    "      term_probability[word]=[]\n",
    "      for class_id in range(0,2):\n",
    "        tot=class_word_count[class_id]\n",
    "        #print(\"word count in class\",tot)\n",
    "        tc=term_count_in_class[word][class_id]\n",
    "        p=(tc+1)/(tot+beta)  #add one smoothening\n",
    "        term_probability[word].append(p)    \n",
    "    class_probability=[]\n",
    "    N=np.sum(class_doc_count)\n",
    "    #print(N)\n",
    "    for doc_count in class_doc_count:\n",
    "        class_probability.append(doc_count/N)\n",
    "    return class_probability,term_probability\n",
    "class_probability,term_probability=calculate_probability(new_vocab,term_count_in_class,class_word_count,class_doc_count)"
   ]
  },
  {
   "cell_type": "markdown",
   "metadata": {},
   "source": [
    "#### Doing Naive Bayes"
   ]
  },
  {
   "cell_type": "code",
   "execution_count": 131,
   "metadata": {},
   "outputs": [
    {
     "name": "stdout",
     "output_type": "stream",
     "text": [
      "Confusion Matrix :\n",
      "[[3584 1769]\n",
      " [3267 2041]]\n",
      "Accuracy Score : 0.5276240502767096\n",
      "Report : \n",
      "              precision    recall  f1-score   support\n",
      "\n",
      "    Democrat       0.52      0.67      0.59      5353\n",
      "  Republican       0.54      0.38      0.45      5308\n",
      "\n",
      "    accuracy                           0.53     10661\n",
      "   macro avg       0.53      0.53      0.52     10661\n",
      "weighted avg       0.53      0.53      0.52     10661\n",
      "\n"
     ]
    },
    {
     "data": {
      "text/plain": [
       "0.5276240502767096"
      ]
     },
     "execution_count": 131,
     "metadata": {},
     "output_type": "execute_result"
    }
   ],
   "source": [
    "def naive_bayes(new_vocab,term_probability,class_probability,X_test):\n",
    "    y_predicted=[]\n",
    "    for article in X_test:\n",
    "        max_score=-math.inf\n",
    "        score=0\n",
    "        result_class=-1                          #initially document belonging to none class\n",
    "        for class_id in range(0,2):\n",
    "            score=np.log(class_probability[class_id])\n",
    "            for word in article.split():\n",
    "                if word in new_vocab:\n",
    "                    score=score+np.log(term_probability[word][class_id])\n",
    "            #print(\"docid \",docid,\" class \",class_id,\" score \",score)\n",
    "            if score>max_score:\n",
    "                max_score=score\n",
    "                result_class=class_id\n",
    "        #result[docid]=result_class\n",
    "        y_predicted.append(reverse_class_label[result_class])       \n",
    "    return y_predicted          \n",
    "\n",
    "y_predicted=naive_bayes(new_vocab,term_probability,class_probability,X_test)\n",
    "def performance(y_actual,y_predicted):\n",
    "    results = confusion_matrix(y_actual, y_predicted)   \n",
    "    print ('Confusion Matrix :')\n",
    "    print(results) \n",
    "    print ('Accuracy Score :',accuracy_score(y_actual, y_predicted) )\n",
    "    print ('Report : ')\n",
    "    print (classification_report(y_actual, y_predicted) )\n",
    "    return accuracy_score(y_actual, y_predicted)\n",
    "\n",
    "performance(Y_test,y_predicted)"
   ]
  },
  {
   "cell_type": "markdown",
   "metadata": {},
   "source": [
    "### Doing Naive Bayes without Feature Selection"
   ]
  },
  {
   "cell_type": "code",
   "execution_count": 132,
   "metadata": {},
   "outputs": [
    {
     "name": "stdout",
     "output_type": "stream",
     "text": [
      "0.8235731846905489\n",
      "              precision    recall  f1-score   support\n",
      "\n",
      "    Democrat       0.81      0.84      0.83      5353\n",
      "  Republican       0.84      0.80      0.82      5308\n",
      "\n",
      "    accuracy                           0.82     10661\n",
      "   macro avg       0.82      0.82      0.82     10661\n",
      "weighted avg       0.82      0.82      0.82     10661\n",
      "\n",
      "0.8236563174186287\n"
     ]
    }
   ],
   "source": [
    "######NaiiveBayes without Feature Selection\n",
    "from sklearn.feature_extraction.text import CountVectorizer\n",
    "from sklearn.feature_extraction.text import TfidfTransformer\n",
    "from sklearn.naive_bayes import MultinomialNB\n",
    "\n",
    "Count=CountVectorizer()\n",
    "X_train_count=Count.fit_transform(X_train)\n",
    "X_test_count=Count.transform(X_test)\n",
    "\n",
    "Tf_idf=TfidfTransformer()\n",
    "X_train_tfidf=Tf_idf.fit_transform(X_train_count)\n",
    "X_test_tfidf=Tf_idf.transform(X_test_count)\n",
    "Classifier = MultinomialNB().fit(X_train_tfidf, Y_train)\n",
    "predicted = Classifier.predict(X_test_tfidf)\n",
    "\n",
    "\n",
    "print(f1_score(Y_test, predicted,average='weighted'))\n",
    "print(classification_report(Y_test,predicted))\n",
    "print(accuracy_score(Y_test,predicted))"
   ]
  },
  {
   "cell_type": "markdown",
   "metadata": {},
   "source": [
    "#### Doing SVM with Feature Selection"
   ]
  },
  {
   "cell_type": "code",
   "execution_count": null,
   "metadata": {},
   "outputs": [],
   "source": [
    "# SVM without feature Selection using different approaches:\n",
    "from sklearn.feature_extraction.text import TfidfVectorizer\n",
    "from sklearn.svm import SVC \n",
    "# SVM with feature selection\n",
    "def produce_count_vector(X_data,vocab,term_count_in_class):\n",
    "    data_count=[]\n",
    "    for index in X_data:\n",
    "        count_vector=[]\n",
    "        values=index.split(' ')\n",
    "        for word in vocab:\n",
    "            if word in values:\n",
    "                count_vector.append(values.count(word))\n",
    "            else:\n",
    "                count_vector.append(0)\n",
    "        data_count.append(count_vector)\n",
    "    return data_count\n",
    "\n",
    "X_train_count=produce_count_vector(X_train,new_vocab,term_count_in_class)\n",
    "X_test_count=produce_count_vector(X_test,new_vocab,term_count_in_class)\n",
    "\n",
    "\n",
    "from sklearn.feature_extraction.text import TfidfTransformer\n",
    "vector=TfidfTransformer()\n",
    "X_train_vector=vector.fit_transform(X_train_count)\n",
    "X_test_vector=vector.transform(X_test_count)\n",
    "classifier=SVC(verbose=True).fit(X_train_vector,Y_train)\n",
    "predicted=classifier.predict(X_test_vector)\n",
    "print(f1_score(Y_test,predicted,average='weighted'))\n",
    "print(classification_report(Y_test,predicted))\n",
    "print(accuracy_score(Y_test,predicted))"
   ]
  },
  {
   "cell_type": "markdown",
   "metadata": {},
   "source": [
    "### SVM Feature Selection"
   ]
  },
  {
   "cell_type": "code",
   "execution_count": null,
   "metadata": {},
   "outputs": [
    {
     "name": "stdout",
     "output_type": "stream",
     "text": [
      "For unigrams--------------------\n",
      "[LibSVM]"
     ]
    }
   ],
   "source": [
    "# SVM with tf-idf\n",
    "#1. tf-idf using n grams\n",
    "#a) unigram\n",
    "print(\"For unigrams--------------------\")\n",
    "vector=TfidfVectorizer(analyzer='word',ngram_range=(1,1))\n",
    "X_train_vector=vector.fit_transform(X_train)\n",
    "X_test_vector=vector.transform(X_test)\n",
    "classifier=SVC(verbose=True).fit(X_train_vector,Y_train)\n",
    "predicted=classifier.predict(X_test_vector)\n",
    "print(f1_score(Y_test,predicted,average='weighted'))\n",
    "print(classification_report(Y_test,predicted))\n",
    "print(accuracy_score(Y_test,predicted))\n",
    "\n",
    "\n",
    "print(\"For Bigrams----------------------\")\n",
    "#b) bigram\n",
    "vector=TfidfVectorizer(analyzer='word',ngram_range=(2,2))\n",
    "X_train_vector=vector.fit_transform(X_train)\n",
    "X_test_vector=vector.transform(X_test)\n",
    "classifier=SVC(verbose=True).fit(X_train_vector,Y_train)\n",
    "predicted=classifier.predict(X_test_vector)\n",
    "print(f1_score(Y_test,predicted,average='weighted'))\n",
    "print(classification_report(Y_test,predicted))\n",
    "print(accuracy_score(Y_test,predicted))"
   ]
  },
  {
   "cell_type": "code",
   "execution_count": null,
   "metadata": {},
   "outputs": [],
   "source": []
  }
 ],
 "metadata": {
  "kernelspec": {
   "display_name": "Python 3",
   "language": "python",
   "name": "python3"
  },
  "language_info": {
   "codemirror_mode": {
    "name": "ipython",
    "version": 3
   },
   "file_extension": ".py",
   "mimetype": "text/x-python",
   "name": "python",
   "nbconvert_exporter": "python",
   "pygments_lexer": "ipython3",
   "version": "3.7.6"
  }
 },
 "nbformat": 4,
 "nbformat_minor": 4
}
