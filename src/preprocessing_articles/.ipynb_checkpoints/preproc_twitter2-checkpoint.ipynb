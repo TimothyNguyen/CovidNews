{
 "cells": [
  {
   "cell_type": "markdown",
   "metadata": {},
   "source": [
    "#### Keywords to go through twitter api\n",
    "1. corona\n",
    "2. coronavirus\n",
    "3. covid\n",
    "4. covid-19\n",
    "5. epidemic\n",
    "6. pandemic\n",
    "7. outbreak\n",
    "8. flattening the curve\n",
    "9. quarantine\n",
    "10. Self-isolation\n",
    "11. Self-quarantine\n",
    "12. Fauci\n",
    "13. Lockdown\n",
    "14. Social distancing\n",
    "15. state of emergency\n",
    "16. shutdown\n",
    "17. hydroxychloroquine\n",
    "18. chinese virus"
   ]
  },
  {
   "cell_type": "code",
   "execution_count": 1,
   "metadata": {},
   "outputs": [
    {
     "name": "stdout",
     "output_type": "stream",
     "text": [
      "Requirement already satisfied: GetOldTweets3 in c:\\users\\quynh\\anaconda3\\lib\\site-packages (0.0.11)\n",
      "Requirement already satisfied: lxml>=3.5.0 in c:\\users\\quynh\\anaconda3\\lib\\site-packages (from GetOldTweets3) (4.5.0)\n",
      "Requirement already satisfied: pyquery>=1.2.10 in c:\\users\\quynh\\anaconda3\\lib\\site-packages (from GetOldTweets3) (1.4.1)\n",
      "Requirement already satisfied: cssselect>0.7.9 in c:\\users\\quynh\\anaconda3\\lib\\site-packages (from pyquery>=1.2.10->GetOldTweets3) (1.1.0)\n"
     ]
    }
   ],
   "source": [
    "!pip install GetOldTweets3"
   ]
  },
  {
   "cell_type": "code",
   "execution_count": 2,
   "metadata": {},
   "outputs": [
    {
     "data": {
      "text/html": [
       "<div>\n",
       "<style scoped>\n",
       "    .dataframe tbody tr th:only-of-type {\n",
       "        vertical-align: middle;\n",
       "    }\n",
       "\n",
       "    .dataframe tbody tr th {\n",
       "        vertical-align: top;\n",
       "    }\n",
       "\n",
       "    .dataframe thead th {\n",
       "        text-align: right;\n",
       "    }\n",
       "</style>\n",
       "<table border=\"1\" class=\"dataframe\">\n",
       "  <thead>\n",
       "    <tr style=\"text-align: right;\">\n",
       "      <th></th>\n",
       "      <th>name</th>\n",
       "      <th>twitter</th>\n",
       "      <th>party</th>\n",
       "    </tr>\n",
       "  </thead>\n",
       "  <tbody>\n",
       "    <tr>\n",
       "      <th>0</th>\n",
       "      <td>Sherrod Brown</td>\n",
       "      <td>SenSherrodBrown</td>\n",
       "      <td>Democrat</td>\n",
       "    </tr>\n",
       "    <tr>\n",
       "      <th>1</th>\n",
       "      <td>Maria Cantwell</td>\n",
       "      <td>SenatorCantwell</td>\n",
       "      <td>Democrat</td>\n",
       "    </tr>\n",
       "    <tr>\n",
       "      <th>2</th>\n",
       "      <td>Benjamin L. Cardin</td>\n",
       "      <td>SenatorCardin</td>\n",
       "      <td>Democrat</td>\n",
       "    </tr>\n",
       "    <tr>\n",
       "      <th>3</th>\n",
       "      <td>Thomas R. Carper</td>\n",
       "      <td>SenatorCarper</td>\n",
       "      <td>Democrat</td>\n",
       "    </tr>\n",
       "    <tr>\n",
       "      <th>4</th>\n",
       "      <td>Robert P. Casey, Jr.</td>\n",
       "      <td>SenBobCasey</td>\n",
       "      <td>Democrat</td>\n",
       "    </tr>\n",
       "  </tbody>\n",
       "</table>\n",
       "</div>"
      ],
      "text/plain": [
       "                   name          twitter     party\n",
       "0         Sherrod Brown  SenSherrodBrown  Democrat\n",
       "1        Maria Cantwell  SenatorCantwell  Democrat\n",
       "2    Benjamin L. Cardin    SenatorCardin  Democrat\n",
       "3      Thomas R. Carper    SenatorCarper  Democrat\n",
       "4  Robert P. Casey, Jr.      SenBobCasey  Democrat"
      ]
     },
     "execution_count": 2,
     "metadata": {},
     "output_type": "execute_result"
    }
   ],
   "source": [
    "from pandas import DataFrame, read_csv\n",
    "import pandas as pd \n",
    "twitter_url_reps = r'reps.csv'\n",
    "pd.set_option('mode.chained_assignment', None)\n",
    "df = pd.read_csv(twitter_url_reps)\n",
    "df2 = df[['name', 'twitter', 'party']]\n",
    "df2.head()"
   ]
  },
  {
   "cell_type": "code",
   "execution_count": 3,
   "metadata": {},
   "outputs": [
    {
     "name": "stdout",
     "output_type": "stream",
     "text": [
      "2020-06-20\n"
     ]
    }
   ],
   "source": [
    "from datetime import date\n",
    "today = date.today()\n",
    "# Month abbreviation, day and year\t\n",
    "today_date = today.strftime(\"%Y-%m-%d\")\n",
    "print(today_date)"
   ]
  },
  {
   "cell_type": "code",
   "execution_count": 5,
   "metadata": {},
   "outputs": [
    {
     "name": "stdout",
     "output_type": "stream",
     "text": [
      "SenSherrodBrown\n",
      "SenatorCantwell\n",
      "SenatorCardin\n",
      "SenatorCarper\n",
      "SenBobCasey\n"
     ]
    },
    {
     "data": {
      "text/html": [
       "<div>\n",
       "<style scoped>\n",
       "    .dataframe tbody tr th:only-of-type {\n",
       "        vertical-align: middle;\n",
       "    }\n",
       "\n",
       "    .dataframe tbody tr th {\n",
       "        vertical-align: top;\n",
       "    }\n",
       "\n",
       "    .dataframe thead th {\n",
       "        text-align: right;\n",
       "    }\n",
       "</style>\n",
       "<table border=\"1\" class=\"dataframe\">\n",
       "  <thead>\n",
       "    <tr style=\"text-align: right;\">\n",
       "      <th></th>\n",
       "      <th>name</th>\n",
       "      <th>twitter</th>\n",
       "      <th>party</th>\n",
       "      <th>tweet</th>\n",
       "      <th>tweet_published</th>\n",
       "    </tr>\n",
       "  </thead>\n",
       "  <tbody>\n",
       "    <tr>\n",
       "      <th>0</th>\n",
       "      <td>Sherrod Brown</td>\n",
       "      <td>SenSherrodBrown</td>\n",
       "      <td>Democrat</td>\n",
       "      <td>My plan calls for widespread testing, intensiv...</td>\n",
       "      <td>2020-05-21</td>\n",
       "    </tr>\n",
       "    <tr>\n",
       "      <th>1</th>\n",
       "      <td>Sherrod Brown</td>\n",
       "      <td>SenSherrodBrown</td>\n",
       "      <td>Democrat</td>\n",
       "      <td>This is dangerous. The President should not be...</td>\n",
       "      <td>2020-03-24</td>\n",
       "    </tr>\n",
       "    <tr>\n",
       "      <th>2</th>\n",
       "      <td>Sherrod Brown</td>\n",
       "      <td>SenSherrodBrown</td>\n",
       "      <td>Democrat</td>\n",
       "      <td>LIVE: @SenBooker and I discuss the best ways t...</td>\n",
       "      <td>2020-05-21</td>\n",
       "    </tr>\n",
       "    <tr>\n",
       "      <th>3</th>\n",
       "      <td>Sherrod Brown</td>\n",
       "      <td>SenSherrodBrown</td>\n",
       "      <td>Democrat</td>\n",
       "      <td>Thank you @SenWhitehouse for joining my daily ...</td>\n",
       "      <td>2020-04-27</td>\n",
       "    </tr>\n",
       "    <tr>\n",
       "      <th>4</th>\n",
       "      <td>Sherrod Brown</td>\n",
       "      <td>SenSherrodBrown</td>\n",
       "      <td>Democrat</td>\n",
       "      <td>NEW: I've released my requirements for a coron...</td>\n",
       "      <td>2020-03-19</td>\n",
       "    </tr>\n",
       "    <tr>\n",
       "      <th>...</th>\n",
       "      <td>...</td>\n",
       "      <td>...</td>\n",
       "      <td>...</td>\n",
       "      <td>...</td>\n",
       "      <td>...</td>\n",
       "    </tr>\n",
       "    <tr>\n",
       "      <th>697</th>\n",
       "      <td>Robert P. Casey, Jr.</td>\n",
       "      <td>SenBobCasey</td>\n",
       "      <td>Democrat</td>\n",
       "      <td>Republican politicians spent three years attac...</td>\n",
       "      <td>2020-03-22</td>\n",
       "    </tr>\n",
       "    <tr>\n",
       "      <th>698</th>\n",
       "      <td>Robert P. Casey, Jr.</td>\n",
       "      <td>SenBobCasey</td>\n",
       "      <td>Democrat</td>\n",
       "      <td>This year, because of COVID-19, moms across th...</td>\n",
       "      <td>2020-05-10</td>\n",
       "    </tr>\n",
       "    <tr>\n",
       "      <th>699</th>\n",
       "      <td>Robert P. Casey, Jr.</td>\n",
       "      <td>SenBobCasey</td>\n",
       "      <td>Democrat</td>\n",
       "      <td>Just one example: After fearing he had coronav...</td>\n",
       "      <td>2020-02-26</td>\n",
       "    </tr>\n",
       "    <tr>\n",
       "      <th>700</th>\n",
       "      <td>Robert P. Casey, Jr.</td>\n",
       "      <td>SenBobCasey</td>\n",
       "      <td>Democrat</td>\n",
       "      <td>HAPPENING SOON: I’m hosting a digital town hal...</td>\n",
       "      <td>2020-03-19</td>\n",
       "    </tr>\n",
       "    <tr>\n",
       "      <th>701</th>\n",
       "      <td>Robert P. Casey, Jr.</td>\n",
       "      <td>SenBobCasey</td>\n",
       "      <td>Democrat</td>\n",
       "      <td>I have a question for the President and his Re...</td>\n",
       "      <td>2020-05-01</td>\n",
       "    </tr>\n",
       "  </tbody>\n",
       "</table>\n",
       "<p>702 rows × 5 columns</p>\n",
       "</div>"
      ],
      "text/plain": [
       "                     name          twitter     party  \\\n",
       "0           Sherrod Brown  SenSherrodBrown  Democrat   \n",
       "1           Sherrod Brown  SenSherrodBrown  Democrat   \n",
       "2           Sherrod Brown  SenSherrodBrown  Democrat   \n",
       "3           Sherrod Brown  SenSherrodBrown  Democrat   \n",
       "4           Sherrod Brown  SenSherrodBrown  Democrat   \n",
       "..                    ...              ...       ...   \n",
       "697  Robert P. Casey, Jr.      SenBobCasey  Democrat   \n",
       "698  Robert P. Casey, Jr.      SenBobCasey  Democrat   \n",
       "699  Robert P. Casey, Jr.      SenBobCasey  Democrat   \n",
       "700  Robert P. Casey, Jr.      SenBobCasey  Democrat   \n",
       "701  Robert P. Casey, Jr.      SenBobCasey  Democrat   \n",
       "\n",
       "                                                 tweet tweet_published  \n",
       "0    My plan calls for widespread testing, intensiv...      2020-05-21  \n",
       "1    This is dangerous. The President should not be...      2020-03-24  \n",
       "2    LIVE: @SenBooker and I discuss the best ways t...      2020-05-21  \n",
       "3    Thank you @SenWhitehouse for joining my daily ...      2020-04-27  \n",
       "4    NEW: I've released my requirements for a coron...      2020-03-19  \n",
       "..                                                 ...             ...  \n",
       "697  Republican politicians spent three years attac...      2020-03-22  \n",
       "698  This year, because of COVID-19, moms across th...      2020-05-10  \n",
       "699  Just one example: After fearing he had coronav...      2020-02-26  \n",
       "700  HAPPENING SOON: I’m hosting a digital town hal...      2020-03-19  \n",
       "701  I have a question for the President and his Re...      2020-05-01  \n",
       "\n",
       "[702 rows x 5 columns]"
      ]
     },
     "execution_count": 5,
     "metadata": {},
     "output_type": "execute_result"
    }
   ],
   "source": [
    "keywords = ['virus', 'coronavirus', 'corona', 'covid', 'covid-19', 'pandemic', 'outbreak',\n",
    "           'flatten the curve', 'flattening the curve', 'quarantine', 'self-isolation',\n",
    "           'self-quarantine', 'fauci', 'lockdown', 'reopening the government', \n",
    "           'reopening', 'lockdown', 'social distancing', 'masks', 'state of emergency',\n",
    "           'shutdown', 'chinese virus', 'hydroxychloroquine']\n",
    "import GetOldTweets3 as got\n",
    "import csv\n",
    "cw = csv.writer(open(\"tweets.csv\", \"w\"))\n",
    "new_df = pd.DataFrame({\n",
    "    'name':[], 'twitter':[], 'party':[], 'tweet':[], 'tweet_published':[]\n",
    "})\n",
    "\n",
    "for index, row in df.head().iterrows():\n",
    "    # print(index, row['name'], row['twitter'], row['party'])\n",
    "    tweets_set = set()\n",
    "    for word in keywords:\n",
    "        tweet =  got.manager.TweetCriteria().setUsername(row['twitter'])\\\n",
    "                                                .setSince(\"2019-12-25\")\\\n",
    "                                                .setUntil(today_date)\\\n",
    "                                                .setQuerySearch(word)\n",
    "        tweetObj = got.manager.TweetManager.getTweets(tweet)\n",
    "        for tw in tweetObj:\n",
    "            tweets_set.add((tw.text, tw.date.strftime(\"%Y-%m-%d\")))\n",
    "    # print(tweets_hashmap)\n",
    "    print(row['twitter'])\n",
    "    \n",
    "    for tweet in tweets_set:\n",
    "        new_row  = {'name': row['name'], 'twitter': row['twitter'], 'party': row['party'], 'tweet': tweet[0],'tweet_published': tweet[1]}\n",
    "        new_df = new_df.append(new_row, ignore_index=True)\n",
    "new_df"
   ]
  },
  {
   "cell_type": "code",
   "execution_count": 6,
   "metadata": {},
   "outputs": [
    {
     "data": {
      "text/plain": [
       "702"
      ]
     },
     "execution_count": 6,
     "metadata": {},
     "output_type": "execute_result"
    }
   ],
   "source": [
    "len(new_df)"
   ]
  },
  {
   "cell_type": "code",
   "execution_count": 7,
   "metadata": {},
   "outputs": [],
   "source": [
    "new_df.to_csv('tweets.csv', encoding='utf-8')"
   ]
  },
  {
   "cell_type": "code",
   "execution_count": null,
   "metadata": {},
   "outputs": [],
   "source": []
  }
 ],
 "metadata": {
  "kernelspec": {
   "display_name": "Python 3",
   "language": "python",
   "name": "python3"
  },
  "language_info": {
   "codemirror_mode": {
    "name": "ipython",
    "version": 3
   },
   "file_extension": ".py",
   "mimetype": "text/x-python",
   "name": "python",
   "nbconvert_exporter": "python",
   "pygments_lexer": "ipython3",
   "version": "3.7.6"
  }
 },
 "nbformat": 4,
 "nbformat_minor": 4
}
