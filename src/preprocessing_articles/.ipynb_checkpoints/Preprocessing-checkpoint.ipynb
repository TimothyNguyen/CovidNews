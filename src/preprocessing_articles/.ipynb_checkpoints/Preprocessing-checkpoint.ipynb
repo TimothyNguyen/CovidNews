{
 "cells": [
  {
   "cell_type": "code",
   "execution_count": null,
   "metadata": {},
   "outputs": [],
   "source": [
    "# https://stackoverflow.com/questions/54501454/both-json-load-and-json-loads-is-unable-to-load-my-jsonl-file\n",
    "import csv, json, sys\n",
    "#if you are not using utf-8 files, remove the next line\n",
    "# sys.setdefaultencoding(\"UTF-8\") #set the encode to utf8\n",
    "#check if you pass the input file and output file\n",
    "'''\n",
    "fileInput = 'aylien-covid-news.jsonl'\n",
    "fileOutput = 'data.csv'\n",
    "inputFile = open(fileInput) #open json file\n",
    "outputFile = open(fileOutput, 'w') #load csv file\n",
    "data = json.loads(inputFile) #load json content\n",
    "inputFile.close() #close the input file\n",
    "output = csv.writer(outputFile) #create a csv.write\n",
    "output.writerow(data[0].keys())  # header row\n",
    "for row in data:\n",
    "    output.writerow(row.values()) #values row\n",
    "    break;\n",
    "'''\n",
    "data = []\n",
    "with open(\"aylien-covid-news.jsonl\", 'r', encoding='utf-8') as f:\n",
    "    for line in f:\n",
    "        data.append(json.loads(line))\n",
    "#data = np.array(data)\n",
    "#np.savetxt('array.csv', [arr], delimiter=',', fmt='%d')\n",
    "# data"
   ]
  },
  {
   "cell_type": "code",
   "execution_count": null,
   "metadata": {},
   "outputs": [],
   "source": [
    "# data[0]"
   ]
  },
  {
   "cell_type": "code",
   "execution_count": null,
   "metadata": {},
   "outputs": [],
   "source": [
    "import numpy\n",
    "data = numpy.array(data)\n",
    "#numpy.savetxt(\"foo.csv\", data, delimiter=\",\", fmt='%d')\n",
    "# data\n",
    "'''\n",
    "for key, value in data[0].items():\n",
    "    if(isinstance(value, dict)):\n",
    "        print(\"{}\".format(key))\n",
    "        for k, v in value.items():\n",
    "            print(\"{}: {}\".format(k, v))\n",
    "    else:\n",
    "        print(\"\\n{}: {}\".format(key, value))\n",
    "'''"
   ]
  },
  {
   "cell_type": "code",
   "execution_count": null,
   "metadata": {},
   "outputs": [],
   "source": [
    "answer = []\n",
    "for i in range(0, len(data)):\n",
    "    temp = {'name': '', 'id': 0, 'link': '', 'domain': '', 'home_page_url': '', 'body': '',\n",
    "            'hashtags': [], 'keywords': [], 'language': '', 'published_at': '', 'title': '', \n",
    "            'words_count': 0, 'summary': ''}\n",
    "    for key, value in data[i].items():\n",
    "        if(isinstance(value, dict)):\n",
    "            #print(\"{}\".format(key))\n",
    "            for k, v in value.items():\n",
    "                #print(\"{}: {}\".format(k, v))\n",
    "                if(k == 'name'):\n",
    "                    temp['name'] = v\n",
    "                elif(k == 'id'):\n",
    "                    temp['id'] = v\n",
    "                elif(k == 'permalink'):\n",
    "                    temp['link'] = v\n",
    "                elif(k == 'domain'):\n",
    "                    temp['domain'] = v\n",
    "                elif(k == 'home_page_url'):\n",
    "                    temp['home_page_url'] = v\n",
    "                elif(k == 'sentences'):\n",
    "                    temp['summary'] = v\n",
    "        else:\n",
    "            #print(\"\\n{}: {}\".format(key, value))\n",
    "            if(key == 'body'):\n",
    "                temp['body'] = value\n",
    "            elif(key == 'hashtags'):\n",
    "                temp['hashtags'] = value\n",
    "            elif(key == 'keywords'):\n",
    "                temp['keywords'] = value\n",
    "            elif(key == 'language'):\n",
    "                temp['language'] = value\n",
    "            elif(key == 'published_at'):\n",
    "                temp['published_at'] = value\n",
    "            elif(key == 'title'):\n",
    "                temp['title'] = value\n",
    "            elif(key == 'words_count'):\n",
    "                temp['words_count'] = value\n",
    "    answer.append(temp)"
   ]
  },
  {
   "cell_type": "code",
   "execution_count": null,
   "metadata": {},
   "outputs": [],
   "source": [
    "#data[0]"
   ]
  },
  {
   "cell_type": "code",
   "execution_count": null,
   "metadata": {},
   "outputs": [],
   "source": [
    "import numpy as np\n",
    "answer = []\n",
    "for i in range(0, len(data)):\n",
    "    temp = {'title': '', 'body': '', 'name': '', 'link': '', 'home_page_url': '', 'domain': '', 'summary': [],\n",
    "            'locations': [], 'language': '', 'published_at': np.nan, 'words_count': np.nan, 'facebook': [], \n",
    "            'linkedin': [], 'reddit': [], 'google_plus': []}\n",
    "    for key, value in data[i].items():\n",
    "        if(isinstance(value, dict)):\n",
    "            #print(\"Key {}\".format(key))\n",
    "            for k, v in value.items():\n",
    "                #print(\"{}: {}\".format(k, v))\n",
    "                if(k == 'name'):\n",
    "                    temp['name'] = v\n",
    "                elif(k == 'permalink'):\n",
    "                    temp['link'] = v\n",
    "                elif(k == 'home_page_url'):\n",
    "                    temp['home_page_url'] = v\n",
    "                elif(k == 'domain'):\n",
    "                    temp['domain'] = v\n",
    "                elif(k == 'sentences'):\n",
    "                    temp['summary'] = v\n",
    "                elif(k == 'locations'):\n",
    "                    temp['locations'] = v\n",
    "                elif(k == 'facebook'):\n",
    "                    temp['facebook'] = v\n",
    "                elif(k == 'linkedin'):\n",
    "                    temp['linkedin'] = v\n",
    "                elif(k == 'google_plus'):\n",
    "                    temp['google_plus'] = v\n",
    "                elif(k == 'reddit'):\n",
    "                    temp['reddit'] = v\n",
    "            #print(\"\\n\")\n",
    "        else:\n",
    "            #print(\"{}: {}\\n\".format(key, value))\n",
    "            if(key == 'body'):\n",
    "                temp['body'] = value\n",
    "            elif(key == 'hashtags'):\n",
    "                temp['hashtags'] = value\n",
    "            elif(key == 'language'):\n",
    "                temp['language'] = value\n",
    "            elif(key == 'published_at'):\n",
    "                temp['published_at'] = value\n",
    "            elif(key == 'title'):\n",
    "                temp['title'] = value\n",
    "            elif(key == 'words_count'):\n",
    "                temp['words_count'] = value\n",
    "    answer.append(temp)"
   ]
  },
  {
   "cell_type": "code",
   "execution_count": null,
   "metadata": {},
   "outputs": [],
   "source": [
    "# temp"
   ]
  },
  {
   "cell_type": "code",
   "execution_count": null,
   "metadata": {},
   "outputs": [],
   "source": [
    "import pandas as pd\n",
    "#df = pd.DataFrame.from_dict(temp, orient='index')\n",
    "df = pd.DataFrame(answer)\n",
    "df.head(5)"
   ]
  },
  {
   "cell_type": "code",
   "execution_count": null,
   "metadata": {},
   "outputs": [],
   "source": [
    "df.to_csv('data.csv', encoding='utf-8')"
   ]
  },
  {
   "cell_type": "code",
   "execution_count": null,
   "metadata": {},
   "outputs": [],
   "source": []
  },
  {
   "cell_type": "code",
   "execution_count": null,
   "metadata": {},
   "outputs": [],
   "source": []
  }
 ],
 "metadata": {
  "kernelspec": {
   "display_name": "Python 3",
   "language": "python",
   "name": "python3"
  },
  "language_info": {
   "codemirror_mode": {
    "name": "ipython",
    "version": 3
   },
   "file_extension": ".py",
   "mimetype": "text/x-python",
   "name": "python",
   "nbconvert_exporter": "python",
   "pygments_lexer": "ipython3",
   "version": "3.7.6"
  }
 },
 "nbformat": 4,
 "nbformat_minor": 4
}
